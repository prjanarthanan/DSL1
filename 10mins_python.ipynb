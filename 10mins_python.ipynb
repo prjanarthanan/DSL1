{
  "nbformat": 4,
  "nbformat_minor": 0,
  "metadata": {
    "colab": {
      "name": "10mins python.ipynb",
      "provenance": [],
      "authorship_tag": "ABX9TyOa+OMMPasUTg3LDsGlH86T",
      "include_colab_link": true
    },
    "kernelspec": {
      "name": "python3",
      "display_name": "Python 3"
    }
  },
  "cells": [
    {
      "cell_type": "markdown",
      "metadata": {
        "id": "view-in-github",
        "colab_type": "text"
      },
      "source": [
        "<a href=\"https://colab.research.google.com/github/prjanarthanan/Pandas/blob/master/10mins_python.ipynb\" target=\"_parent\"><img src=\"https://colab.research.google.com/assets/colab-badge.svg\" alt=\"Open In Colab\"/></a>"
      ]
    },
    {
      "cell_type": "markdown",
      "metadata": {
        "id": "fvSGVVeoSZ03",
        "colab_type": "text"
      },
      "source": [
        "**Object Creation**"
      ]
    },
    {
      "cell_type": "code",
      "metadata": {
        "id": "ogbzNIlhSfDK",
        "colab_type": "code",
        "colab": {}
      },
      "source": [
        "import pandas as pd\n",
        "import numpy as np"
      ],
      "execution_count": 1,
      "outputs": []
    },
    {
      "cell_type": "code",
      "metadata": {
        "id": "B34JYCUdYGIq",
        "colab_type": "code",
        "colab": {}
      },
      "source": [
        ""
      ],
      "execution_count": 1,
      "outputs": []
    },
    {
      "cell_type": "code",
      "metadata": {
        "id": "LS4UvZxXSjy9",
        "colab_type": "code",
        "colab": {
          "base_uri": "https://localhost:8080/",
          "height": 136
        },
        "outputId": "5069fe65-4822-4e88-b572-716c99f16bf0"
      },
      "source": [
        "s = pd.Series([1, 3, 5, np.nan, 6, 8])\n",
        "s"
      ],
      "execution_count": 2,
      "outputs": [
        {
          "output_type": "execute_result",
          "data": {
            "text/plain": [
              "0    1.0\n",
              "1    3.0\n",
              "2    5.0\n",
              "3    NaN\n",
              "4    6.0\n",
              "5    8.0\n",
              "dtype: float64"
            ]
          },
          "metadata": {
            "tags": []
          },
          "execution_count": 2
        }
      ]
    },
    {
      "cell_type": "code",
      "metadata": {
        "id": "SEwtWyh4SonT",
        "colab_type": "code",
        "colab": {
          "base_uri": "https://localhost:8080/",
          "height": 68
        },
        "outputId": "72bf9b58-79e1-4c09-f4f4-bd6e35e95405"
      },
      "source": [
        "dates = pd.date_range('20130101', periods=6)\n",
        "dates"
      ],
      "execution_count": 3,
      "outputs": [
        {
          "output_type": "execute_result",
          "data": {
            "text/plain": [
              "DatetimeIndex(['2013-01-01', '2013-01-02', '2013-01-03', '2013-01-04',\n",
              "               '2013-01-05', '2013-01-06'],\n",
              "              dtype='datetime64[ns]', freq='D')"
            ]
          },
          "metadata": {
            "tags": []
          },
          "execution_count": 3
        }
      ]
    },
    {
      "cell_type": "code",
      "metadata": {
        "id": "d0seOqX8SrtL",
        "colab_type": "code",
        "colab": {
          "base_uri": "https://localhost:8080/",
          "height": 235
        },
        "outputId": "732b2191-e407-4d2a-b680-55e41f273038"
      },
      "source": [
        "df = pd.DataFrame(np.random.randn(6, 4), index=dates, columns=list('ABCD'))\n",
        "df"
      ],
      "execution_count": 4,
      "outputs": [
        {
          "output_type": "execute_result",
          "data": {
            "text/html": [
              "<div>\n",
              "<style scoped>\n",
              "    .dataframe tbody tr th:only-of-type {\n",
              "        vertical-align: middle;\n",
              "    }\n",
              "\n",
              "    .dataframe tbody tr th {\n",
              "        vertical-align: top;\n",
              "    }\n",
              "\n",
              "    .dataframe thead th {\n",
              "        text-align: right;\n",
              "    }\n",
              "</style>\n",
              "<table border=\"1\" class=\"dataframe\">\n",
              "  <thead>\n",
              "    <tr style=\"text-align: right;\">\n",
              "      <th></th>\n",
              "      <th>A</th>\n",
              "      <th>B</th>\n",
              "      <th>C</th>\n",
              "      <th>D</th>\n",
              "    </tr>\n",
              "  </thead>\n",
              "  <tbody>\n",
              "    <tr>\n",
              "      <th>2013-01-01</th>\n",
              "      <td>0.533269</td>\n",
              "      <td>-0.715619</td>\n",
              "      <td>-0.504459</td>\n",
              "      <td>1.528365</td>\n",
              "    </tr>\n",
              "    <tr>\n",
              "      <th>2013-01-02</th>\n",
              "      <td>-0.369767</td>\n",
              "      <td>2.553829</td>\n",
              "      <td>0.581354</td>\n",
              "      <td>0.059654</td>\n",
              "    </tr>\n",
              "    <tr>\n",
              "      <th>2013-01-03</th>\n",
              "      <td>0.467891</td>\n",
              "      <td>1.286483</td>\n",
              "      <td>-0.956606</td>\n",
              "      <td>-0.413814</td>\n",
              "    </tr>\n",
              "    <tr>\n",
              "      <th>2013-01-04</th>\n",
              "      <td>0.106568</td>\n",
              "      <td>-0.751591</td>\n",
              "      <td>0.177504</td>\n",
              "      <td>-0.271830</td>\n",
              "    </tr>\n",
              "    <tr>\n",
              "      <th>2013-01-05</th>\n",
              "      <td>0.207494</td>\n",
              "      <td>-1.529529</td>\n",
              "      <td>-1.530869</td>\n",
              "      <td>-0.186308</td>\n",
              "    </tr>\n",
              "    <tr>\n",
              "      <th>2013-01-06</th>\n",
              "      <td>0.581419</td>\n",
              "      <td>0.032184</td>\n",
              "      <td>-0.892911</td>\n",
              "      <td>-1.395540</td>\n",
              "    </tr>\n",
              "  </tbody>\n",
              "</table>\n",
              "</div>"
            ],
            "text/plain": [
              "                   A         B         C         D\n",
              "2013-01-01  0.533269 -0.715619 -0.504459  1.528365\n",
              "2013-01-02 -0.369767  2.553829  0.581354  0.059654\n",
              "2013-01-03  0.467891  1.286483 -0.956606 -0.413814\n",
              "2013-01-04  0.106568 -0.751591  0.177504 -0.271830\n",
              "2013-01-05  0.207494 -1.529529 -1.530869 -0.186308\n",
              "2013-01-06  0.581419  0.032184 -0.892911 -1.395540"
            ]
          },
          "metadata": {
            "tags": []
          },
          "execution_count": 4
        }
      ]
    },
    {
      "cell_type": "code",
      "metadata": {
        "id": "WyhMjjyGSt5z",
        "colab_type": "code",
        "colab": {
          "base_uri": "https://localhost:8080/",
          "height": 173
        },
        "outputId": "ef6a0e72-a255-4fe6-ba29-c222a18ab00f"
      },
      "source": [
        "df2 = pd.DataFrame({'A': 1.,\n",
        "                    'B': pd.Timestamp('20130102'),\n",
        "                    'C': pd.Series(1, index=list(range(4)), dtype='float32'),\n",
        "                    'D': np.array([3] * 4, dtype='int32'),\n",
        "                    'E': pd.Categorical([\"test\", \"train\", \"test\", \"train\"]),\n",
        "                    'F': 'foo'})\n",
        "df2"
      ],
      "execution_count": 5,
      "outputs": [
        {
          "output_type": "execute_result",
          "data": {
            "text/html": [
              "<div>\n",
              "<style scoped>\n",
              "    .dataframe tbody tr th:only-of-type {\n",
              "        vertical-align: middle;\n",
              "    }\n",
              "\n",
              "    .dataframe tbody tr th {\n",
              "        vertical-align: top;\n",
              "    }\n",
              "\n",
              "    .dataframe thead th {\n",
              "        text-align: right;\n",
              "    }\n",
              "</style>\n",
              "<table border=\"1\" class=\"dataframe\">\n",
              "  <thead>\n",
              "    <tr style=\"text-align: right;\">\n",
              "      <th></th>\n",
              "      <th>A</th>\n",
              "      <th>B</th>\n",
              "      <th>C</th>\n",
              "      <th>D</th>\n",
              "      <th>E</th>\n",
              "      <th>F</th>\n",
              "    </tr>\n",
              "  </thead>\n",
              "  <tbody>\n",
              "    <tr>\n",
              "      <th>0</th>\n",
              "      <td>1.0</td>\n",
              "      <td>2013-01-02</td>\n",
              "      <td>1.0</td>\n",
              "      <td>3</td>\n",
              "      <td>test</td>\n",
              "      <td>foo</td>\n",
              "    </tr>\n",
              "    <tr>\n",
              "      <th>1</th>\n",
              "      <td>1.0</td>\n",
              "      <td>2013-01-02</td>\n",
              "      <td>1.0</td>\n",
              "      <td>3</td>\n",
              "      <td>train</td>\n",
              "      <td>foo</td>\n",
              "    </tr>\n",
              "    <tr>\n",
              "      <th>2</th>\n",
              "      <td>1.0</td>\n",
              "      <td>2013-01-02</td>\n",
              "      <td>1.0</td>\n",
              "      <td>3</td>\n",
              "      <td>test</td>\n",
              "      <td>foo</td>\n",
              "    </tr>\n",
              "    <tr>\n",
              "      <th>3</th>\n",
              "      <td>1.0</td>\n",
              "      <td>2013-01-02</td>\n",
              "      <td>1.0</td>\n",
              "      <td>3</td>\n",
              "      <td>train</td>\n",
              "      <td>foo</td>\n",
              "    </tr>\n",
              "  </tbody>\n",
              "</table>\n",
              "</div>"
            ],
            "text/plain": [
              "     A          B    C  D      E    F\n",
              "0  1.0 2013-01-02  1.0  3   test  foo\n",
              "1  1.0 2013-01-02  1.0  3  train  foo\n",
              "2  1.0 2013-01-02  1.0  3   test  foo\n",
              "3  1.0 2013-01-02  1.0  3  train  foo"
            ]
          },
          "metadata": {
            "tags": []
          },
          "execution_count": 5
        }
      ]
    },
    {
      "cell_type": "code",
      "metadata": {
        "id": "DlGIv-XgSwRD",
        "colab_type": "code",
        "colab": {
          "base_uri": "https://localhost:8080/",
          "height": 136
        },
        "outputId": "b297fcff-0d92-4c96-942a-5151dd0137cf"
      },
      "source": [
        "df2.dtypes"
      ],
      "execution_count": 6,
      "outputs": [
        {
          "output_type": "execute_result",
          "data": {
            "text/plain": [
              "A           float64\n",
              "B    datetime64[ns]\n",
              "C           float32\n",
              "D             int32\n",
              "E          category\n",
              "F            object\n",
              "dtype: object"
            ]
          },
          "metadata": {
            "tags": []
          },
          "execution_count": 6
        }
      ]
    },
    {
      "cell_type": "markdown",
      "metadata": {
        "id": "JD1kNFQMS2nY",
        "colab_type": "text"
      },
      "source": [
        "**Viewing Data**"
      ]
    },
    {
      "cell_type": "code",
      "metadata": {
        "id": "5x4a1YWFS7W0",
        "colab_type": "code",
        "colab": {
          "base_uri": "https://localhost:8080/",
          "height": 204
        },
        "outputId": "e12f733a-a191-4fc7-e17a-f5fb9018b6ac"
      },
      "source": [
        "df.head()"
      ],
      "execution_count": 7,
      "outputs": [
        {
          "output_type": "execute_result",
          "data": {
            "text/html": [
              "<div>\n",
              "<style scoped>\n",
              "    .dataframe tbody tr th:only-of-type {\n",
              "        vertical-align: middle;\n",
              "    }\n",
              "\n",
              "    .dataframe tbody tr th {\n",
              "        vertical-align: top;\n",
              "    }\n",
              "\n",
              "    .dataframe thead th {\n",
              "        text-align: right;\n",
              "    }\n",
              "</style>\n",
              "<table border=\"1\" class=\"dataframe\">\n",
              "  <thead>\n",
              "    <tr style=\"text-align: right;\">\n",
              "      <th></th>\n",
              "      <th>A</th>\n",
              "      <th>B</th>\n",
              "      <th>C</th>\n",
              "      <th>D</th>\n",
              "    </tr>\n",
              "  </thead>\n",
              "  <tbody>\n",
              "    <tr>\n",
              "      <th>2013-01-01</th>\n",
              "      <td>0.533269</td>\n",
              "      <td>-0.715619</td>\n",
              "      <td>-0.504459</td>\n",
              "      <td>1.528365</td>\n",
              "    </tr>\n",
              "    <tr>\n",
              "      <th>2013-01-02</th>\n",
              "      <td>-0.369767</td>\n",
              "      <td>2.553829</td>\n",
              "      <td>0.581354</td>\n",
              "      <td>0.059654</td>\n",
              "    </tr>\n",
              "    <tr>\n",
              "      <th>2013-01-03</th>\n",
              "      <td>0.467891</td>\n",
              "      <td>1.286483</td>\n",
              "      <td>-0.956606</td>\n",
              "      <td>-0.413814</td>\n",
              "    </tr>\n",
              "    <tr>\n",
              "      <th>2013-01-04</th>\n",
              "      <td>0.106568</td>\n",
              "      <td>-0.751591</td>\n",
              "      <td>0.177504</td>\n",
              "      <td>-0.271830</td>\n",
              "    </tr>\n",
              "    <tr>\n",
              "      <th>2013-01-05</th>\n",
              "      <td>0.207494</td>\n",
              "      <td>-1.529529</td>\n",
              "      <td>-1.530869</td>\n",
              "      <td>-0.186308</td>\n",
              "    </tr>\n",
              "  </tbody>\n",
              "</table>\n",
              "</div>"
            ],
            "text/plain": [
              "                   A         B         C         D\n",
              "2013-01-01  0.533269 -0.715619 -0.504459  1.528365\n",
              "2013-01-02 -0.369767  2.553829  0.581354  0.059654\n",
              "2013-01-03  0.467891  1.286483 -0.956606 -0.413814\n",
              "2013-01-04  0.106568 -0.751591  0.177504 -0.271830\n",
              "2013-01-05  0.207494 -1.529529 -1.530869 -0.186308"
            ]
          },
          "metadata": {
            "tags": []
          },
          "execution_count": 7
        }
      ]
    },
    {
      "cell_type": "code",
      "metadata": {
        "id": "Yxvwrd_kTaiY",
        "colab_type": "code",
        "colab": {
          "base_uri": "https://localhost:8080/",
          "height": 142
        },
        "outputId": "9b175456-03ab-4a81-c228-e3d4adfef5cd"
      },
      "source": [
        "df.tail(3)"
      ],
      "execution_count": 8,
      "outputs": [
        {
          "output_type": "execute_result",
          "data": {
            "text/html": [
              "<div>\n",
              "<style scoped>\n",
              "    .dataframe tbody tr th:only-of-type {\n",
              "        vertical-align: middle;\n",
              "    }\n",
              "\n",
              "    .dataframe tbody tr th {\n",
              "        vertical-align: top;\n",
              "    }\n",
              "\n",
              "    .dataframe thead th {\n",
              "        text-align: right;\n",
              "    }\n",
              "</style>\n",
              "<table border=\"1\" class=\"dataframe\">\n",
              "  <thead>\n",
              "    <tr style=\"text-align: right;\">\n",
              "      <th></th>\n",
              "      <th>A</th>\n",
              "      <th>B</th>\n",
              "      <th>C</th>\n",
              "      <th>D</th>\n",
              "    </tr>\n",
              "  </thead>\n",
              "  <tbody>\n",
              "    <tr>\n",
              "      <th>2013-01-04</th>\n",
              "      <td>0.106568</td>\n",
              "      <td>-0.751591</td>\n",
              "      <td>0.177504</td>\n",
              "      <td>-0.271830</td>\n",
              "    </tr>\n",
              "    <tr>\n",
              "      <th>2013-01-05</th>\n",
              "      <td>0.207494</td>\n",
              "      <td>-1.529529</td>\n",
              "      <td>-1.530869</td>\n",
              "      <td>-0.186308</td>\n",
              "    </tr>\n",
              "    <tr>\n",
              "      <th>2013-01-06</th>\n",
              "      <td>0.581419</td>\n",
              "      <td>0.032184</td>\n",
              "      <td>-0.892911</td>\n",
              "      <td>-1.395540</td>\n",
              "    </tr>\n",
              "  </tbody>\n",
              "</table>\n",
              "</div>"
            ],
            "text/plain": [
              "                   A         B         C         D\n",
              "2013-01-04  0.106568 -0.751591  0.177504 -0.271830\n",
              "2013-01-05  0.207494 -1.529529 -1.530869 -0.186308\n",
              "2013-01-06  0.581419  0.032184 -0.892911 -1.395540"
            ]
          },
          "metadata": {
            "tags": []
          },
          "execution_count": 8
        }
      ]
    },
    {
      "cell_type": "code",
      "metadata": {
        "id": "C_HQa8dMTcjf",
        "colab_type": "code",
        "colab": {
          "base_uri": "https://localhost:8080/",
          "height": 68
        },
        "outputId": "ae7aa567-4f63-48ee-fed0-352d51ab2cb5"
      },
      "source": [
        "df.index"
      ],
      "execution_count": 9,
      "outputs": [
        {
          "output_type": "execute_result",
          "data": {
            "text/plain": [
              "DatetimeIndex(['2013-01-01', '2013-01-02', '2013-01-03', '2013-01-04',\n",
              "               '2013-01-05', '2013-01-06'],\n",
              "              dtype='datetime64[ns]', freq='D')"
            ]
          },
          "metadata": {
            "tags": []
          },
          "execution_count": 9
        }
      ]
    },
    {
      "cell_type": "code",
      "metadata": {
        "id": "bNAREIOhTeR8",
        "colab_type": "code",
        "colab": {
          "base_uri": "https://localhost:8080/",
          "height": 34
        },
        "outputId": "6852c85d-da45-4c79-ab37-1e421ac1cbda"
      },
      "source": [
        "df.columns"
      ],
      "execution_count": 10,
      "outputs": [
        {
          "output_type": "execute_result",
          "data": {
            "text/plain": [
              "Index(['A', 'B', 'C', 'D'], dtype='object')"
            ]
          },
          "metadata": {
            "tags": []
          },
          "execution_count": 10
        }
      ]
    },
    {
      "cell_type": "code",
      "metadata": {
        "id": "ivrlHGk9Tf0t",
        "colab_type": "code",
        "colab": {
          "base_uri": "https://localhost:8080/",
          "height": 119
        },
        "outputId": "b8ce864b-49bc-4eb5-f071-fd7733821f4d"
      },
      "source": [
        "df.to_numpy()"
      ],
      "execution_count": 11,
      "outputs": [
        {
          "output_type": "execute_result",
          "data": {
            "text/plain": [
              "array([[ 0.53326872, -0.71561942, -0.50445879,  1.52836465],\n",
              "       [-0.36976722,  2.55382876,  0.58135384,  0.05965379],\n",
              "       [ 0.46789116,  1.28648345, -0.95660618, -0.41381439],\n",
              "       [ 0.10656821, -0.75159065,  0.17750363, -0.27182977],\n",
              "       [ 0.20749379, -1.52952917, -1.53086943, -0.18630796],\n",
              "       [ 0.58141938,  0.03218427, -0.89291079, -1.39554013]])"
            ]
          },
          "metadata": {
            "tags": []
          },
          "execution_count": 11
        }
      ]
    },
    {
      "cell_type": "code",
      "metadata": {
        "id": "io4YUsqVUDNI",
        "colab_type": "code",
        "colab": {
          "base_uri": "https://localhost:8080/",
          "height": 173
        },
        "outputId": "1a1947af-e182-4990-9c50-1e6ed8dae16f"
      },
      "source": [
        "df2.head()"
      ],
      "execution_count": 12,
      "outputs": [
        {
          "output_type": "execute_result",
          "data": {
            "text/html": [
              "<div>\n",
              "<style scoped>\n",
              "    .dataframe tbody tr th:only-of-type {\n",
              "        vertical-align: middle;\n",
              "    }\n",
              "\n",
              "    .dataframe tbody tr th {\n",
              "        vertical-align: top;\n",
              "    }\n",
              "\n",
              "    .dataframe thead th {\n",
              "        text-align: right;\n",
              "    }\n",
              "</style>\n",
              "<table border=\"1\" class=\"dataframe\">\n",
              "  <thead>\n",
              "    <tr style=\"text-align: right;\">\n",
              "      <th></th>\n",
              "      <th>A</th>\n",
              "      <th>B</th>\n",
              "      <th>C</th>\n",
              "      <th>D</th>\n",
              "      <th>E</th>\n",
              "      <th>F</th>\n",
              "    </tr>\n",
              "  </thead>\n",
              "  <tbody>\n",
              "    <tr>\n",
              "      <th>0</th>\n",
              "      <td>1.0</td>\n",
              "      <td>2013-01-02</td>\n",
              "      <td>1.0</td>\n",
              "      <td>3</td>\n",
              "      <td>test</td>\n",
              "      <td>foo</td>\n",
              "    </tr>\n",
              "    <tr>\n",
              "      <th>1</th>\n",
              "      <td>1.0</td>\n",
              "      <td>2013-01-02</td>\n",
              "      <td>1.0</td>\n",
              "      <td>3</td>\n",
              "      <td>train</td>\n",
              "      <td>foo</td>\n",
              "    </tr>\n",
              "    <tr>\n",
              "      <th>2</th>\n",
              "      <td>1.0</td>\n",
              "      <td>2013-01-02</td>\n",
              "      <td>1.0</td>\n",
              "      <td>3</td>\n",
              "      <td>test</td>\n",
              "      <td>foo</td>\n",
              "    </tr>\n",
              "    <tr>\n",
              "      <th>3</th>\n",
              "      <td>1.0</td>\n",
              "      <td>2013-01-02</td>\n",
              "      <td>1.0</td>\n",
              "      <td>3</td>\n",
              "      <td>train</td>\n",
              "      <td>foo</td>\n",
              "    </tr>\n",
              "  </tbody>\n",
              "</table>\n",
              "</div>"
            ],
            "text/plain": [
              "     A          B    C  D      E    F\n",
              "0  1.0 2013-01-02  1.0  3   test  foo\n",
              "1  1.0 2013-01-02  1.0  3  train  foo\n",
              "2  1.0 2013-01-02  1.0  3   test  foo\n",
              "3  1.0 2013-01-02  1.0  3  train  foo"
            ]
          },
          "metadata": {
            "tags": []
          },
          "execution_count": 12
        }
      ]
    },
    {
      "cell_type": "code",
      "metadata": {
        "id": "B61naAdXTh2U",
        "colab_type": "code",
        "colab": {
          "base_uri": "https://localhost:8080/",
          "height": 102
        },
        "outputId": "f6e5b2c4-5c55-4f82-ae57-688a72f3ea6a"
      },
      "source": [
        "df2.to_numpy()"
      ],
      "execution_count": 13,
      "outputs": [
        {
          "output_type": "execute_result",
          "data": {
            "text/plain": [
              "array([[1.0, Timestamp('2013-01-02 00:00:00'), 1.0, 3, 'test', 'foo'],\n",
              "       [1.0, Timestamp('2013-01-02 00:00:00'), 1.0, 3, 'train', 'foo'],\n",
              "       [1.0, Timestamp('2013-01-02 00:00:00'), 1.0, 3, 'test', 'foo'],\n",
              "       [1.0, Timestamp('2013-01-02 00:00:00'), 1.0, 3, 'train', 'foo']],\n",
              "      dtype=object)"
            ]
          },
          "metadata": {
            "tags": []
          },
          "execution_count": 13
        }
      ]
    },
    {
      "cell_type": "code",
      "metadata": {
        "id": "kdf5wi1CUFgM",
        "colab_type": "code",
        "colab": {
          "base_uri": "https://localhost:8080/",
          "height": 297
        },
        "outputId": "eeecf967-6eb7-417e-b7b1-8d64eb8cce3c"
      },
      "source": [
        "df.describe()"
      ],
      "execution_count": 14,
      "outputs": [
        {
          "output_type": "execute_result",
          "data": {
            "text/html": [
              "<div>\n",
              "<style scoped>\n",
              "    .dataframe tbody tr th:only-of-type {\n",
              "        vertical-align: middle;\n",
              "    }\n",
              "\n",
              "    .dataframe tbody tr th {\n",
              "        vertical-align: top;\n",
              "    }\n",
              "\n",
              "    .dataframe thead th {\n",
              "        text-align: right;\n",
              "    }\n",
              "</style>\n",
              "<table border=\"1\" class=\"dataframe\">\n",
              "  <thead>\n",
              "    <tr style=\"text-align: right;\">\n",
              "      <th></th>\n",
              "      <th>A</th>\n",
              "      <th>B</th>\n",
              "      <th>C</th>\n",
              "      <th>D</th>\n",
              "    </tr>\n",
              "  </thead>\n",
              "  <tbody>\n",
              "    <tr>\n",
              "      <th>count</th>\n",
              "      <td>6.000000</td>\n",
              "      <td>6.000000</td>\n",
              "      <td>6.000000</td>\n",
              "      <td>6.000000</td>\n",
              "    </tr>\n",
              "    <tr>\n",
              "      <th>mean</th>\n",
              "      <td>0.254479</td>\n",
              "      <td>0.145960</td>\n",
              "      <td>-0.520998</td>\n",
              "      <td>-0.113246</td>\n",
              "    </tr>\n",
              "    <tr>\n",
              "      <th>std</th>\n",
              "      <td>0.358867</td>\n",
              "      <td>1.514381</td>\n",
              "      <td>0.781188</td>\n",
              "      <td>0.947617</td>\n",
              "    </tr>\n",
              "    <tr>\n",
              "      <th>min</th>\n",
              "      <td>-0.369767</td>\n",
              "      <td>-1.529529</td>\n",
              "      <td>-1.530869</td>\n",
              "      <td>-1.395540</td>\n",
              "    </tr>\n",
              "    <tr>\n",
              "      <th>25%</th>\n",
              "      <td>0.131800</td>\n",
              "      <td>-0.742598</td>\n",
              "      <td>-0.940682</td>\n",
              "      <td>-0.378318</td>\n",
              "    </tr>\n",
              "    <tr>\n",
              "      <th>50%</th>\n",
              "      <td>0.337692</td>\n",
              "      <td>-0.341718</td>\n",
              "      <td>-0.698685</td>\n",
              "      <td>-0.229069</td>\n",
              "    </tr>\n",
              "    <tr>\n",
              "      <th>75%</th>\n",
              "      <td>0.516924</td>\n",
              "      <td>0.972909</td>\n",
              "      <td>0.007013</td>\n",
              "      <td>-0.001837</td>\n",
              "    </tr>\n",
              "    <tr>\n",
              "      <th>max</th>\n",
              "      <td>0.581419</td>\n",
              "      <td>2.553829</td>\n",
              "      <td>0.581354</td>\n",
              "      <td>1.528365</td>\n",
              "    </tr>\n",
              "  </tbody>\n",
              "</table>\n",
              "</div>"
            ],
            "text/plain": [
              "              A         B         C         D\n",
              "count  6.000000  6.000000  6.000000  6.000000\n",
              "mean   0.254479  0.145960 -0.520998 -0.113246\n",
              "std    0.358867  1.514381  0.781188  0.947617\n",
              "min   -0.369767 -1.529529 -1.530869 -1.395540\n",
              "25%    0.131800 -0.742598 -0.940682 -0.378318\n",
              "50%    0.337692 -0.341718 -0.698685 -0.229069\n",
              "75%    0.516924  0.972909  0.007013 -0.001837\n",
              "max    0.581419  2.553829  0.581354  1.528365"
            ]
          },
          "metadata": {
            "tags": []
          },
          "execution_count": 14
        }
      ]
    },
    {
      "cell_type": "markdown",
      "metadata": {
        "id": "LYkIg101Uf_-",
        "colab_type": "text"
      },
      "source": [
        "**Transpose**\n",
        "*Converting the index as column and column as index*"
      ]
    },
    {
      "cell_type": "code",
      "metadata": {
        "id": "L9_fS6PKUJZf",
        "colab_type": "code",
        "colab": {
          "base_uri": "https://localhost:8080/",
          "height": 173
        },
        "outputId": "838796fa-f4ec-42f1-e964-4d8b0037da72"
      },
      "source": [
        "df.T"
      ],
      "execution_count": 15,
      "outputs": [
        {
          "output_type": "execute_result",
          "data": {
            "text/html": [
              "<div>\n",
              "<style scoped>\n",
              "    .dataframe tbody tr th:only-of-type {\n",
              "        vertical-align: middle;\n",
              "    }\n",
              "\n",
              "    .dataframe tbody tr th {\n",
              "        vertical-align: top;\n",
              "    }\n",
              "\n",
              "    .dataframe thead th {\n",
              "        text-align: right;\n",
              "    }\n",
              "</style>\n",
              "<table border=\"1\" class=\"dataframe\">\n",
              "  <thead>\n",
              "    <tr style=\"text-align: right;\">\n",
              "      <th></th>\n",
              "      <th>2013-01-01</th>\n",
              "      <th>2013-01-02</th>\n",
              "      <th>2013-01-03</th>\n",
              "      <th>2013-01-04</th>\n",
              "      <th>2013-01-05</th>\n",
              "      <th>2013-01-06</th>\n",
              "    </tr>\n",
              "  </thead>\n",
              "  <tbody>\n",
              "    <tr>\n",
              "      <th>A</th>\n",
              "      <td>0.533269</td>\n",
              "      <td>-0.369767</td>\n",
              "      <td>0.467891</td>\n",
              "      <td>0.106568</td>\n",
              "      <td>0.207494</td>\n",
              "      <td>0.581419</td>\n",
              "    </tr>\n",
              "    <tr>\n",
              "      <th>B</th>\n",
              "      <td>-0.715619</td>\n",
              "      <td>2.553829</td>\n",
              "      <td>1.286483</td>\n",
              "      <td>-0.751591</td>\n",
              "      <td>-1.529529</td>\n",
              "      <td>0.032184</td>\n",
              "    </tr>\n",
              "    <tr>\n",
              "      <th>C</th>\n",
              "      <td>-0.504459</td>\n",
              "      <td>0.581354</td>\n",
              "      <td>-0.956606</td>\n",
              "      <td>0.177504</td>\n",
              "      <td>-1.530869</td>\n",
              "      <td>-0.892911</td>\n",
              "    </tr>\n",
              "    <tr>\n",
              "      <th>D</th>\n",
              "      <td>1.528365</td>\n",
              "      <td>0.059654</td>\n",
              "      <td>-0.413814</td>\n",
              "      <td>-0.271830</td>\n",
              "      <td>-0.186308</td>\n",
              "      <td>-1.395540</td>\n",
              "    </tr>\n",
              "  </tbody>\n",
              "</table>\n",
              "</div>"
            ],
            "text/plain": [
              "   2013-01-01  2013-01-02  2013-01-03  2013-01-04  2013-01-05  2013-01-06\n",
              "A    0.533269   -0.369767    0.467891    0.106568    0.207494    0.581419\n",
              "B   -0.715619    2.553829    1.286483   -0.751591   -1.529529    0.032184\n",
              "C   -0.504459    0.581354   -0.956606    0.177504   -1.530869   -0.892911\n",
              "D    1.528365    0.059654   -0.413814   -0.271830   -0.186308   -1.395540"
            ]
          },
          "metadata": {
            "tags": []
          },
          "execution_count": 15
        }
      ]
    },
    {
      "cell_type": "code",
      "metadata": {
        "id": "bVCIz3AYUl65",
        "colab_type": "code",
        "colab": {
          "base_uri": "https://localhost:8080/",
          "height": 235
        },
        "outputId": "451a6481-a766-46e0-d137-a913685d680b"
      },
      "source": [
        "df.sort_index(axis=1, ascending=False)"
      ],
      "execution_count": 16,
      "outputs": [
        {
          "output_type": "execute_result",
          "data": {
            "text/html": [
              "<div>\n",
              "<style scoped>\n",
              "    .dataframe tbody tr th:only-of-type {\n",
              "        vertical-align: middle;\n",
              "    }\n",
              "\n",
              "    .dataframe tbody tr th {\n",
              "        vertical-align: top;\n",
              "    }\n",
              "\n",
              "    .dataframe thead th {\n",
              "        text-align: right;\n",
              "    }\n",
              "</style>\n",
              "<table border=\"1\" class=\"dataframe\">\n",
              "  <thead>\n",
              "    <tr style=\"text-align: right;\">\n",
              "      <th></th>\n",
              "      <th>D</th>\n",
              "      <th>C</th>\n",
              "      <th>B</th>\n",
              "      <th>A</th>\n",
              "    </tr>\n",
              "  </thead>\n",
              "  <tbody>\n",
              "    <tr>\n",
              "      <th>2013-01-01</th>\n",
              "      <td>1.528365</td>\n",
              "      <td>-0.504459</td>\n",
              "      <td>-0.715619</td>\n",
              "      <td>0.533269</td>\n",
              "    </tr>\n",
              "    <tr>\n",
              "      <th>2013-01-02</th>\n",
              "      <td>0.059654</td>\n",
              "      <td>0.581354</td>\n",
              "      <td>2.553829</td>\n",
              "      <td>-0.369767</td>\n",
              "    </tr>\n",
              "    <tr>\n",
              "      <th>2013-01-03</th>\n",
              "      <td>-0.413814</td>\n",
              "      <td>-0.956606</td>\n",
              "      <td>1.286483</td>\n",
              "      <td>0.467891</td>\n",
              "    </tr>\n",
              "    <tr>\n",
              "      <th>2013-01-04</th>\n",
              "      <td>-0.271830</td>\n",
              "      <td>0.177504</td>\n",
              "      <td>-0.751591</td>\n",
              "      <td>0.106568</td>\n",
              "    </tr>\n",
              "    <tr>\n",
              "      <th>2013-01-05</th>\n",
              "      <td>-0.186308</td>\n",
              "      <td>-1.530869</td>\n",
              "      <td>-1.529529</td>\n",
              "      <td>0.207494</td>\n",
              "    </tr>\n",
              "    <tr>\n",
              "      <th>2013-01-06</th>\n",
              "      <td>-1.395540</td>\n",
              "      <td>-0.892911</td>\n",
              "      <td>0.032184</td>\n",
              "      <td>0.581419</td>\n",
              "    </tr>\n",
              "  </tbody>\n",
              "</table>\n",
              "</div>"
            ],
            "text/plain": [
              "                   D         C         B         A\n",
              "2013-01-01  1.528365 -0.504459 -0.715619  0.533269\n",
              "2013-01-02  0.059654  0.581354  2.553829 -0.369767\n",
              "2013-01-03 -0.413814 -0.956606  1.286483  0.467891\n",
              "2013-01-04 -0.271830  0.177504 -0.751591  0.106568\n",
              "2013-01-05 -0.186308 -1.530869 -1.529529  0.207494\n",
              "2013-01-06 -1.395540 -0.892911  0.032184  0.581419"
            ]
          },
          "metadata": {
            "tags": []
          },
          "execution_count": 16
        }
      ]
    },
    {
      "cell_type": "code",
      "metadata": {
        "id": "_Ww0n-MZU8sa",
        "colab_type": "code",
        "colab": {
          "base_uri": "https://localhost:8080/",
          "height": 235
        },
        "outputId": "5e8b0084-4bcf-4a22-c2cf-f5a787f5ea2a"
      },
      "source": [
        "df.sort_index(axis=0, ascending=False)"
      ],
      "execution_count": 17,
      "outputs": [
        {
          "output_type": "execute_result",
          "data": {
            "text/html": [
              "<div>\n",
              "<style scoped>\n",
              "    .dataframe tbody tr th:only-of-type {\n",
              "        vertical-align: middle;\n",
              "    }\n",
              "\n",
              "    .dataframe tbody tr th {\n",
              "        vertical-align: top;\n",
              "    }\n",
              "\n",
              "    .dataframe thead th {\n",
              "        text-align: right;\n",
              "    }\n",
              "</style>\n",
              "<table border=\"1\" class=\"dataframe\">\n",
              "  <thead>\n",
              "    <tr style=\"text-align: right;\">\n",
              "      <th></th>\n",
              "      <th>A</th>\n",
              "      <th>B</th>\n",
              "      <th>C</th>\n",
              "      <th>D</th>\n",
              "    </tr>\n",
              "  </thead>\n",
              "  <tbody>\n",
              "    <tr>\n",
              "      <th>2013-01-06</th>\n",
              "      <td>0.581419</td>\n",
              "      <td>0.032184</td>\n",
              "      <td>-0.892911</td>\n",
              "      <td>-1.395540</td>\n",
              "    </tr>\n",
              "    <tr>\n",
              "      <th>2013-01-05</th>\n",
              "      <td>0.207494</td>\n",
              "      <td>-1.529529</td>\n",
              "      <td>-1.530869</td>\n",
              "      <td>-0.186308</td>\n",
              "    </tr>\n",
              "    <tr>\n",
              "      <th>2013-01-04</th>\n",
              "      <td>0.106568</td>\n",
              "      <td>-0.751591</td>\n",
              "      <td>0.177504</td>\n",
              "      <td>-0.271830</td>\n",
              "    </tr>\n",
              "    <tr>\n",
              "      <th>2013-01-03</th>\n",
              "      <td>0.467891</td>\n",
              "      <td>1.286483</td>\n",
              "      <td>-0.956606</td>\n",
              "      <td>-0.413814</td>\n",
              "    </tr>\n",
              "    <tr>\n",
              "      <th>2013-01-02</th>\n",
              "      <td>-0.369767</td>\n",
              "      <td>2.553829</td>\n",
              "      <td>0.581354</td>\n",
              "      <td>0.059654</td>\n",
              "    </tr>\n",
              "    <tr>\n",
              "      <th>2013-01-01</th>\n",
              "      <td>0.533269</td>\n",
              "      <td>-0.715619</td>\n",
              "      <td>-0.504459</td>\n",
              "      <td>1.528365</td>\n",
              "    </tr>\n",
              "  </tbody>\n",
              "</table>\n",
              "</div>"
            ],
            "text/plain": [
              "                   A         B         C         D\n",
              "2013-01-06  0.581419  0.032184 -0.892911 -1.395540\n",
              "2013-01-05  0.207494 -1.529529 -1.530869 -0.186308\n",
              "2013-01-04  0.106568 -0.751591  0.177504 -0.271830\n",
              "2013-01-03  0.467891  1.286483 -0.956606 -0.413814\n",
              "2013-01-02 -0.369767  2.553829  0.581354  0.059654\n",
              "2013-01-01  0.533269 -0.715619 -0.504459  1.528365"
            ]
          },
          "metadata": {
            "tags": []
          },
          "execution_count": 17
        }
      ]
    },
    {
      "cell_type": "code",
      "metadata": {
        "id": "LnpXL2ZwVckc",
        "colab_type": "code",
        "colab": {
          "base_uri": "https://localhost:8080/",
          "height": 235
        },
        "outputId": "9de10d99-4638-42ca-b9be-631127ec8f5e"
      },
      "source": [
        " df.sort_values(by='B')"
      ],
      "execution_count": 18,
      "outputs": [
        {
          "output_type": "execute_result",
          "data": {
            "text/html": [
              "<div>\n",
              "<style scoped>\n",
              "    .dataframe tbody tr th:only-of-type {\n",
              "        vertical-align: middle;\n",
              "    }\n",
              "\n",
              "    .dataframe tbody tr th {\n",
              "        vertical-align: top;\n",
              "    }\n",
              "\n",
              "    .dataframe thead th {\n",
              "        text-align: right;\n",
              "    }\n",
              "</style>\n",
              "<table border=\"1\" class=\"dataframe\">\n",
              "  <thead>\n",
              "    <tr style=\"text-align: right;\">\n",
              "      <th></th>\n",
              "      <th>A</th>\n",
              "      <th>B</th>\n",
              "      <th>C</th>\n",
              "      <th>D</th>\n",
              "    </tr>\n",
              "  </thead>\n",
              "  <tbody>\n",
              "    <tr>\n",
              "      <th>2013-01-05</th>\n",
              "      <td>0.207494</td>\n",
              "      <td>-1.529529</td>\n",
              "      <td>-1.530869</td>\n",
              "      <td>-0.186308</td>\n",
              "    </tr>\n",
              "    <tr>\n",
              "      <th>2013-01-04</th>\n",
              "      <td>0.106568</td>\n",
              "      <td>-0.751591</td>\n",
              "      <td>0.177504</td>\n",
              "      <td>-0.271830</td>\n",
              "    </tr>\n",
              "    <tr>\n",
              "      <th>2013-01-01</th>\n",
              "      <td>0.533269</td>\n",
              "      <td>-0.715619</td>\n",
              "      <td>-0.504459</td>\n",
              "      <td>1.528365</td>\n",
              "    </tr>\n",
              "    <tr>\n",
              "      <th>2013-01-06</th>\n",
              "      <td>0.581419</td>\n",
              "      <td>0.032184</td>\n",
              "      <td>-0.892911</td>\n",
              "      <td>-1.395540</td>\n",
              "    </tr>\n",
              "    <tr>\n",
              "      <th>2013-01-03</th>\n",
              "      <td>0.467891</td>\n",
              "      <td>1.286483</td>\n",
              "      <td>-0.956606</td>\n",
              "      <td>-0.413814</td>\n",
              "    </tr>\n",
              "    <tr>\n",
              "      <th>2013-01-02</th>\n",
              "      <td>-0.369767</td>\n",
              "      <td>2.553829</td>\n",
              "      <td>0.581354</td>\n",
              "      <td>0.059654</td>\n",
              "    </tr>\n",
              "  </tbody>\n",
              "</table>\n",
              "</div>"
            ],
            "text/plain": [
              "                   A         B         C         D\n",
              "2013-01-05  0.207494 -1.529529 -1.530869 -0.186308\n",
              "2013-01-04  0.106568 -0.751591  0.177504 -0.271830\n",
              "2013-01-01  0.533269 -0.715619 -0.504459  1.528365\n",
              "2013-01-06  0.581419  0.032184 -0.892911 -1.395540\n",
              "2013-01-03  0.467891  1.286483 -0.956606 -0.413814\n",
              "2013-01-02 -0.369767  2.553829  0.581354  0.059654"
            ]
          },
          "metadata": {
            "tags": []
          },
          "execution_count": 18
        }
      ]
    },
    {
      "cell_type": "markdown",
      "metadata": {
        "id": "mnI3t0rrVjzR",
        "colab_type": "text"
      },
      "source": [
        " **Selection**"
      ]
    },
    {
      "cell_type": "code",
      "metadata": {
        "id": "c08uyyXCVdUT",
        "colab_type": "code",
        "colab": {
          "base_uri": "https://localhost:8080/",
          "height": 136
        },
        "outputId": "94dd6edf-d15a-483d-d1b7-68406307913e"
      },
      "source": [
        "df['A']"
      ],
      "execution_count": 19,
      "outputs": [
        {
          "output_type": "execute_result",
          "data": {
            "text/plain": [
              "2013-01-01    0.533269\n",
              "2013-01-02   -0.369767\n",
              "2013-01-03    0.467891\n",
              "2013-01-04    0.106568\n",
              "2013-01-05    0.207494\n",
              "2013-01-06    0.581419\n",
              "Freq: D, Name: A, dtype: float64"
            ]
          },
          "metadata": {
            "tags": []
          },
          "execution_count": 19
        }
      ]
    },
    {
      "cell_type": "code",
      "metadata": {
        "id": "YtuoW0xrVyrK",
        "colab_type": "code",
        "colab": {
          "base_uri": "https://localhost:8080/",
          "height": 142
        },
        "outputId": "9a26faab-4b8a-46c6-ba8e-c51fec2ab3a9"
      },
      "source": [
        "df[0:3]"
      ],
      "execution_count": 20,
      "outputs": [
        {
          "output_type": "execute_result",
          "data": {
            "text/html": [
              "<div>\n",
              "<style scoped>\n",
              "    .dataframe tbody tr th:only-of-type {\n",
              "        vertical-align: middle;\n",
              "    }\n",
              "\n",
              "    .dataframe tbody tr th {\n",
              "        vertical-align: top;\n",
              "    }\n",
              "\n",
              "    .dataframe thead th {\n",
              "        text-align: right;\n",
              "    }\n",
              "</style>\n",
              "<table border=\"1\" class=\"dataframe\">\n",
              "  <thead>\n",
              "    <tr style=\"text-align: right;\">\n",
              "      <th></th>\n",
              "      <th>A</th>\n",
              "      <th>B</th>\n",
              "      <th>C</th>\n",
              "      <th>D</th>\n",
              "    </tr>\n",
              "  </thead>\n",
              "  <tbody>\n",
              "    <tr>\n",
              "      <th>2013-01-01</th>\n",
              "      <td>0.533269</td>\n",
              "      <td>-0.715619</td>\n",
              "      <td>-0.504459</td>\n",
              "      <td>1.528365</td>\n",
              "    </tr>\n",
              "    <tr>\n",
              "      <th>2013-01-02</th>\n",
              "      <td>-0.369767</td>\n",
              "      <td>2.553829</td>\n",
              "      <td>0.581354</td>\n",
              "      <td>0.059654</td>\n",
              "    </tr>\n",
              "    <tr>\n",
              "      <th>2013-01-03</th>\n",
              "      <td>0.467891</td>\n",
              "      <td>1.286483</td>\n",
              "      <td>-0.956606</td>\n",
              "      <td>-0.413814</td>\n",
              "    </tr>\n",
              "  </tbody>\n",
              "</table>\n",
              "</div>"
            ],
            "text/plain": [
              "                   A         B         C         D\n",
              "2013-01-01  0.533269 -0.715619 -0.504459  1.528365\n",
              "2013-01-02 -0.369767  2.553829  0.581354  0.059654\n",
              "2013-01-03  0.467891  1.286483 -0.956606 -0.413814"
            ]
          },
          "metadata": {
            "tags": []
          },
          "execution_count": 20
        }
      ]
    },
    {
      "cell_type": "code",
      "metadata": {
        "id": "wjK0sQpwV3o9",
        "colab_type": "code",
        "colab": {
          "base_uri": "https://localhost:8080/",
          "height": 142
        },
        "outputId": "0c66b5a4-3f49-4b97-b73f-e2410dc7134b"
      },
      "source": [
        "df['20130102':'20130104']"
      ],
      "execution_count": 21,
      "outputs": [
        {
          "output_type": "execute_result",
          "data": {
            "text/html": [
              "<div>\n",
              "<style scoped>\n",
              "    .dataframe tbody tr th:only-of-type {\n",
              "        vertical-align: middle;\n",
              "    }\n",
              "\n",
              "    .dataframe tbody tr th {\n",
              "        vertical-align: top;\n",
              "    }\n",
              "\n",
              "    .dataframe thead th {\n",
              "        text-align: right;\n",
              "    }\n",
              "</style>\n",
              "<table border=\"1\" class=\"dataframe\">\n",
              "  <thead>\n",
              "    <tr style=\"text-align: right;\">\n",
              "      <th></th>\n",
              "      <th>A</th>\n",
              "      <th>B</th>\n",
              "      <th>C</th>\n",
              "      <th>D</th>\n",
              "    </tr>\n",
              "  </thead>\n",
              "  <tbody>\n",
              "    <tr>\n",
              "      <th>2013-01-02</th>\n",
              "      <td>-0.369767</td>\n",
              "      <td>2.553829</td>\n",
              "      <td>0.581354</td>\n",
              "      <td>0.059654</td>\n",
              "    </tr>\n",
              "    <tr>\n",
              "      <th>2013-01-03</th>\n",
              "      <td>0.467891</td>\n",
              "      <td>1.286483</td>\n",
              "      <td>-0.956606</td>\n",
              "      <td>-0.413814</td>\n",
              "    </tr>\n",
              "    <tr>\n",
              "      <th>2013-01-04</th>\n",
              "      <td>0.106568</td>\n",
              "      <td>-0.751591</td>\n",
              "      <td>0.177504</td>\n",
              "      <td>-0.271830</td>\n",
              "    </tr>\n",
              "  </tbody>\n",
              "</table>\n",
              "</div>"
            ],
            "text/plain": [
              "                   A         B         C         D\n",
              "2013-01-02 -0.369767  2.553829  0.581354  0.059654\n",
              "2013-01-03  0.467891  1.286483 -0.956606 -0.413814\n",
              "2013-01-04  0.106568 -0.751591  0.177504 -0.271830"
            ]
          },
          "metadata": {
            "tags": []
          },
          "execution_count": 21
        }
      ]
    },
    {
      "cell_type": "markdown",
      "metadata": {
        "id": "rWFNFXpa2_Ub",
        "colab_type": "text"
      },
      "source": [
        "**Selection by label**"
      ]
    },
    {
      "cell_type": "code",
      "metadata": {
        "id": "WMoz9RpwV6jJ",
        "colab_type": "code",
        "colab": {
          "base_uri": "https://localhost:8080/",
          "height": 68
        },
        "outputId": "57aa5b23-6ac3-477c-e4b8-6eb360f62a49"
      },
      "source": [
        "df.loc['20130102', ['A', 'B']]"
      ],
      "execution_count": 22,
      "outputs": [
        {
          "output_type": "execute_result",
          "data": {
            "text/plain": [
              "A   -0.369767\n",
              "B    2.553829\n",
              "Name: 2013-01-02 00:00:00, dtype: float64"
            ]
          },
          "metadata": {
            "tags": []
          },
          "execution_count": 22
        }
      ]
    },
    {
      "cell_type": "code",
      "metadata": {
        "id": "O9LdMwJv2b7r",
        "colab_type": "code",
        "colab": {
          "base_uri": "https://localhost:8080/",
          "height": 34
        },
        "outputId": "6a85bfda-5749-417a-b31b-907a45aed49a"
      },
      "source": [
        "df.loc[dates[0], 'A']"
      ],
      "execution_count": 23,
      "outputs": [
        {
          "output_type": "execute_result",
          "data": {
            "text/plain": [
              "0.5332687203547314"
            ]
          },
          "metadata": {
            "tags": []
          },
          "execution_count": 23
        }
      ]
    },
    {
      "cell_type": "code",
      "metadata": {
        "id": "Ktx27lvF3ukZ",
        "colab_type": "code",
        "colab": {
          "base_uri": "https://localhost:8080/",
          "height": 34
        },
        "outputId": "53f3a0b7-4ce9-4103-c419-c8b25c35d3e0"
      },
      "source": [
        "df.at[dates[0], 'A']"
      ],
      "execution_count": 24,
      "outputs": [
        {
          "output_type": "execute_result",
          "data": {
            "text/plain": [
              "0.5332687203547314"
            ]
          },
          "metadata": {
            "tags": []
          },
          "execution_count": 24
        }
      ]
    },
    {
      "cell_type": "code",
      "metadata": {
        "id": "ZSK9D1px2hU0",
        "colab_type": "code",
        "colab": {
          "base_uri": "https://localhost:8080/",
          "height": 102
        },
        "outputId": "153f00c5-d8e0-40e1-eaaf-ee24d891ea74"
      },
      "source": [
        "df.loc[dates[0]]"
      ],
      "execution_count": 25,
      "outputs": [
        {
          "output_type": "execute_result",
          "data": {
            "text/plain": [
              "A    0.533269\n",
              "B   -0.715619\n",
              "C   -0.504459\n",
              "D    1.528365\n",
              "Name: 2013-01-01 00:00:00, dtype: float64"
            ]
          },
          "metadata": {
            "tags": []
          },
          "execution_count": 25
        }
      ]
    },
    {
      "cell_type": "code",
      "metadata": {
        "id": "KMuKikQ-3GDu",
        "colab_type": "code",
        "colab": {
          "base_uri": "https://localhost:8080/",
          "height": 142
        },
        "outputId": "cf7e23cb-9668-40fb-e05c-e6840b4df344"
      },
      "source": [
        "df.loc['20130102':'20130104', ['A', 'B']]"
      ],
      "execution_count": 26,
      "outputs": [
        {
          "output_type": "execute_result",
          "data": {
            "text/html": [
              "<div>\n",
              "<style scoped>\n",
              "    .dataframe tbody tr th:only-of-type {\n",
              "        vertical-align: middle;\n",
              "    }\n",
              "\n",
              "    .dataframe tbody tr th {\n",
              "        vertical-align: top;\n",
              "    }\n",
              "\n",
              "    .dataframe thead th {\n",
              "        text-align: right;\n",
              "    }\n",
              "</style>\n",
              "<table border=\"1\" class=\"dataframe\">\n",
              "  <thead>\n",
              "    <tr style=\"text-align: right;\">\n",
              "      <th></th>\n",
              "      <th>A</th>\n",
              "      <th>B</th>\n",
              "    </tr>\n",
              "  </thead>\n",
              "  <tbody>\n",
              "    <tr>\n",
              "      <th>2013-01-02</th>\n",
              "      <td>-0.369767</td>\n",
              "      <td>2.553829</td>\n",
              "    </tr>\n",
              "    <tr>\n",
              "      <th>2013-01-03</th>\n",
              "      <td>0.467891</td>\n",
              "      <td>1.286483</td>\n",
              "    </tr>\n",
              "    <tr>\n",
              "      <th>2013-01-04</th>\n",
              "      <td>0.106568</td>\n",
              "      <td>-0.751591</td>\n",
              "    </tr>\n",
              "  </tbody>\n",
              "</table>\n",
              "</div>"
            ],
            "text/plain": [
              "                   A         B\n",
              "2013-01-02 -0.369767  2.553829\n",
              "2013-01-03  0.467891  1.286483\n",
              "2013-01-04  0.106568 -0.751591"
            ]
          },
          "metadata": {
            "tags": []
          },
          "execution_count": 26
        }
      ]
    },
    {
      "cell_type": "markdown",
      "metadata": {
        "id": "VEpc-8op31Qn",
        "colab_type": "text"
      },
      "source": [
        "**Selection by position**"
      ]
    },
    {
      "cell_type": "code",
      "metadata": {
        "id": "jp15bHIw3NnD",
        "colab_type": "code",
        "colab": {
          "base_uri": "https://localhost:8080/",
          "height": 102
        },
        "outputId": "c4e9fab7-4677-48d6-934f-e65302101ccd"
      },
      "source": [
        "df.iloc[3]"
      ],
      "execution_count": 27,
      "outputs": [
        {
          "output_type": "execute_result",
          "data": {
            "text/plain": [
              "A    0.106568\n",
              "B   -0.751591\n",
              "C    0.177504\n",
              "D   -0.271830\n",
              "Name: 2013-01-04 00:00:00, dtype: float64"
            ]
          },
          "metadata": {
            "tags": []
          },
          "execution_count": 27
        }
      ]
    },
    {
      "cell_type": "code",
      "metadata": {
        "id": "2CyMWT9S37Kq",
        "colab_type": "code",
        "colab": {
          "base_uri": "https://localhost:8080/",
          "height": 111
        },
        "outputId": "3e8b7579-4b65-4276-bb16-d57ae13647a8"
      },
      "source": [
        "df.iloc[3:5, 0:2]"
      ],
      "execution_count": 28,
      "outputs": [
        {
          "output_type": "execute_result",
          "data": {
            "text/html": [
              "<div>\n",
              "<style scoped>\n",
              "    .dataframe tbody tr th:only-of-type {\n",
              "        vertical-align: middle;\n",
              "    }\n",
              "\n",
              "    .dataframe tbody tr th {\n",
              "        vertical-align: top;\n",
              "    }\n",
              "\n",
              "    .dataframe thead th {\n",
              "        text-align: right;\n",
              "    }\n",
              "</style>\n",
              "<table border=\"1\" class=\"dataframe\">\n",
              "  <thead>\n",
              "    <tr style=\"text-align: right;\">\n",
              "      <th></th>\n",
              "      <th>A</th>\n",
              "      <th>B</th>\n",
              "    </tr>\n",
              "  </thead>\n",
              "  <tbody>\n",
              "    <tr>\n",
              "      <th>2013-01-04</th>\n",
              "      <td>0.106568</td>\n",
              "      <td>-0.751591</td>\n",
              "    </tr>\n",
              "    <tr>\n",
              "      <th>2013-01-05</th>\n",
              "      <td>0.207494</td>\n",
              "      <td>-1.529529</td>\n",
              "    </tr>\n",
              "  </tbody>\n",
              "</table>\n",
              "</div>"
            ],
            "text/plain": [
              "                   A         B\n",
              "2013-01-04  0.106568 -0.751591\n",
              "2013-01-05  0.207494 -1.529529"
            ]
          },
          "metadata": {
            "tags": []
          },
          "execution_count": 28
        }
      ]
    },
    {
      "cell_type": "code",
      "metadata": {
        "id": "ISME8sMf39aU",
        "colab_type": "code",
        "colab": {
          "base_uri": "https://localhost:8080/",
          "height": 142
        },
        "outputId": "a3e05558-9d15-49d0-f832-7d3b025bf9b5"
      },
      "source": [
        "df.iloc[[1, 2, 4], [0, 2]]"
      ],
      "execution_count": 29,
      "outputs": [
        {
          "output_type": "execute_result",
          "data": {
            "text/html": [
              "<div>\n",
              "<style scoped>\n",
              "    .dataframe tbody tr th:only-of-type {\n",
              "        vertical-align: middle;\n",
              "    }\n",
              "\n",
              "    .dataframe tbody tr th {\n",
              "        vertical-align: top;\n",
              "    }\n",
              "\n",
              "    .dataframe thead th {\n",
              "        text-align: right;\n",
              "    }\n",
              "</style>\n",
              "<table border=\"1\" class=\"dataframe\">\n",
              "  <thead>\n",
              "    <tr style=\"text-align: right;\">\n",
              "      <th></th>\n",
              "      <th>A</th>\n",
              "      <th>C</th>\n",
              "    </tr>\n",
              "  </thead>\n",
              "  <tbody>\n",
              "    <tr>\n",
              "      <th>2013-01-02</th>\n",
              "      <td>-0.369767</td>\n",
              "      <td>0.581354</td>\n",
              "    </tr>\n",
              "    <tr>\n",
              "      <th>2013-01-03</th>\n",
              "      <td>0.467891</td>\n",
              "      <td>-0.956606</td>\n",
              "    </tr>\n",
              "    <tr>\n",
              "      <th>2013-01-05</th>\n",
              "      <td>0.207494</td>\n",
              "      <td>-1.530869</td>\n",
              "    </tr>\n",
              "  </tbody>\n",
              "</table>\n",
              "</div>"
            ],
            "text/plain": [
              "                   A         C\n",
              "2013-01-02 -0.369767  0.581354\n",
              "2013-01-03  0.467891 -0.956606\n",
              "2013-01-05  0.207494 -1.530869"
            ]
          },
          "metadata": {
            "tags": []
          },
          "execution_count": 29
        }
      ]
    },
    {
      "cell_type": "code",
      "metadata": {
        "id": "BkJcIbKd4AIF",
        "colab_type": "code",
        "colab": {
          "base_uri": "https://localhost:8080/",
          "height": 111
        },
        "outputId": "08601b52-f3c9-408b-e7f0-571a781fc608"
      },
      "source": [
        "df.iloc[1:3, :]"
      ],
      "execution_count": 30,
      "outputs": [
        {
          "output_type": "execute_result",
          "data": {
            "text/html": [
              "<div>\n",
              "<style scoped>\n",
              "    .dataframe tbody tr th:only-of-type {\n",
              "        vertical-align: middle;\n",
              "    }\n",
              "\n",
              "    .dataframe tbody tr th {\n",
              "        vertical-align: top;\n",
              "    }\n",
              "\n",
              "    .dataframe thead th {\n",
              "        text-align: right;\n",
              "    }\n",
              "</style>\n",
              "<table border=\"1\" class=\"dataframe\">\n",
              "  <thead>\n",
              "    <tr style=\"text-align: right;\">\n",
              "      <th></th>\n",
              "      <th>A</th>\n",
              "      <th>B</th>\n",
              "      <th>C</th>\n",
              "      <th>D</th>\n",
              "    </tr>\n",
              "  </thead>\n",
              "  <tbody>\n",
              "    <tr>\n",
              "      <th>2013-01-02</th>\n",
              "      <td>-0.369767</td>\n",
              "      <td>2.553829</td>\n",
              "      <td>0.581354</td>\n",
              "      <td>0.059654</td>\n",
              "    </tr>\n",
              "    <tr>\n",
              "      <th>2013-01-03</th>\n",
              "      <td>0.467891</td>\n",
              "      <td>1.286483</td>\n",
              "      <td>-0.956606</td>\n",
              "      <td>-0.413814</td>\n",
              "    </tr>\n",
              "  </tbody>\n",
              "</table>\n",
              "</div>"
            ],
            "text/plain": [
              "                   A         B         C         D\n",
              "2013-01-02 -0.369767  2.553829  0.581354  0.059654\n",
              "2013-01-03  0.467891  1.286483 -0.956606 -0.413814"
            ]
          },
          "metadata": {
            "tags": []
          },
          "execution_count": 30
        }
      ]
    },
    {
      "cell_type": "code",
      "metadata": {
        "id": "ll5fsTxT4DP4",
        "colab_type": "code",
        "colab": {
          "base_uri": "https://localhost:8080/",
          "height": 34
        },
        "outputId": "157ca4e1-b11d-4b62-c8ca-3abbf1d87d2a"
      },
      "source": [
        "df.iloc[1, 1]"
      ],
      "execution_count": 31,
      "outputs": [
        {
          "output_type": "execute_result",
          "data": {
            "text/plain": [
              "2.5538287616336333"
            ]
          },
          "metadata": {
            "tags": []
          },
          "execution_count": 31
        }
      ]
    },
    {
      "cell_type": "code",
      "metadata": {
        "id": "JiVRujLQ4GuM",
        "colab_type": "code",
        "colab": {
          "base_uri": "https://localhost:8080/",
          "height": 34
        },
        "outputId": "6febd9b9-c1cc-4214-f64e-9a4f81da6d16"
      },
      "source": [
        "df.iat[1, 1]"
      ],
      "execution_count": 32,
      "outputs": [
        {
          "output_type": "execute_result",
          "data": {
            "text/plain": [
              "2.5538287616336333"
            ]
          },
          "metadata": {
            "tags": []
          },
          "execution_count": 32
        }
      ]
    },
    {
      "cell_type": "markdown",
      "metadata": {
        "id": "NGyYqGeo4K3K",
        "colab_type": "text"
      },
      "source": [
        "**Boolean indexing**"
      ]
    },
    {
      "cell_type": "code",
      "metadata": {
        "id": "n0YlbUHi4Ig4",
        "colab_type": "code",
        "colab": {
          "base_uri": "https://localhost:8080/",
          "height": 204
        },
        "outputId": "0d08ca16-1478-4ed7-805c-dae457ff4269"
      },
      "source": [
        "df[df['A'] > 0]"
      ],
      "execution_count": 33,
      "outputs": [
        {
          "output_type": "execute_result",
          "data": {
            "text/html": [
              "<div>\n",
              "<style scoped>\n",
              "    .dataframe tbody tr th:only-of-type {\n",
              "        vertical-align: middle;\n",
              "    }\n",
              "\n",
              "    .dataframe tbody tr th {\n",
              "        vertical-align: top;\n",
              "    }\n",
              "\n",
              "    .dataframe thead th {\n",
              "        text-align: right;\n",
              "    }\n",
              "</style>\n",
              "<table border=\"1\" class=\"dataframe\">\n",
              "  <thead>\n",
              "    <tr style=\"text-align: right;\">\n",
              "      <th></th>\n",
              "      <th>A</th>\n",
              "      <th>B</th>\n",
              "      <th>C</th>\n",
              "      <th>D</th>\n",
              "    </tr>\n",
              "  </thead>\n",
              "  <tbody>\n",
              "    <tr>\n",
              "      <th>2013-01-01</th>\n",
              "      <td>0.533269</td>\n",
              "      <td>-0.715619</td>\n",
              "      <td>-0.504459</td>\n",
              "      <td>1.528365</td>\n",
              "    </tr>\n",
              "    <tr>\n",
              "      <th>2013-01-03</th>\n",
              "      <td>0.467891</td>\n",
              "      <td>1.286483</td>\n",
              "      <td>-0.956606</td>\n",
              "      <td>-0.413814</td>\n",
              "    </tr>\n",
              "    <tr>\n",
              "      <th>2013-01-04</th>\n",
              "      <td>0.106568</td>\n",
              "      <td>-0.751591</td>\n",
              "      <td>0.177504</td>\n",
              "      <td>-0.271830</td>\n",
              "    </tr>\n",
              "    <tr>\n",
              "      <th>2013-01-05</th>\n",
              "      <td>0.207494</td>\n",
              "      <td>-1.529529</td>\n",
              "      <td>-1.530869</td>\n",
              "      <td>-0.186308</td>\n",
              "    </tr>\n",
              "    <tr>\n",
              "      <th>2013-01-06</th>\n",
              "      <td>0.581419</td>\n",
              "      <td>0.032184</td>\n",
              "      <td>-0.892911</td>\n",
              "      <td>-1.395540</td>\n",
              "    </tr>\n",
              "  </tbody>\n",
              "</table>\n",
              "</div>"
            ],
            "text/plain": [
              "                   A         B         C         D\n",
              "2013-01-01  0.533269 -0.715619 -0.504459  1.528365\n",
              "2013-01-03  0.467891  1.286483 -0.956606 -0.413814\n",
              "2013-01-04  0.106568 -0.751591  0.177504 -0.271830\n",
              "2013-01-05  0.207494 -1.529529 -1.530869 -0.186308\n",
              "2013-01-06  0.581419  0.032184 -0.892911 -1.395540"
            ]
          },
          "metadata": {
            "tags": []
          },
          "execution_count": 33
        }
      ]
    },
    {
      "cell_type": "code",
      "metadata": {
        "id": "PEyE-1c-4RJO",
        "colab_type": "code",
        "colab": {
          "base_uri": "https://localhost:8080/",
          "height": 235
        },
        "outputId": "50d408d7-6528-4c37-9824-5a891e658f32"
      },
      "source": [
        "df[df > 0]"
      ],
      "execution_count": 34,
      "outputs": [
        {
          "output_type": "execute_result",
          "data": {
            "text/html": [
              "<div>\n",
              "<style scoped>\n",
              "    .dataframe tbody tr th:only-of-type {\n",
              "        vertical-align: middle;\n",
              "    }\n",
              "\n",
              "    .dataframe tbody tr th {\n",
              "        vertical-align: top;\n",
              "    }\n",
              "\n",
              "    .dataframe thead th {\n",
              "        text-align: right;\n",
              "    }\n",
              "</style>\n",
              "<table border=\"1\" class=\"dataframe\">\n",
              "  <thead>\n",
              "    <tr style=\"text-align: right;\">\n",
              "      <th></th>\n",
              "      <th>A</th>\n",
              "      <th>B</th>\n",
              "      <th>C</th>\n",
              "      <th>D</th>\n",
              "    </tr>\n",
              "  </thead>\n",
              "  <tbody>\n",
              "    <tr>\n",
              "      <th>2013-01-01</th>\n",
              "      <td>0.533269</td>\n",
              "      <td>NaN</td>\n",
              "      <td>NaN</td>\n",
              "      <td>1.528365</td>\n",
              "    </tr>\n",
              "    <tr>\n",
              "      <th>2013-01-02</th>\n",
              "      <td>NaN</td>\n",
              "      <td>2.553829</td>\n",
              "      <td>0.581354</td>\n",
              "      <td>0.059654</td>\n",
              "    </tr>\n",
              "    <tr>\n",
              "      <th>2013-01-03</th>\n",
              "      <td>0.467891</td>\n",
              "      <td>1.286483</td>\n",
              "      <td>NaN</td>\n",
              "      <td>NaN</td>\n",
              "    </tr>\n",
              "    <tr>\n",
              "      <th>2013-01-04</th>\n",
              "      <td>0.106568</td>\n",
              "      <td>NaN</td>\n",
              "      <td>0.177504</td>\n",
              "      <td>NaN</td>\n",
              "    </tr>\n",
              "    <tr>\n",
              "      <th>2013-01-05</th>\n",
              "      <td>0.207494</td>\n",
              "      <td>NaN</td>\n",
              "      <td>NaN</td>\n",
              "      <td>NaN</td>\n",
              "    </tr>\n",
              "    <tr>\n",
              "      <th>2013-01-06</th>\n",
              "      <td>0.581419</td>\n",
              "      <td>0.032184</td>\n",
              "      <td>NaN</td>\n",
              "      <td>NaN</td>\n",
              "    </tr>\n",
              "  </tbody>\n",
              "</table>\n",
              "</div>"
            ],
            "text/plain": [
              "                   A         B         C         D\n",
              "2013-01-01  0.533269       NaN       NaN  1.528365\n",
              "2013-01-02       NaN  2.553829  0.581354  0.059654\n",
              "2013-01-03  0.467891  1.286483       NaN       NaN\n",
              "2013-01-04  0.106568       NaN  0.177504       NaN\n",
              "2013-01-05  0.207494       NaN       NaN       NaN\n",
              "2013-01-06  0.581419  0.032184       NaN       NaN"
            ]
          },
          "metadata": {
            "tags": []
          },
          "execution_count": 34
        }
      ]
    },
    {
      "cell_type": "code",
      "metadata": {
        "id": "5djqHeg94UNF",
        "colab_type": "code",
        "colab": {
          "base_uri": "https://localhost:8080/",
          "height": 235
        },
        "outputId": "91173d50-238c-4574-e591-a4906a529763"
      },
      "source": [
        "a = df > 0\n",
        "a"
      ],
      "execution_count": 35,
      "outputs": [
        {
          "output_type": "execute_result",
          "data": {
            "text/html": [
              "<div>\n",
              "<style scoped>\n",
              "    .dataframe tbody tr th:only-of-type {\n",
              "        vertical-align: middle;\n",
              "    }\n",
              "\n",
              "    .dataframe tbody tr th {\n",
              "        vertical-align: top;\n",
              "    }\n",
              "\n",
              "    .dataframe thead th {\n",
              "        text-align: right;\n",
              "    }\n",
              "</style>\n",
              "<table border=\"1\" class=\"dataframe\">\n",
              "  <thead>\n",
              "    <tr style=\"text-align: right;\">\n",
              "      <th></th>\n",
              "      <th>A</th>\n",
              "      <th>B</th>\n",
              "      <th>C</th>\n",
              "      <th>D</th>\n",
              "    </tr>\n",
              "  </thead>\n",
              "  <tbody>\n",
              "    <tr>\n",
              "      <th>2013-01-01</th>\n",
              "      <td>True</td>\n",
              "      <td>False</td>\n",
              "      <td>False</td>\n",
              "      <td>True</td>\n",
              "    </tr>\n",
              "    <tr>\n",
              "      <th>2013-01-02</th>\n",
              "      <td>False</td>\n",
              "      <td>True</td>\n",
              "      <td>True</td>\n",
              "      <td>True</td>\n",
              "    </tr>\n",
              "    <tr>\n",
              "      <th>2013-01-03</th>\n",
              "      <td>True</td>\n",
              "      <td>True</td>\n",
              "      <td>False</td>\n",
              "      <td>False</td>\n",
              "    </tr>\n",
              "    <tr>\n",
              "      <th>2013-01-04</th>\n",
              "      <td>True</td>\n",
              "      <td>False</td>\n",
              "      <td>True</td>\n",
              "      <td>False</td>\n",
              "    </tr>\n",
              "    <tr>\n",
              "      <th>2013-01-05</th>\n",
              "      <td>True</td>\n",
              "      <td>False</td>\n",
              "      <td>False</td>\n",
              "      <td>False</td>\n",
              "    </tr>\n",
              "    <tr>\n",
              "      <th>2013-01-06</th>\n",
              "      <td>True</td>\n",
              "      <td>True</td>\n",
              "      <td>False</td>\n",
              "      <td>False</td>\n",
              "    </tr>\n",
              "  </tbody>\n",
              "</table>\n",
              "</div>"
            ],
            "text/plain": [
              "                A      B      C      D\n",
              "2013-01-01   True  False  False   True\n",
              "2013-01-02  False   True   True   True\n",
              "2013-01-03   True   True  False  False\n",
              "2013-01-04   True  False   True  False\n",
              "2013-01-05   True  False  False  False\n",
              "2013-01-06   True   True  False  False"
            ]
          },
          "metadata": {
            "tags": []
          },
          "execution_count": 35
        }
      ]
    },
    {
      "cell_type": "code",
      "metadata": {
        "id": "yiSVYQks4XjT",
        "colab_type": "code",
        "colab": {
          "base_uri": "https://localhost:8080/",
          "height": 235
        },
        "outputId": "e9afe320-e368-4dbc-93ea-8e87d0334969"
      },
      "source": [
        "df2 = df.copy()\n",
        "\n",
        "df2['E'] = ['one', 'one', 'two', 'three', 'four', 'three']\n",
        "\n",
        "df2"
      ],
      "execution_count": 36,
      "outputs": [
        {
          "output_type": "execute_result",
          "data": {
            "text/html": [
              "<div>\n",
              "<style scoped>\n",
              "    .dataframe tbody tr th:only-of-type {\n",
              "        vertical-align: middle;\n",
              "    }\n",
              "\n",
              "    .dataframe tbody tr th {\n",
              "        vertical-align: top;\n",
              "    }\n",
              "\n",
              "    .dataframe thead th {\n",
              "        text-align: right;\n",
              "    }\n",
              "</style>\n",
              "<table border=\"1\" class=\"dataframe\">\n",
              "  <thead>\n",
              "    <tr style=\"text-align: right;\">\n",
              "      <th></th>\n",
              "      <th>A</th>\n",
              "      <th>B</th>\n",
              "      <th>C</th>\n",
              "      <th>D</th>\n",
              "      <th>E</th>\n",
              "    </tr>\n",
              "  </thead>\n",
              "  <tbody>\n",
              "    <tr>\n",
              "      <th>2013-01-01</th>\n",
              "      <td>0.533269</td>\n",
              "      <td>-0.715619</td>\n",
              "      <td>-0.504459</td>\n",
              "      <td>1.528365</td>\n",
              "      <td>one</td>\n",
              "    </tr>\n",
              "    <tr>\n",
              "      <th>2013-01-02</th>\n",
              "      <td>-0.369767</td>\n",
              "      <td>2.553829</td>\n",
              "      <td>0.581354</td>\n",
              "      <td>0.059654</td>\n",
              "      <td>one</td>\n",
              "    </tr>\n",
              "    <tr>\n",
              "      <th>2013-01-03</th>\n",
              "      <td>0.467891</td>\n",
              "      <td>1.286483</td>\n",
              "      <td>-0.956606</td>\n",
              "      <td>-0.413814</td>\n",
              "      <td>two</td>\n",
              "    </tr>\n",
              "    <tr>\n",
              "      <th>2013-01-04</th>\n",
              "      <td>0.106568</td>\n",
              "      <td>-0.751591</td>\n",
              "      <td>0.177504</td>\n",
              "      <td>-0.271830</td>\n",
              "      <td>three</td>\n",
              "    </tr>\n",
              "    <tr>\n",
              "      <th>2013-01-05</th>\n",
              "      <td>0.207494</td>\n",
              "      <td>-1.529529</td>\n",
              "      <td>-1.530869</td>\n",
              "      <td>-0.186308</td>\n",
              "      <td>four</td>\n",
              "    </tr>\n",
              "    <tr>\n",
              "      <th>2013-01-06</th>\n",
              "      <td>0.581419</td>\n",
              "      <td>0.032184</td>\n",
              "      <td>-0.892911</td>\n",
              "      <td>-1.395540</td>\n",
              "      <td>three</td>\n",
              "    </tr>\n",
              "  </tbody>\n",
              "</table>\n",
              "</div>"
            ],
            "text/plain": [
              "                   A         B         C         D      E\n",
              "2013-01-01  0.533269 -0.715619 -0.504459  1.528365    one\n",
              "2013-01-02 -0.369767  2.553829  0.581354  0.059654    one\n",
              "2013-01-03  0.467891  1.286483 -0.956606 -0.413814    two\n",
              "2013-01-04  0.106568 -0.751591  0.177504 -0.271830  three\n",
              "2013-01-05  0.207494 -1.529529 -1.530869 -0.186308   four\n",
              "2013-01-06  0.581419  0.032184 -0.892911 -1.395540  three"
            ]
          },
          "metadata": {
            "tags": []
          },
          "execution_count": 36
        }
      ]
    },
    {
      "cell_type": "code",
      "metadata": {
        "id": "gHsYxPi94fXS",
        "colab_type": "code",
        "colab": {
          "base_uri": "https://localhost:8080/",
          "height": 111
        },
        "outputId": "80e75ed4-d56c-42fa-dbc4-24398f086837"
      },
      "source": [
        "df2[df2['E'].isin(['two', 'four'])]"
      ],
      "execution_count": 37,
      "outputs": [
        {
          "output_type": "execute_result",
          "data": {
            "text/html": [
              "<div>\n",
              "<style scoped>\n",
              "    .dataframe tbody tr th:only-of-type {\n",
              "        vertical-align: middle;\n",
              "    }\n",
              "\n",
              "    .dataframe tbody tr th {\n",
              "        vertical-align: top;\n",
              "    }\n",
              "\n",
              "    .dataframe thead th {\n",
              "        text-align: right;\n",
              "    }\n",
              "</style>\n",
              "<table border=\"1\" class=\"dataframe\">\n",
              "  <thead>\n",
              "    <tr style=\"text-align: right;\">\n",
              "      <th></th>\n",
              "      <th>A</th>\n",
              "      <th>B</th>\n",
              "      <th>C</th>\n",
              "      <th>D</th>\n",
              "      <th>E</th>\n",
              "    </tr>\n",
              "  </thead>\n",
              "  <tbody>\n",
              "    <tr>\n",
              "      <th>2013-01-03</th>\n",
              "      <td>0.467891</td>\n",
              "      <td>1.286483</td>\n",
              "      <td>-0.956606</td>\n",
              "      <td>-0.413814</td>\n",
              "      <td>two</td>\n",
              "    </tr>\n",
              "    <tr>\n",
              "      <th>2013-01-05</th>\n",
              "      <td>0.207494</td>\n",
              "      <td>-1.529529</td>\n",
              "      <td>-1.530869</td>\n",
              "      <td>-0.186308</td>\n",
              "      <td>four</td>\n",
              "    </tr>\n",
              "  </tbody>\n",
              "</table>\n",
              "</div>"
            ],
            "text/plain": [
              "                   A         B         C         D     E\n",
              "2013-01-03  0.467891  1.286483 -0.956606 -0.413814   two\n",
              "2013-01-05  0.207494 -1.529529 -1.530869 -0.186308  four"
            ]
          },
          "metadata": {
            "tags": []
          },
          "execution_count": 37
        }
      ]
    },
    {
      "cell_type": "markdown",
      "metadata": {
        "id": "xbz5XXlh4xX5",
        "colab_type": "text"
      },
      "source": [
        "**Setting a new column automatically aligns the data by the indexes**"
      ]
    },
    {
      "cell_type": "code",
      "metadata": {
        "id": "OpWTy9DQ4pbM",
        "colab_type": "code",
        "colab": {
          "base_uri": "https://localhost:8080/",
          "height": 136
        },
        "outputId": "92207f55-4f0d-4774-e094-967bcd9f57b2"
      },
      "source": [
        "s1 = pd.Series([1, 2, 3, 4, 5, 6], \n",
        "               index=pd.date_range('20130102', periods=6))\n",
        "\n",
        "s1"
      ],
      "execution_count": 38,
      "outputs": [
        {
          "output_type": "execute_result",
          "data": {
            "text/plain": [
              "2013-01-02    1\n",
              "2013-01-03    2\n",
              "2013-01-04    3\n",
              "2013-01-05    4\n",
              "2013-01-06    5\n",
              "2013-01-07    6\n",
              "Freq: D, dtype: int64"
            ]
          },
          "metadata": {
            "tags": []
          },
          "execution_count": 38
        }
      ]
    },
    {
      "cell_type": "code",
      "metadata": {
        "id": "IIdHaYpv44z-",
        "colab_type": "code",
        "colab": {}
      },
      "source": [
        "df.at[dates[0], 'A'] = 0"
      ],
      "execution_count": 39,
      "outputs": []
    },
    {
      "cell_type": "code",
      "metadata": {
        "id": "OeBKQeP64-Dl",
        "colab_type": "code",
        "colab": {}
      },
      "source": [
        "df.iat[0, 1] = 0"
      ],
      "execution_count": 40,
      "outputs": []
    },
    {
      "cell_type": "code",
      "metadata": {
        "id": "uqzMvVzg5HVB",
        "colab_type": "code",
        "colab": {}
      },
      "source": [
        "df.loc[:, 'D'] = np.array([5] * len(df))"
      ],
      "execution_count": 41,
      "outputs": []
    },
    {
      "cell_type": "code",
      "metadata": {
        "id": "pmz3RcA95RvD",
        "colab_type": "code",
        "colab": {
          "base_uri": "https://localhost:8080/",
          "height": 235
        },
        "outputId": "3b7c9f0b-e6db-4a70-e540-eb9712c39e77"
      },
      "source": [
        "df"
      ],
      "execution_count": 42,
      "outputs": [
        {
          "output_type": "execute_result",
          "data": {
            "text/html": [
              "<div>\n",
              "<style scoped>\n",
              "    .dataframe tbody tr th:only-of-type {\n",
              "        vertical-align: middle;\n",
              "    }\n",
              "\n",
              "    .dataframe tbody tr th {\n",
              "        vertical-align: top;\n",
              "    }\n",
              "\n",
              "    .dataframe thead th {\n",
              "        text-align: right;\n",
              "    }\n",
              "</style>\n",
              "<table border=\"1\" class=\"dataframe\">\n",
              "  <thead>\n",
              "    <tr style=\"text-align: right;\">\n",
              "      <th></th>\n",
              "      <th>A</th>\n",
              "      <th>B</th>\n",
              "      <th>C</th>\n",
              "      <th>D</th>\n",
              "    </tr>\n",
              "  </thead>\n",
              "  <tbody>\n",
              "    <tr>\n",
              "      <th>2013-01-01</th>\n",
              "      <td>0.000000</td>\n",
              "      <td>0.000000</td>\n",
              "      <td>-0.504459</td>\n",
              "      <td>5</td>\n",
              "    </tr>\n",
              "    <tr>\n",
              "      <th>2013-01-02</th>\n",
              "      <td>-0.369767</td>\n",
              "      <td>2.553829</td>\n",
              "      <td>0.581354</td>\n",
              "      <td>5</td>\n",
              "    </tr>\n",
              "    <tr>\n",
              "      <th>2013-01-03</th>\n",
              "      <td>0.467891</td>\n",
              "      <td>1.286483</td>\n",
              "      <td>-0.956606</td>\n",
              "      <td>5</td>\n",
              "    </tr>\n",
              "    <tr>\n",
              "      <th>2013-01-04</th>\n",
              "      <td>0.106568</td>\n",
              "      <td>-0.751591</td>\n",
              "      <td>0.177504</td>\n",
              "      <td>5</td>\n",
              "    </tr>\n",
              "    <tr>\n",
              "      <th>2013-01-05</th>\n",
              "      <td>0.207494</td>\n",
              "      <td>-1.529529</td>\n",
              "      <td>-1.530869</td>\n",
              "      <td>5</td>\n",
              "    </tr>\n",
              "    <tr>\n",
              "      <th>2013-01-06</th>\n",
              "      <td>0.581419</td>\n",
              "      <td>0.032184</td>\n",
              "      <td>-0.892911</td>\n",
              "      <td>5</td>\n",
              "    </tr>\n",
              "  </tbody>\n",
              "</table>\n",
              "</div>"
            ],
            "text/plain": [
              "                   A         B         C  D\n",
              "2013-01-01  0.000000  0.000000 -0.504459  5\n",
              "2013-01-02 -0.369767  2.553829  0.581354  5\n",
              "2013-01-03  0.467891  1.286483 -0.956606  5\n",
              "2013-01-04  0.106568 -0.751591  0.177504  5\n",
              "2013-01-05  0.207494 -1.529529 -1.530869  5\n",
              "2013-01-06  0.581419  0.032184 -0.892911  5"
            ]
          },
          "metadata": {
            "tags": []
          },
          "execution_count": 42
        }
      ]
    },
    {
      "cell_type": "code",
      "metadata": {
        "id": "JPhoftgp5Te7",
        "colab_type": "code",
        "colab": {
          "base_uri": "https://localhost:8080/",
          "height": 235
        },
        "outputId": "7ffbe473-0d2a-426f-ba7d-bc20fb473c94"
      },
      "source": [
        "df2 = df.copy()\n",
        "\n",
        "df2[df2 > 0] = -df2\n",
        "\n",
        "df2"
      ],
      "execution_count": 43,
      "outputs": [
        {
          "output_type": "execute_result",
          "data": {
            "text/html": [
              "<div>\n",
              "<style scoped>\n",
              "    .dataframe tbody tr th:only-of-type {\n",
              "        vertical-align: middle;\n",
              "    }\n",
              "\n",
              "    .dataframe tbody tr th {\n",
              "        vertical-align: top;\n",
              "    }\n",
              "\n",
              "    .dataframe thead th {\n",
              "        text-align: right;\n",
              "    }\n",
              "</style>\n",
              "<table border=\"1\" class=\"dataframe\">\n",
              "  <thead>\n",
              "    <tr style=\"text-align: right;\">\n",
              "      <th></th>\n",
              "      <th>A</th>\n",
              "      <th>B</th>\n",
              "      <th>C</th>\n",
              "      <th>D</th>\n",
              "    </tr>\n",
              "  </thead>\n",
              "  <tbody>\n",
              "    <tr>\n",
              "      <th>2013-01-01</th>\n",
              "      <td>0.000000</td>\n",
              "      <td>0.000000</td>\n",
              "      <td>-0.504459</td>\n",
              "      <td>-5</td>\n",
              "    </tr>\n",
              "    <tr>\n",
              "      <th>2013-01-02</th>\n",
              "      <td>-0.369767</td>\n",
              "      <td>-2.553829</td>\n",
              "      <td>-0.581354</td>\n",
              "      <td>-5</td>\n",
              "    </tr>\n",
              "    <tr>\n",
              "      <th>2013-01-03</th>\n",
              "      <td>-0.467891</td>\n",
              "      <td>-1.286483</td>\n",
              "      <td>-0.956606</td>\n",
              "      <td>-5</td>\n",
              "    </tr>\n",
              "    <tr>\n",
              "      <th>2013-01-04</th>\n",
              "      <td>-0.106568</td>\n",
              "      <td>-0.751591</td>\n",
              "      <td>-0.177504</td>\n",
              "      <td>-5</td>\n",
              "    </tr>\n",
              "    <tr>\n",
              "      <th>2013-01-05</th>\n",
              "      <td>-0.207494</td>\n",
              "      <td>-1.529529</td>\n",
              "      <td>-1.530869</td>\n",
              "      <td>-5</td>\n",
              "    </tr>\n",
              "    <tr>\n",
              "      <th>2013-01-06</th>\n",
              "      <td>-0.581419</td>\n",
              "      <td>-0.032184</td>\n",
              "      <td>-0.892911</td>\n",
              "      <td>-5</td>\n",
              "    </tr>\n",
              "  </tbody>\n",
              "</table>\n",
              "</div>"
            ],
            "text/plain": [
              "                   A         B         C  D\n",
              "2013-01-01  0.000000  0.000000 -0.504459 -5\n",
              "2013-01-02 -0.369767 -2.553829 -0.581354 -5\n",
              "2013-01-03 -0.467891 -1.286483 -0.956606 -5\n",
              "2013-01-04 -0.106568 -0.751591 -0.177504 -5\n",
              "2013-01-05 -0.207494 -1.529529 -1.530869 -5\n",
              "2013-01-06 -0.581419 -0.032184 -0.892911 -5"
            ]
          },
          "metadata": {
            "tags": []
          },
          "execution_count": 43
        }
      ]
    },
    {
      "cell_type": "markdown",
      "metadata": {
        "id": "44B5UWeo5wmJ",
        "colab_type": "text"
      },
      "source": [
        "**Missing data**"
      ]
    },
    {
      "cell_type": "code",
      "metadata": {
        "id": "Mf3twA_N5sPC",
        "colab_type": "code",
        "colab": {
          "base_uri": "https://localhost:8080/",
          "height": 173
        },
        "outputId": "419815ec-4bec-4eb6-b3ac-a3e0888be227"
      },
      "source": [
        "df1 = df.reindex(index=dates[0:4], columns=list(df.columns) + ['E'])\n",
        "\n",
        "df1.loc[dates[0]:dates[1], 'E'] = 1\n",
        "\n",
        "df1"
      ],
      "execution_count": 44,
      "outputs": [
        {
          "output_type": "execute_result",
          "data": {
            "text/html": [
              "<div>\n",
              "<style scoped>\n",
              "    .dataframe tbody tr th:only-of-type {\n",
              "        vertical-align: middle;\n",
              "    }\n",
              "\n",
              "    .dataframe tbody tr th {\n",
              "        vertical-align: top;\n",
              "    }\n",
              "\n",
              "    .dataframe thead th {\n",
              "        text-align: right;\n",
              "    }\n",
              "</style>\n",
              "<table border=\"1\" class=\"dataframe\">\n",
              "  <thead>\n",
              "    <tr style=\"text-align: right;\">\n",
              "      <th></th>\n",
              "      <th>A</th>\n",
              "      <th>B</th>\n",
              "      <th>C</th>\n",
              "      <th>D</th>\n",
              "      <th>E</th>\n",
              "    </tr>\n",
              "  </thead>\n",
              "  <tbody>\n",
              "    <tr>\n",
              "      <th>2013-01-01</th>\n",
              "      <td>0.000000</td>\n",
              "      <td>0.000000</td>\n",
              "      <td>-0.504459</td>\n",
              "      <td>5</td>\n",
              "      <td>1.0</td>\n",
              "    </tr>\n",
              "    <tr>\n",
              "      <th>2013-01-02</th>\n",
              "      <td>-0.369767</td>\n",
              "      <td>2.553829</td>\n",
              "      <td>0.581354</td>\n",
              "      <td>5</td>\n",
              "      <td>1.0</td>\n",
              "    </tr>\n",
              "    <tr>\n",
              "      <th>2013-01-03</th>\n",
              "      <td>0.467891</td>\n",
              "      <td>1.286483</td>\n",
              "      <td>-0.956606</td>\n",
              "      <td>5</td>\n",
              "      <td>NaN</td>\n",
              "    </tr>\n",
              "    <tr>\n",
              "      <th>2013-01-04</th>\n",
              "      <td>0.106568</td>\n",
              "      <td>-0.751591</td>\n",
              "      <td>0.177504</td>\n",
              "      <td>5</td>\n",
              "      <td>NaN</td>\n",
              "    </tr>\n",
              "  </tbody>\n",
              "</table>\n",
              "</div>"
            ],
            "text/plain": [
              "                   A         B         C  D    E\n",
              "2013-01-01  0.000000  0.000000 -0.504459  5  1.0\n",
              "2013-01-02 -0.369767  2.553829  0.581354  5  1.0\n",
              "2013-01-03  0.467891  1.286483 -0.956606  5  NaN\n",
              "2013-01-04  0.106568 -0.751591  0.177504  5  NaN"
            ]
          },
          "metadata": {
            "tags": []
          },
          "execution_count": 44
        }
      ]
    },
    {
      "cell_type": "code",
      "metadata": {
        "id": "WCZpAqdP5_5S",
        "colab_type": "code",
        "colab": {}
      },
      "source": [
        "df1['F'] = [np.nan,1.,2.,3.]"
      ],
      "execution_count": 45,
      "outputs": []
    },
    {
      "cell_type": "code",
      "metadata": {
        "id": "IifAPwKo6MKd",
        "colab_type": "code",
        "colab": {
          "base_uri": "https://localhost:8080/",
          "height": 173
        },
        "outputId": "ceecb7fa-e757-48e0-a269-51f7e0c9afb2"
      },
      "source": [
        "df1"
      ],
      "execution_count": 46,
      "outputs": [
        {
          "output_type": "execute_result",
          "data": {
            "text/html": [
              "<div>\n",
              "<style scoped>\n",
              "    .dataframe tbody tr th:only-of-type {\n",
              "        vertical-align: middle;\n",
              "    }\n",
              "\n",
              "    .dataframe tbody tr th {\n",
              "        vertical-align: top;\n",
              "    }\n",
              "\n",
              "    .dataframe thead th {\n",
              "        text-align: right;\n",
              "    }\n",
              "</style>\n",
              "<table border=\"1\" class=\"dataframe\">\n",
              "  <thead>\n",
              "    <tr style=\"text-align: right;\">\n",
              "      <th></th>\n",
              "      <th>A</th>\n",
              "      <th>B</th>\n",
              "      <th>C</th>\n",
              "      <th>D</th>\n",
              "      <th>E</th>\n",
              "      <th>F</th>\n",
              "    </tr>\n",
              "  </thead>\n",
              "  <tbody>\n",
              "    <tr>\n",
              "      <th>2013-01-01</th>\n",
              "      <td>0.000000</td>\n",
              "      <td>0.000000</td>\n",
              "      <td>-0.504459</td>\n",
              "      <td>5</td>\n",
              "      <td>1.0</td>\n",
              "      <td>NaN</td>\n",
              "    </tr>\n",
              "    <tr>\n",
              "      <th>2013-01-02</th>\n",
              "      <td>-0.369767</td>\n",
              "      <td>2.553829</td>\n",
              "      <td>0.581354</td>\n",
              "      <td>5</td>\n",
              "      <td>1.0</td>\n",
              "      <td>1.0</td>\n",
              "    </tr>\n",
              "    <tr>\n",
              "      <th>2013-01-03</th>\n",
              "      <td>0.467891</td>\n",
              "      <td>1.286483</td>\n",
              "      <td>-0.956606</td>\n",
              "      <td>5</td>\n",
              "      <td>NaN</td>\n",
              "      <td>2.0</td>\n",
              "    </tr>\n",
              "    <tr>\n",
              "      <th>2013-01-04</th>\n",
              "      <td>0.106568</td>\n",
              "      <td>-0.751591</td>\n",
              "      <td>0.177504</td>\n",
              "      <td>5</td>\n",
              "      <td>NaN</td>\n",
              "      <td>3.0</td>\n",
              "    </tr>\n",
              "  </tbody>\n",
              "</table>\n",
              "</div>"
            ],
            "text/plain": [
              "                   A         B         C  D    E    F\n",
              "2013-01-01  0.000000  0.000000 -0.504459  5  1.0  NaN\n",
              "2013-01-02 -0.369767  2.553829  0.581354  5  1.0  1.0\n",
              "2013-01-03  0.467891  1.286483 -0.956606  5  NaN  2.0\n",
              "2013-01-04  0.106568 -0.751591  0.177504  5  NaN  3.0"
            ]
          },
          "metadata": {
            "tags": []
          },
          "execution_count": 46
        }
      ]
    },
    {
      "cell_type": "markdown",
      "metadata": {
        "id": "CnuPstsW6eeo",
        "colab_type": "text"
      },
      "source": [
        "**To drop any rows that have missing data.**"
      ]
    },
    {
      "cell_type": "code",
      "metadata": {
        "id": "TAL20ZbO6UNB",
        "colab_type": "code",
        "colab": {
          "base_uri": "https://localhost:8080/",
          "height": 80
        },
        "outputId": "7526d435-657c-46ec-f50d-bf658b255401"
      },
      "source": [
        "df1.dropna(how='any')"
      ],
      "execution_count": 47,
      "outputs": [
        {
          "output_type": "execute_result",
          "data": {
            "text/html": [
              "<div>\n",
              "<style scoped>\n",
              "    .dataframe tbody tr th:only-of-type {\n",
              "        vertical-align: middle;\n",
              "    }\n",
              "\n",
              "    .dataframe tbody tr th {\n",
              "        vertical-align: top;\n",
              "    }\n",
              "\n",
              "    .dataframe thead th {\n",
              "        text-align: right;\n",
              "    }\n",
              "</style>\n",
              "<table border=\"1\" class=\"dataframe\">\n",
              "  <thead>\n",
              "    <tr style=\"text-align: right;\">\n",
              "      <th></th>\n",
              "      <th>A</th>\n",
              "      <th>B</th>\n",
              "      <th>C</th>\n",
              "      <th>D</th>\n",
              "      <th>E</th>\n",
              "      <th>F</th>\n",
              "    </tr>\n",
              "  </thead>\n",
              "  <tbody>\n",
              "    <tr>\n",
              "      <th>2013-01-02</th>\n",
              "      <td>-0.369767</td>\n",
              "      <td>2.553829</td>\n",
              "      <td>0.581354</td>\n",
              "      <td>5</td>\n",
              "      <td>1.0</td>\n",
              "      <td>1.0</td>\n",
              "    </tr>\n",
              "  </tbody>\n",
              "</table>\n",
              "</div>"
            ],
            "text/plain": [
              "                   A         B         C  D    E    F\n",
              "2013-01-02 -0.369767  2.553829  0.581354  5  1.0  1.0"
            ]
          },
          "metadata": {
            "tags": []
          },
          "execution_count": 47
        }
      ]
    },
    {
      "cell_type": "code",
      "metadata": {
        "id": "x5nPVC1U6iIO",
        "colab_type": "code",
        "colab": {
          "base_uri": "https://localhost:8080/",
          "height": 173
        },
        "outputId": "4e7715ee-b1d1-4250-df73-065f621fcfc2"
      },
      "source": [
        "df1.fillna(value=5)"
      ],
      "execution_count": 48,
      "outputs": [
        {
          "output_type": "execute_result",
          "data": {
            "text/html": [
              "<div>\n",
              "<style scoped>\n",
              "    .dataframe tbody tr th:only-of-type {\n",
              "        vertical-align: middle;\n",
              "    }\n",
              "\n",
              "    .dataframe tbody tr th {\n",
              "        vertical-align: top;\n",
              "    }\n",
              "\n",
              "    .dataframe thead th {\n",
              "        text-align: right;\n",
              "    }\n",
              "</style>\n",
              "<table border=\"1\" class=\"dataframe\">\n",
              "  <thead>\n",
              "    <tr style=\"text-align: right;\">\n",
              "      <th></th>\n",
              "      <th>A</th>\n",
              "      <th>B</th>\n",
              "      <th>C</th>\n",
              "      <th>D</th>\n",
              "      <th>E</th>\n",
              "      <th>F</th>\n",
              "    </tr>\n",
              "  </thead>\n",
              "  <tbody>\n",
              "    <tr>\n",
              "      <th>2013-01-01</th>\n",
              "      <td>0.000000</td>\n",
              "      <td>0.000000</td>\n",
              "      <td>-0.504459</td>\n",
              "      <td>5</td>\n",
              "      <td>1.0</td>\n",
              "      <td>5.0</td>\n",
              "    </tr>\n",
              "    <tr>\n",
              "      <th>2013-01-02</th>\n",
              "      <td>-0.369767</td>\n",
              "      <td>2.553829</td>\n",
              "      <td>0.581354</td>\n",
              "      <td>5</td>\n",
              "      <td>1.0</td>\n",
              "      <td>1.0</td>\n",
              "    </tr>\n",
              "    <tr>\n",
              "      <th>2013-01-03</th>\n",
              "      <td>0.467891</td>\n",
              "      <td>1.286483</td>\n",
              "      <td>-0.956606</td>\n",
              "      <td>5</td>\n",
              "      <td>5.0</td>\n",
              "      <td>2.0</td>\n",
              "    </tr>\n",
              "    <tr>\n",
              "      <th>2013-01-04</th>\n",
              "      <td>0.106568</td>\n",
              "      <td>-0.751591</td>\n",
              "      <td>0.177504</td>\n",
              "      <td>5</td>\n",
              "      <td>5.0</td>\n",
              "      <td>3.0</td>\n",
              "    </tr>\n",
              "  </tbody>\n",
              "</table>\n",
              "</div>"
            ],
            "text/plain": [
              "                   A         B         C  D    E    F\n",
              "2013-01-01  0.000000  0.000000 -0.504459  5  1.0  5.0\n",
              "2013-01-02 -0.369767  2.553829  0.581354  5  1.0  1.0\n",
              "2013-01-03  0.467891  1.286483 -0.956606  5  5.0  2.0\n",
              "2013-01-04  0.106568 -0.751591  0.177504  5  5.0  3.0"
            ]
          },
          "metadata": {
            "tags": []
          },
          "execution_count": 48
        }
      ]
    },
    {
      "cell_type": "code",
      "metadata": {
        "id": "QF_8zG5g6mdY",
        "colab_type": "code",
        "colab": {
          "base_uri": "https://localhost:8080/",
          "height": 173
        },
        "outputId": "d9b6916e-f51d-4a3a-824d-f49380f147a2"
      },
      "source": [
        "pd.isna(df1)"
      ],
      "execution_count": 49,
      "outputs": [
        {
          "output_type": "execute_result",
          "data": {
            "text/html": [
              "<div>\n",
              "<style scoped>\n",
              "    .dataframe tbody tr th:only-of-type {\n",
              "        vertical-align: middle;\n",
              "    }\n",
              "\n",
              "    .dataframe tbody tr th {\n",
              "        vertical-align: top;\n",
              "    }\n",
              "\n",
              "    .dataframe thead th {\n",
              "        text-align: right;\n",
              "    }\n",
              "</style>\n",
              "<table border=\"1\" class=\"dataframe\">\n",
              "  <thead>\n",
              "    <tr style=\"text-align: right;\">\n",
              "      <th></th>\n",
              "      <th>A</th>\n",
              "      <th>B</th>\n",
              "      <th>C</th>\n",
              "      <th>D</th>\n",
              "      <th>E</th>\n",
              "      <th>F</th>\n",
              "    </tr>\n",
              "  </thead>\n",
              "  <tbody>\n",
              "    <tr>\n",
              "      <th>2013-01-01</th>\n",
              "      <td>False</td>\n",
              "      <td>False</td>\n",
              "      <td>False</td>\n",
              "      <td>False</td>\n",
              "      <td>False</td>\n",
              "      <td>True</td>\n",
              "    </tr>\n",
              "    <tr>\n",
              "      <th>2013-01-02</th>\n",
              "      <td>False</td>\n",
              "      <td>False</td>\n",
              "      <td>False</td>\n",
              "      <td>False</td>\n",
              "      <td>False</td>\n",
              "      <td>False</td>\n",
              "    </tr>\n",
              "    <tr>\n",
              "      <th>2013-01-03</th>\n",
              "      <td>False</td>\n",
              "      <td>False</td>\n",
              "      <td>False</td>\n",
              "      <td>False</td>\n",
              "      <td>True</td>\n",
              "      <td>False</td>\n",
              "    </tr>\n",
              "    <tr>\n",
              "      <th>2013-01-04</th>\n",
              "      <td>False</td>\n",
              "      <td>False</td>\n",
              "      <td>False</td>\n",
              "      <td>False</td>\n",
              "      <td>True</td>\n",
              "      <td>False</td>\n",
              "    </tr>\n",
              "  </tbody>\n",
              "</table>\n",
              "</div>"
            ],
            "text/plain": [
              "                A      B      C      D      E      F\n",
              "2013-01-01  False  False  False  False  False   True\n",
              "2013-01-02  False  False  False  False  False  False\n",
              "2013-01-03  False  False  False  False   True  False\n",
              "2013-01-04  False  False  False  False   True  False"
            ]
          },
          "metadata": {
            "tags": []
          },
          "execution_count": 49
        }
      ]
    },
    {
      "cell_type": "markdown",
      "metadata": {
        "id": "OysrIytr-9L6",
        "colab_type": "text"
      },
      "source": [
        "**Operations**"
      ]
    },
    {
      "cell_type": "code",
      "metadata": {
        "id": "iX75CJBE-6Gb",
        "colab_type": "code",
        "colab": {
          "base_uri": "https://localhost:8080/",
          "height": 102
        },
        "outputId": "16d0f698-1efa-4771-9454-c25a89f82509"
      },
      "source": [
        "df.mean()"
      ],
      "execution_count": 50,
      "outputs": [
        {
          "output_type": "execute_result",
          "data": {
            "text/plain": [
              "A    0.165601\n",
              "B    0.265229\n",
              "C   -0.520998\n",
              "D    5.000000\n",
              "dtype: float64"
            ]
          },
          "metadata": {
            "tags": []
          },
          "execution_count": 50
        }
      ]
    },
    {
      "cell_type": "code",
      "metadata": {
        "id": "0cQsclgo6pAt",
        "colab_type": "code",
        "colab": {
          "base_uri": "https://localhost:8080/",
          "height": 136
        },
        "outputId": "afc7c0ff-bbbc-4c9a-d0d5-a99fc8c948fd"
      },
      "source": [
        "df.mean(1)"
      ],
      "execution_count": 51,
      "outputs": [
        {
          "output_type": "execute_result",
          "data": {
            "text/plain": [
              "2013-01-01    1.123885\n",
              "2013-01-02    1.941354\n",
              "2013-01-03    1.449442\n",
              "2013-01-04    1.133120\n",
              "2013-01-05    0.536774\n",
              "2013-01-06    1.180173\n",
              "Freq: D, dtype: float64"
            ]
          },
          "metadata": {
            "tags": []
          },
          "execution_count": 51
        }
      ]
    },
    {
      "cell_type": "code",
      "metadata": {
        "id": "gYI6Ndi0_IhN",
        "colab_type": "code",
        "colab": {
          "base_uri": "https://localhost:8080/",
          "height": 136
        },
        "outputId": "6416b1bb-088a-43e5-fcbb-b519ecd45db8"
      },
      "source": [
        "s = pd.Series([1, 3, 5, np.nan, 6, 8], index=dates)\n",
        "s"
      ],
      "execution_count": 52,
      "outputs": [
        {
          "output_type": "execute_result",
          "data": {
            "text/plain": [
              "2013-01-01    1.0\n",
              "2013-01-02    3.0\n",
              "2013-01-03    5.0\n",
              "2013-01-04    NaN\n",
              "2013-01-05    6.0\n",
              "2013-01-06    8.0\n",
              "Freq: D, dtype: float64"
            ]
          },
          "metadata": {
            "tags": []
          },
          "execution_count": 52
        }
      ]
    },
    {
      "cell_type": "code",
      "metadata": {
        "id": "8_Hu4Tc8Aa2s",
        "colab_type": "code",
        "colab": {
          "base_uri": "https://localhost:8080/",
          "height": 136
        },
        "outputId": "a27dabcc-d537-421a-a209-72e2622c0249"
      },
      "source": [
        "s = pd.Series([1, 3, 5, np.nan, 6, 8], index=dates).shift(2)\n",
        "\n",
        "s"
      ],
      "execution_count": 53,
      "outputs": [
        {
          "output_type": "execute_result",
          "data": {
            "text/plain": [
              "2013-01-01    NaN\n",
              "2013-01-02    NaN\n",
              "2013-01-03    1.0\n",
              "2013-01-04    3.0\n",
              "2013-01-05    5.0\n",
              "2013-01-06    NaN\n",
              "Freq: D, dtype: float64"
            ]
          },
          "metadata": {
            "tags": []
          },
          "execution_count": 53
        }
      ]
    },
    {
      "cell_type": "code",
      "metadata": {
        "id": "4tC1HqSiAiXu",
        "colab_type": "code",
        "colab": {
          "base_uri": "https://localhost:8080/",
          "height": 235
        },
        "outputId": "1f34c2cd-78a9-4847-d85e-6645c793d548"
      },
      "source": [
        "df.sub(s, axis='index')"
      ],
      "execution_count": 54,
      "outputs": [
        {
          "output_type": "execute_result",
          "data": {
            "text/html": [
              "<div>\n",
              "<style scoped>\n",
              "    .dataframe tbody tr th:only-of-type {\n",
              "        vertical-align: middle;\n",
              "    }\n",
              "\n",
              "    .dataframe tbody tr th {\n",
              "        vertical-align: top;\n",
              "    }\n",
              "\n",
              "    .dataframe thead th {\n",
              "        text-align: right;\n",
              "    }\n",
              "</style>\n",
              "<table border=\"1\" class=\"dataframe\">\n",
              "  <thead>\n",
              "    <tr style=\"text-align: right;\">\n",
              "      <th></th>\n",
              "      <th>A</th>\n",
              "      <th>B</th>\n",
              "      <th>C</th>\n",
              "      <th>D</th>\n",
              "    </tr>\n",
              "  </thead>\n",
              "  <tbody>\n",
              "    <tr>\n",
              "      <th>2013-01-01</th>\n",
              "      <td>NaN</td>\n",
              "      <td>NaN</td>\n",
              "      <td>NaN</td>\n",
              "      <td>NaN</td>\n",
              "    </tr>\n",
              "    <tr>\n",
              "      <th>2013-01-02</th>\n",
              "      <td>NaN</td>\n",
              "      <td>NaN</td>\n",
              "      <td>NaN</td>\n",
              "      <td>NaN</td>\n",
              "    </tr>\n",
              "    <tr>\n",
              "      <th>2013-01-03</th>\n",
              "      <td>-0.532109</td>\n",
              "      <td>0.286483</td>\n",
              "      <td>-1.956606</td>\n",
              "      <td>4.0</td>\n",
              "    </tr>\n",
              "    <tr>\n",
              "      <th>2013-01-04</th>\n",
              "      <td>-2.893432</td>\n",
              "      <td>-3.751591</td>\n",
              "      <td>-2.822496</td>\n",
              "      <td>2.0</td>\n",
              "    </tr>\n",
              "    <tr>\n",
              "      <th>2013-01-05</th>\n",
              "      <td>-4.792506</td>\n",
              "      <td>-6.529529</td>\n",
              "      <td>-6.530869</td>\n",
              "      <td>0.0</td>\n",
              "    </tr>\n",
              "    <tr>\n",
              "      <th>2013-01-06</th>\n",
              "      <td>NaN</td>\n",
              "      <td>NaN</td>\n",
              "      <td>NaN</td>\n",
              "      <td>NaN</td>\n",
              "    </tr>\n",
              "  </tbody>\n",
              "</table>\n",
              "</div>"
            ],
            "text/plain": [
              "                   A         B         C    D\n",
              "2013-01-01       NaN       NaN       NaN  NaN\n",
              "2013-01-02       NaN       NaN       NaN  NaN\n",
              "2013-01-03 -0.532109  0.286483 -1.956606  4.0\n",
              "2013-01-04 -2.893432 -3.751591 -2.822496  2.0\n",
              "2013-01-05 -4.792506 -6.529529 -6.530869  0.0\n",
              "2013-01-06       NaN       NaN       NaN  NaN"
            ]
          },
          "metadata": {
            "tags": []
          },
          "execution_count": 54
        }
      ]
    },
    {
      "cell_type": "markdown",
      "metadata": {
        "id": "Kux7KLh_BuHx",
        "colab_type": "text"
      },
      "source": [
        "\n",
        "**Apply**"
      ]
    },
    {
      "cell_type": "code",
      "metadata": {
        "id": "VGe2R-hTBpM0",
        "colab_type": "code",
        "colab": {
          "base_uri": "https://localhost:8080/",
          "height": 235
        },
        "outputId": "29a63bc7-545e-4581-8b42-ac870ae5d872"
      },
      "source": [
        "df.apply(np.cumsum)"
      ],
      "execution_count": 55,
      "outputs": [
        {
          "output_type": "execute_result",
          "data": {
            "text/html": [
              "<div>\n",
              "<style scoped>\n",
              "    .dataframe tbody tr th:only-of-type {\n",
              "        vertical-align: middle;\n",
              "    }\n",
              "\n",
              "    .dataframe tbody tr th {\n",
              "        vertical-align: top;\n",
              "    }\n",
              "\n",
              "    .dataframe thead th {\n",
              "        text-align: right;\n",
              "    }\n",
              "</style>\n",
              "<table border=\"1\" class=\"dataframe\">\n",
              "  <thead>\n",
              "    <tr style=\"text-align: right;\">\n",
              "      <th></th>\n",
              "      <th>A</th>\n",
              "      <th>B</th>\n",
              "      <th>C</th>\n",
              "      <th>D</th>\n",
              "    </tr>\n",
              "  </thead>\n",
              "  <tbody>\n",
              "    <tr>\n",
              "      <th>2013-01-01</th>\n",
              "      <td>0.000000</td>\n",
              "      <td>0.000000</td>\n",
              "      <td>-0.504459</td>\n",
              "      <td>5</td>\n",
              "    </tr>\n",
              "    <tr>\n",
              "      <th>2013-01-02</th>\n",
              "      <td>-0.369767</td>\n",
              "      <td>2.553829</td>\n",
              "      <td>0.076895</td>\n",
              "      <td>10</td>\n",
              "    </tr>\n",
              "    <tr>\n",
              "      <th>2013-01-03</th>\n",
              "      <td>0.098124</td>\n",
              "      <td>3.840312</td>\n",
              "      <td>-0.879711</td>\n",
              "      <td>15</td>\n",
              "    </tr>\n",
              "    <tr>\n",
              "      <th>2013-01-04</th>\n",
              "      <td>0.204692</td>\n",
              "      <td>3.088722</td>\n",
              "      <td>-0.702207</td>\n",
              "      <td>20</td>\n",
              "    </tr>\n",
              "    <tr>\n",
              "      <th>2013-01-05</th>\n",
              "      <td>0.412186</td>\n",
              "      <td>1.559192</td>\n",
              "      <td>-2.233077</td>\n",
              "      <td>25</td>\n",
              "    </tr>\n",
              "    <tr>\n",
              "      <th>2013-01-06</th>\n",
              "      <td>0.993605</td>\n",
              "      <td>1.591377</td>\n",
              "      <td>-3.125988</td>\n",
              "      <td>30</td>\n",
              "    </tr>\n",
              "  </tbody>\n",
              "</table>\n",
              "</div>"
            ],
            "text/plain": [
              "                   A         B         C   D\n",
              "2013-01-01  0.000000  0.000000 -0.504459   5\n",
              "2013-01-02 -0.369767  2.553829  0.076895  10\n",
              "2013-01-03  0.098124  3.840312 -0.879711  15\n",
              "2013-01-04  0.204692  3.088722 -0.702207  20\n",
              "2013-01-05  0.412186  1.559192 -2.233077  25\n",
              "2013-01-06  0.993605  1.591377 -3.125988  30"
            ]
          },
          "metadata": {
            "tags": []
          },
          "execution_count": 55
        }
      ]
    },
    {
      "cell_type": "code",
      "metadata": {
        "id": "j3rE3wgDB1tD",
        "colab_type": "code",
        "colab": {
          "base_uri": "https://localhost:8080/",
          "height": 102
        },
        "outputId": "392c3879-f144-4770-f88e-5b521293883f"
      },
      "source": [
        "df.apply(lambda x: x.max() - x.min())"
      ],
      "execution_count": 56,
      "outputs": [
        {
          "output_type": "execute_result",
          "data": {
            "text/plain": [
              "A    0.951187\n",
              "B    4.083358\n",
              "C    2.112223\n",
              "D    0.000000\n",
              "dtype: float64"
            ]
          },
          "metadata": {
            "tags": []
          },
          "execution_count": 56
        }
      ]
    },
    {
      "cell_type": "markdown",
      "metadata": {
        "id": "JHazhNggSI0r",
        "colab_type": "text"
      },
      "source": [
        "**Histogramming**"
      ]
    },
    {
      "cell_type": "code",
      "metadata": {
        "id": "BI3BOqXCCixK",
        "colab_type": "code",
        "colab": {
          "base_uri": "https://localhost:8080/",
          "height": 204
        },
        "outputId": "a4e75611-849c-4dd8-e73d-61f28e753677"
      },
      "source": [
        "s = pd.Series(np.random.randint(0, 7, size=10))\n",
        "\n",
        "s"
      ],
      "execution_count": 57,
      "outputs": [
        {
          "output_type": "execute_result",
          "data": {
            "text/plain": [
              "0    4\n",
              "1    1\n",
              "2    5\n",
              "3    5\n",
              "4    1\n",
              "5    5\n",
              "6    1\n",
              "7    0\n",
              "8    3\n",
              "9    6\n",
              "dtype: int64"
            ]
          },
          "metadata": {
            "tags": []
          },
          "execution_count": 57
        }
      ]
    },
    {
      "cell_type": "code",
      "metadata": {
        "id": "Y_ArutT6S_vO",
        "colab_type": "code",
        "colab": {
          "base_uri": "https://localhost:8080/",
          "height": 136
        },
        "outputId": "8efbf93d-7df1-4f6f-9b05-1da786aa2f9b"
      },
      "source": [
        "s.value_counts()"
      ],
      "execution_count": 58,
      "outputs": [
        {
          "output_type": "execute_result",
          "data": {
            "text/plain": [
              "5    3\n",
              "1    3\n",
              "6    1\n",
              "4    1\n",
              "3    1\n",
              "0    1\n",
              "dtype: int64"
            ]
          },
          "metadata": {
            "tags": []
          },
          "execution_count": 58
        }
      ]
    },
    {
      "cell_type": "markdown",
      "metadata": {
        "id": "g5p0NLwNTLkt",
        "colab_type": "text"
      },
      "source": [
        "**String Methods**"
      ]
    },
    {
      "cell_type": "code",
      "metadata": {
        "id": "_ed_hPxWTAki",
        "colab_type": "code",
        "colab": {
          "base_uri": "https://localhost:8080/",
          "height": 187
        },
        "outputId": "029b182e-7a81-40a7-e0d9-2c171343cf00"
      },
      "source": [
        "s = pd.Series(['A', 'B', 'C', 'Aaba', 'Baca',\n",
        "               np.nan, 'CABA', 'dog', 'cat'])\n",
        "\n",
        "s.str.lower()"
      ],
      "execution_count": 59,
      "outputs": [
        {
          "output_type": "execute_result",
          "data": {
            "text/plain": [
              "0       a\n",
              "1       b\n",
              "2       c\n",
              "3    aaba\n",
              "4    baca\n",
              "5     NaN\n",
              "6    caba\n",
              "7     dog\n",
              "8     cat\n",
              "dtype: object"
            ]
          },
          "metadata": {
            "tags": []
          },
          "execution_count": 59
        }
      ]
    },
    {
      "cell_type": "markdown",
      "metadata": {
        "id": "tWvW047STaF-",
        "colab_type": "text"
      },
      "source": [
        "**Merge**"
      ]
    },
    {
      "cell_type": "code",
      "metadata": {
        "id": "IEqsttcDTTfp",
        "colab_type": "code",
        "colab": {
          "base_uri": "https://localhost:8080/",
          "height": 359
        },
        "outputId": "9d1ae100-3eb8-4502-98ee-643394bc6f5a"
      },
      "source": [
        "df = pd.DataFrame(np.random.randn(10, 4))\n",
        "df"
      ],
      "execution_count": 60,
      "outputs": [
        {
          "output_type": "execute_result",
          "data": {
            "text/html": [
              "<div>\n",
              "<style scoped>\n",
              "    .dataframe tbody tr th:only-of-type {\n",
              "        vertical-align: middle;\n",
              "    }\n",
              "\n",
              "    .dataframe tbody tr th {\n",
              "        vertical-align: top;\n",
              "    }\n",
              "\n",
              "    .dataframe thead th {\n",
              "        text-align: right;\n",
              "    }\n",
              "</style>\n",
              "<table border=\"1\" class=\"dataframe\">\n",
              "  <thead>\n",
              "    <tr style=\"text-align: right;\">\n",
              "      <th></th>\n",
              "      <th>0</th>\n",
              "      <th>1</th>\n",
              "      <th>2</th>\n",
              "      <th>3</th>\n",
              "    </tr>\n",
              "  </thead>\n",
              "  <tbody>\n",
              "    <tr>\n",
              "      <th>0</th>\n",
              "      <td>1.272788</td>\n",
              "      <td>1.624837</td>\n",
              "      <td>2.456504</td>\n",
              "      <td>-0.405990</td>\n",
              "    </tr>\n",
              "    <tr>\n",
              "      <th>1</th>\n",
              "      <td>1.559721</td>\n",
              "      <td>-0.175048</td>\n",
              "      <td>0.783329</td>\n",
              "      <td>-0.044969</td>\n",
              "    </tr>\n",
              "    <tr>\n",
              "      <th>2</th>\n",
              "      <td>2.091021</td>\n",
              "      <td>0.300043</td>\n",
              "      <td>2.810095</td>\n",
              "      <td>0.682394</td>\n",
              "    </tr>\n",
              "    <tr>\n",
              "      <th>3</th>\n",
              "      <td>1.585349</td>\n",
              "      <td>0.334690</td>\n",
              "      <td>1.081718</td>\n",
              "      <td>0.480709</td>\n",
              "    </tr>\n",
              "    <tr>\n",
              "      <th>4</th>\n",
              "      <td>1.272421</td>\n",
              "      <td>-1.807078</td>\n",
              "      <td>-0.612378</td>\n",
              "      <td>0.261533</td>\n",
              "    </tr>\n",
              "    <tr>\n",
              "      <th>5</th>\n",
              "      <td>-0.136296</td>\n",
              "      <td>-0.161005</td>\n",
              "      <td>-1.078537</td>\n",
              "      <td>-0.129425</td>\n",
              "    </tr>\n",
              "    <tr>\n",
              "      <th>6</th>\n",
              "      <td>-1.491402</td>\n",
              "      <td>0.306692</td>\n",
              "      <td>0.137498</td>\n",
              "      <td>0.710820</td>\n",
              "    </tr>\n",
              "    <tr>\n",
              "      <th>7</th>\n",
              "      <td>0.231604</td>\n",
              "      <td>-2.749023</td>\n",
              "      <td>0.523042</td>\n",
              "      <td>-0.522946</td>\n",
              "    </tr>\n",
              "    <tr>\n",
              "      <th>8</th>\n",
              "      <td>2.636163</td>\n",
              "      <td>-1.786621</td>\n",
              "      <td>-0.178594</td>\n",
              "      <td>-0.888153</td>\n",
              "    </tr>\n",
              "    <tr>\n",
              "      <th>9</th>\n",
              "      <td>-0.958103</td>\n",
              "      <td>0.458090</td>\n",
              "      <td>-1.558991</td>\n",
              "      <td>0.427839</td>\n",
              "    </tr>\n",
              "  </tbody>\n",
              "</table>\n",
              "</div>"
            ],
            "text/plain": [
              "          0         1         2         3\n",
              "0  1.272788  1.624837  2.456504 -0.405990\n",
              "1  1.559721 -0.175048  0.783329 -0.044969\n",
              "2  2.091021  0.300043  2.810095  0.682394\n",
              "3  1.585349  0.334690  1.081718  0.480709\n",
              "4  1.272421 -1.807078 -0.612378  0.261533\n",
              "5 -0.136296 -0.161005 -1.078537 -0.129425\n",
              "6 -1.491402  0.306692  0.137498  0.710820\n",
              "7  0.231604 -2.749023  0.523042 -0.522946\n",
              "8  2.636163 -1.786621 -0.178594 -0.888153\n",
              "9 -0.958103  0.458090 -1.558991  0.427839"
            ]
          },
          "metadata": {
            "tags": []
          },
          "execution_count": 60
        }
      ]
    },
    {
      "cell_type": "code",
      "metadata": {
        "id": "wgHEOU1aTfOE",
        "colab_type": "code",
        "colab": {
          "base_uri": "https://localhost:8080/",
          "height": 238
        },
        "outputId": "0cb175b1-2e90-4a7d-da62-b59716194506"
      },
      "source": [
        "pieces = [df[:3], df[3:7], df[7:]]\n",
        "pieces"
      ],
      "execution_count": 61,
      "outputs": [
        {
          "output_type": "execute_result",
          "data": {
            "text/plain": [
              "[          0         1         2         3\n",
              " 0  1.272788  1.624837  2.456504 -0.405990\n",
              " 1  1.559721 -0.175048  0.783329 -0.044969\n",
              " 2  2.091021  0.300043  2.810095  0.682394,\n",
              "           0         1         2         3\n",
              " 3  1.585349  0.334690  1.081718  0.480709\n",
              " 4  1.272421 -1.807078 -0.612378  0.261533\n",
              " 5 -0.136296 -0.161005 -1.078537 -0.129425\n",
              " 6 -1.491402  0.306692  0.137498  0.710820,\n",
              "           0         1         2         3\n",
              " 7  0.231604 -2.749023  0.523042 -0.522946\n",
              " 8  2.636163 -1.786621 -0.178594 -0.888153\n",
              " 9 -0.958103  0.458090 -1.558991  0.427839]"
            ]
          },
          "metadata": {
            "tags": []
          },
          "execution_count": 61
        }
      ]
    },
    {
      "cell_type": "code",
      "metadata": {
        "id": "gfW-HQgtTshp",
        "colab_type": "code",
        "colab": {
          "base_uri": "https://localhost:8080/",
          "height": 359
        },
        "outputId": "09302853-a33e-4784-dbb9-4e8a5910f49d"
      },
      "source": [
        "pd.concat(pieces)"
      ],
      "execution_count": 62,
      "outputs": [
        {
          "output_type": "execute_result",
          "data": {
            "text/html": [
              "<div>\n",
              "<style scoped>\n",
              "    .dataframe tbody tr th:only-of-type {\n",
              "        vertical-align: middle;\n",
              "    }\n",
              "\n",
              "    .dataframe tbody tr th {\n",
              "        vertical-align: top;\n",
              "    }\n",
              "\n",
              "    .dataframe thead th {\n",
              "        text-align: right;\n",
              "    }\n",
              "</style>\n",
              "<table border=\"1\" class=\"dataframe\">\n",
              "  <thead>\n",
              "    <tr style=\"text-align: right;\">\n",
              "      <th></th>\n",
              "      <th>0</th>\n",
              "      <th>1</th>\n",
              "      <th>2</th>\n",
              "      <th>3</th>\n",
              "    </tr>\n",
              "  </thead>\n",
              "  <tbody>\n",
              "    <tr>\n",
              "      <th>0</th>\n",
              "      <td>1.272788</td>\n",
              "      <td>1.624837</td>\n",
              "      <td>2.456504</td>\n",
              "      <td>-0.405990</td>\n",
              "    </tr>\n",
              "    <tr>\n",
              "      <th>1</th>\n",
              "      <td>1.559721</td>\n",
              "      <td>-0.175048</td>\n",
              "      <td>0.783329</td>\n",
              "      <td>-0.044969</td>\n",
              "    </tr>\n",
              "    <tr>\n",
              "      <th>2</th>\n",
              "      <td>2.091021</td>\n",
              "      <td>0.300043</td>\n",
              "      <td>2.810095</td>\n",
              "      <td>0.682394</td>\n",
              "    </tr>\n",
              "    <tr>\n",
              "      <th>3</th>\n",
              "      <td>1.585349</td>\n",
              "      <td>0.334690</td>\n",
              "      <td>1.081718</td>\n",
              "      <td>0.480709</td>\n",
              "    </tr>\n",
              "    <tr>\n",
              "      <th>4</th>\n",
              "      <td>1.272421</td>\n",
              "      <td>-1.807078</td>\n",
              "      <td>-0.612378</td>\n",
              "      <td>0.261533</td>\n",
              "    </tr>\n",
              "    <tr>\n",
              "      <th>5</th>\n",
              "      <td>-0.136296</td>\n",
              "      <td>-0.161005</td>\n",
              "      <td>-1.078537</td>\n",
              "      <td>-0.129425</td>\n",
              "    </tr>\n",
              "    <tr>\n",
              "      <th>6</th>\n",
              "      <td>-1.491402</td>\n",
              "      <td>0.306692</td>\n",
              "      <td>0.137498</td>\n",
              "      <td>0.710820</td>\n",
              "    </tr>\n",
              "    <tr>\n",
              "      <th>7</th>\n",
              "      <td>0.231604</td>\n",
              "      <td>-2.749023</td>\n",
              "      <td>0.523042</td>\n",
              "      <td>-0.522946</td>\n",
              "    </tr>\n",
              "    <tr>\n",
              "      <th>8</th>\n",
              "      <td>2.636163</td>\n",
              "      <td>-1.786621</td>\n",
              "      <td>-0.178594</td>\n",
              "      <td>-0.888153</td>\n",
              "    </tr>\n",
              "    <tr>\n",
              "      <th>9</th>\n",
              "      <td>-0.958103</td>\n",
              "      <td>0.458090</td>\n",
              "      <td>-1.558991</td>\n",
              "      <td>0.427839</td>\n",
              "    </tr>\n",
              "  </tbody>\n",
              "</table>\n",
              "</div>"
            ],
            "text/plain": [
              "          0         1         2         3\n",
              "0  1.272788  1.624837  2.456504 -0.405990\n",
              "1  1.559721 -0.175048  0.783329 -0.044969\n",
              "2  2.091021  0.300043  2.810095  0.682394\n",
              "3  1.585349  0.334690  1.081718  0.480709\n",
              "4  1.272421 -1.807078 -0.612378  0.261533\n",
              "5 -0.136296 -0.161005 -1.078537 -0.129425\n",
              "6 -1.491402  0.306692  0.137498  0.710820\n",
              "7  0.231604 -2.749023  0.523042 -0.522946\n",
              "8  2.636163 -1.786621 -0.178594 -0.888153\n",
              "9 -0.958103  0.458090 -1.558991  0.427839"
            ]
          },
          "metadata": {
            "tags": []
          },
          "execution_count": 62
        }
      ]
    },
    {
      "cell_type": "markdown",
      "metadata": {
        "id": "TpZ8c3bLTw3K",
        "colab_type": "text"
      },
      "source": [
        "**Join**"
      ]
    },
    {
      "cell_type": "code",
      "metadata": {
        "id": "_p5_GZtmTu4c",
        "colab_type": "code",
        "colab": {}
      },
      "source": [
        "left = pd.DataFrame({'key': ['foo', 'foo'], 'lval': [1, 2]})\n",
        "\n",
        "right = pd.DataFrame({'key': ['foo', 'foo'], 'rval': [4, 5]})\n"
      ],
      "execution_count": 63,
      "outputs": []
    },
    {
      "cell_type": "code",
      "metadata": {
        "id": "5lCLMFlmT2oP",
        "colab_type": "code",
        "colab": {
          "base_uri": "https://localhost:8080/",
          "height": 111
        },
        "outputId": "5e9744ab-ef05-4307-c270-da2459c925f3"
      },
      "source": [
        "left"
      ],
      "execution_count": 64,
      "outputs": [
        {
          "output_type": "execute_result",
          "data": {
            "text/html": [
              "<div>\n",
              "<style scoped>\n",
              "    .dataframe tbody tr th:only-of-type {\n",
              "        vertical-align: middle;\n",
              "    }\n",
              "\n",
              "    .dataframe tbody tr th {\n",
              "        vertical-align: top;\n",
              "    }\n",
              "\n",
              "    .dataframe thead th {\n",
              "        text-align: right;\n",
              "    }\n",
              "</style>\n",
              "<table border=\"1\" class=\"dataframe\">\n",
              "  <thead>\n",
              "    <tr style=\"text-align: right;\">\n",
              "      <th></th>\n",
              "      <th>key</th>\n",
              "      <th>lval</th>\n",
              "    </tr>\n",
              "  </thead>\n",
              "  <tbody>\n",
              "    <tr>\n",
              "      <th>0</th>\n",
              "      <td>foo</td>\n",
              "      <td>1</td>\n",
              "    </tr>\n",
              "    <tr>\n",
              "      <th>1</th>\n",
              "      <td>foo</td>\n",
              "      <td>2</td>\n",
              "    </tr>\n",
              "  </tbody>\n",
              "</table>\n",
              "</div>"
            ],
            "text/plain": [
              "   key  lval\n",
              "0  foo     1\n",
              "1  foo     2"
            ]
          },
          "metadata": {
            "tags": []
          },
          "execution_count": 64
        }
      ]
    },
    {
      "cell_type": "code",
      "metadata": {
        "id": "gyYuf5jZT3OF",
        "colab_type": "code",
        "colab": {
          "base_uri": "https://localhost:8080/",
          "height": 111
        },
        "outputId": "97539ee9-79b5-4559-e157-bca57f86f60e"
      },
      "source": [
        "right"
      ],
      "execution_count": 65,
      "outputs": [
        {
          "output_type": "execute_result",
          "data": {
            "text/html": [
              "<div>\n",
              "<style scoped>\n",
              "    .dataframe tbody tr th:only-of-type {\n",
              "        vertical-align: middle;\n",
              "    }\n",
              "\n",
              "    .dataframe tbody tr th {\n",
              "        vertical-align: top;\n",
              "    }\n",
              "\n",
              "    .dataframe thead th {\n",
              "        text-align: right;\n",
              "    }\n",
              "</style>\n",
              "<table border=\"1\" class=\"dataframe\">\n",
              "  <thead>\n",
              "    <tr style=\"text-align: right;\">\n",
              "      <th></th>\n",
              "      <th>key</th>\n",
              "      <th>rval</th>\n",
              "    </tr>\n",
              "  </thead>\n",
              "  <tbody>\n",
              "    <tr>\n",
              "      <th>0</th>\n",
              "      <td>foo</td>\n",
              "      <td>4</td>\n",
              "    </tr>\n",
              "    <tr>\n",
              "      <th>1</th>\n",
              "      <td>foo</td>\n",
              "      <td>5</td>\n",
              "    </tr>\n",
              "  </tbody>\n",
              "</table>\n",
              "</div>"
            ],
            "text/plain": [
              "   key  rval\n",
              "0  foo     4\n",
              "1  foo     5"
            ]
          },
          "metadata": {
            "tags": []
          },
          "execution_count": 65
        }
      ]
    },
    {
      "cell_type": "code",
      "metadata": {
        "id": "T1yE-L4WT34e",
        "colab_type": "code",
        "colab": {
          "base_uri": "https://localhost:8080/",
          "height": 173
        },
        "outputId": "f2ad2146-68e4-475a-d500-cf443ea912b7"
      },
      "source": [
        "pd.merge(left,right, on='key')"
      ],
      "execution_count": 66,
      "outputs": [
        {
          "output_type": "execute_result",
          "data": {
            "text/html": [
              "<div>\n",
              "<style scoped>\n",
              "    .dataframe tbody tr th:only-of-type {\n",
              "        vertical-align: middle;\n",
              "    }\n",
              "\n",
              "    .dataframe tbody tr th {\n",
              "        vertical-align: top;\n",
              "    }\n",
              "\n",
              "    .dataframe thead th {\n",
              "        text-align: right;\n",
              "    }\n",
              "</style>\n",
              "<table border=\"1\" class=\"dataframe\">\n",
              "  <thead>\n",
              "    <tr style=\"text-align: right;\">\n",
              "      <th></th>\n",
              "      <th>key</th>\n",
              "      <th>lval</th>\n",
              "      <th>rval</th>\n",
              "    </tr>\n",
              "  </thead>\n",
              "  <tbody>\n",
              "    <tr>\n",
              "      <th>0</th>\n",
              "      <td>foo</td>\n",
              "      <td>1</td>\n",
              "      <td>4</td>\n",
              "    </tr>\n",
              "    <tr>\n",
              "      <th>1</th>\n",
              "      <td>foo</td>\n",
              "      <td>1</td>\n",
              "      <td>5</td>\n",
              "    </tr>\n",
              "    <tr>\n",
              "      <th>2</th>\n",
              "      <td>foo</td>\n",
              "      <td>2</td>\n",
              "      <td>4</td>\n",
              "    </tr>\n",
              "    <tr>\n",
              "      <th>3</th>\n",
              "      <td>foo</td>\n",
              "      <td>2</td>\n",
              "      <td>5</td>\n",
              "    </tr>\n",
              "  </tbody>\n",
              "</table>\n",
              "</div>"
            ],
            "text/plain": [
              "   key  lval  rval\n",
              "0  foo     1     4\n",
              "1  foo     1     5\n",
              "2  foo     2     4\n",
              "3  foo     2     5"
            ]
          },
          "metadata": {
            "tags": []
          },
          "execution_count": 66
        }
      ]
    },
    {
      "cell_type": "code",
      "metadata": {
        "id": "erW_ua15T_Wc",
        "colab_type": "code",
        "colab": {}
      },
      "source": [
        "left = pd.DataFrame({'key': ['foo', 'bar'], 'lval': [1, 2]})\n",
        "\n",
        "right = pd.DataFrame({'key': ['foo', 'bar'], 'rval': [4, 5]})"
      ],
      "execution_count": 67,
      "outputs": []
    },
    {
      "cell_type": "code",
      "metadata": {
        "id": "fJV1CLGrUIKA",
        "colab_type": "code",
        "colab": {
          "base_uri": "https://localhost:8080/",
          "height": 111
        },
        "outputId": "e82654f1-948c-433e-dd69-36ad92dce00b"
      },
      "source": [
        "left"
      ],
      "execution_count": 68,
      "outputs": [
        {
          "output_type": "execute_result",
          "data": {
            "text/html": [
              "<div>\n",
              "<style scoped>\n",
              "    .dataframe tbody tr th:only-of-type {\n",
              "        vertical-align: middle;\n",
              "    }\n",
              "\n",
              "    .dataframe tbody tr th {\n",
              "        vertical-align: top;\n",
              "    }\n",
              "\n",
              "    .dataframe thead th {\n",
              "        text-align: right;\n",
              "    }\n",
              "</style>\n",
              "<table border=\"1\" class=\"dataframe\">\n",
              "  <thead>\n",
              "    <tr style=\"text-align: right;\">\n",
              "      <th></th>\n",
              "      <th>key</th>\n",
              "      <th>lval</th>\n",
              "    </tr>\n",
              "  </thead>\n",
              "  <tbody>\n",
              "    <tr>\n",
              "      <th>0</th>\n",
              "      <td>foo</td>\n",
              "      <td>1</td>\n",
              "    </tr>\n",
              "    <tr>\n",
              "      <th>1</th>\n",
              "      <td>bar</td>\n",
              "      <td>2</td>\n",
              "    </tr>\n",
              "  </tbody>\n",
              "</table>\n",
              "</div>"
            ],
            "text/plain": [
              "   key  lval\n",
              "0  foo     1\n",
              "1  bar     2"
            ]
          },
          "metadata": {
            "tags": []
          },
          "execution_count": 68
        }
      ]
    },
    {
      "cell_type": "code",
      "metadata": {
        "id": "ejPwjM2SU9NW",
        "colab_type": "code",
        "colab": {
          "base_uri": "https://localhost:8080/",
          "height": 111
        },
        "outputId": "c4c40470-f858-49b8-8d52-86e999c22e98"
      },
      "source": [
        "right"
      ],
      "execution_count": 69,
      "outputs": [
        {
          "output_type": "execute_result",
          "data": {
            "text/html": [
              "<div>\n",
              "<style scoped>\n",
              "    .dataframe tbody tr th:only-of-type {\n",
              "        vertical-align: middle;\n",
              "    }\n",
              "\n",
              "    .dataframe tbody tr th {\n",
              "        vertical-align: top;\n",
              "    }\n",
              "\n",
              "    .dataframe thead th {\n",
              "        text-align: right;\n",
              "    }\n",
              "</style>\n",
              "<table border=\"1\" class=\"dataframe\">\n",
              "  <thead>\n",
              "    <tr style=\"text-align: right;\">\n",
              "      <th></th>\n",
              "      <th>key</th>\n",
              "      <th>rval</th>\n",
              "    </tr>\n",
              "  </thead>\n",
              "  <tbody>\n",
              "    <tr>\n",
              "      <th>0</th>\n",
              "      <td>foo</td>\n",
              "      <td>4</td>\n",
              "    </tr>\n",
              "    <tr>\n",
              "      <th>1</th>\n",
              "      <td>bar</td>\n",
              "      <td>5</td>\n",
              "    </tr>\n",
              "  </tbody>\n",
              "</table>\n",
              "</div>"
            ],
            "text/plain": [
              "   key  rval\n",
              "0  foo     4\n",
              "1  bar     5"
            ]
          },
          "metadata": {
            "tags": []
          },
          "execution_count": 69
        }
      ]
    },
    {
      "cell_type": "code",
      "metadata": {
        "id": "eYOLo56fU9yK",
        "colab_type": "code",
        "colab": {
          "base_uri": "https://localhost:8080/",
          "height": 111
        },
        "outputId": "83b4cb87-0af7-471f-cb14-b933ffd40e30"
      },
      "source": [
        "pd.merge(left, right, on='key')"
      ],
      "execution_count": 70,
      "outputs": [
        {
          "output_type": "execute_result",
          "data": {
            "text/html": [
              "<div>\n",
              "<style scoped>\n",
              "    .dataframe tbody tr th:only-of-type {\n",
              "        vertical-align: middle;\n",
              "    }\n",
              "\n",
              "    .dataframe tbody tr th {\n",
              "        vertical-align: top;\n",
              "    }\n",
              "\n",
              "    .dataframe thead th {\n",
              "        text-align: right;\n",
              "    }\n",
              "</style>\n",
              "<table border=\"1\" class=\"dataframe\">\n",
              "  <thead>\n",
              "    <tr style=\"text-align: right;\">\n",
              "      <th></th>\n",
              "      <th>key</th>\n",
              "      <th>lval</th>\n",
              "      <th>rval</th>\n",
              "    </tr>\n",
              "  </thead>\n",
              "  <tbody>\n",
              "    <tr>\n",
              "      <th>0</th>\n",
              "      <td>foo</td>\n",
              "      <td>1</td>\n",
              "      <td>4</td>\n",
              "    </tr>\n",
              "    <tr>\n",
              "      <th>1</th>\n",
              "      <td>bar</td>\n",
              "      <td>2</td>\n",
              "      <td>5</td>\n",
              "    </tr>\n",
              "  </tbody>\n",
              "</table>\n",
              "</div>"
            ],
            "text/plain": [
              "   key  lval  rval\n",
              "0  foo     1     4\n",
              "1  bar     2     5"
            ]
          },
          "metadata": {
            "tags": []
          },
          "execution_count": 70
        }
      ]
    },
    {
      "cell_type": "markdown",
      "metadata": {
        "id": "jDEej1poX_f-",
        "colab_type": "text"
      },
      "source": [
        "**Grouping**"
      ]
    },
    {
      "cell_type": "code",
      "metadata": {
        "id": "-EIP87gPVBzo",
        "colab_type": "code",
        "colab": {
          "base_uri": "https://localhost:8080/",
          "height": 297
        },
        "outputId": "dda78569-99bf-4482-840c-96cd2e4b1531"
      },
      "source": [
        "df = pd.DataFrame({'A': ['foo', 'bar', 'foo', 'bar',\n",
        "                        'foo', 'bar', 'foo', 'foo'],\n",
        "                  'B': ['one', 'one', 'two', 'three',\n",
        "                        'two', 'two', 'one', 'three'],\n",
        "                  'C': np.random.randn(8),\n",
        "                  'D': np.random.randn(8)})\n",
        "df"
      ],
      "execution_count": 71,
      "outputs": [
        {
          "output_type": "execute_result",
          "data": {
            "text/html": [
              "<div>\n",
              "<style scoped>\n",
              "    .dataframe tbody tr th:only-of-type {\n",
              "        vertical-align: middle;\n",
              "    }\n",
              "\n",
              "    .dataframe tbody tr th {\n",
              "        vertical-align: top;\n",
              "    }\n",
              "\n",
              "    .dataframe thead th {\n",
              "        text-align: right;\n",
              "    }\n",
              "</style>\n",
              "<table border=\"1\" class=\"dataframe\">\n",
              "  <thead>\n",
              "    <tr style=\"text-align: right;\">\n",
              "      <th></th>\n",
              "      <th>A</th>\n",
              "      <th>B</th>\n",
              "      <th>C</th>\n",
              "      <th>D</th>\n",
              "    </tr>\n",
              "  </thead>\n",
              "  <tbody>\n",
              "    <tr>\n",
              "      <th>0</th>\n",
              "      <td>foo</td>\n",
              "      <td>one</td>\n",
              "      <td>0.074357</td>\n",
              "      <td>-0.528915</td>\n",
              "    </tr>\n",
              "    <tr>\n",
              "      <th>1</th>\n",
              "      <td>bar</td>\n",
              "      <td>one</td>\n",
              "      <td>0.000967</td>\n",
              "      <td>-0.454893</td>\n",
              "    </tr>\n",
              "    <tr>\n",
              "      <th>2</th>\n",
              "      <td>foo</td>\n",
              "      <td>two</td>\n",
              "      <td>-0.819242</td>\n",
              "      <td>1.029431</td>\n",
              "    </tr>\n",
              "    <tr>\n",
              "      <th>3</th>\n",
              "      <td>bar</td>\n",
              "      <td>three</td>\n",
              "      <td>0.128171</td>\n",
              "      <td>2.623264</td>\n",
              "    </tr>\n",
              "    <tr>\n",
              "      <th>4</th>\n",
              "      <td>foo</td>\n",
              "      <td>two</td>\n",
              "      <td>-0.857257</td>\n",
              "      <td>-0.758269</td>\n",
              "    </tr>\n",
              "    <tr>\n",
              "      <th>5</th>\n",
              "      <td>bar</td>\n",
              "      <td>two</td>\n",
              "      <td>-1.209796</td>\n",
              "      <td>0.517178</td>\n",
              "    </tr>\n",
              "    <tr>\n",
              "      <th>6</th>\n",
              "      <td>foo</td>\n",
              "      <td>one</td>\n",
              "      <td>0.352850</td>\n",
              "      <td>1.075997</td>\n",
              "    </tr>\n",
              "    <tr>\n",
              "      <th>7</th>\n",
              "      <td>foo</td>\n",
              "      <td>three</td>\n",
              "      <td>1.282046</td>\n",
              "      <td>0.012574</td>\n",
              "    </tr>\n",
              "  </tbody>\n",
              "</table>\n",
              "</div>"
            ],
            "text/plain": [
              "     A      B         C         D\n",
              "0  foo    one  0.074357 -0.528915\n",
              "1  bar    one  0.000967 -0.454893\n",
              "2  foo    two -0.819242  1.029431\n",
              "3  bar  three  0.128171  2.623264\n",
              "4  foo    two -0.857257 -0.758269\n",
              "5  bar    two -1.209796  0.517178\n",
              "6  foo    one  0.352850  1.075997\n",
              "7  foo  three  1.282046  0.012574"
            ]
          },
          "metadata": {
            "tags": []
          },
          "execution_count": 71
        }
      ]
    },
    {
      "cell_type": "code",
      "metadata": {
        "id": "akVFMvLiYNPV",
        "colab_type": "code",
        "colab": {
          "base_uri": "https://localhost:8080/",
          "height": 142
        },
        "outputId": "6ee1c916-927b-4c67-d981-0a62a7b7260e"
      },
      "source": [
        "df.groupby('A').sum()"
      ],
      "execution_count": 72,
      "outputs": [
        {
          "output_type": "execute_result",
          "data": {
            "text/html": [
              "<div>\n",
              "<style scoped>\n",
              "    .dataframe tbody tr th:only-of-type {\n",
              "        vertical-align: middle;\n",
              "    }\n",
              "\n",
              "    .dataframe tbody tr th {\n",
              "        vertical-align: top;\n",
              "    }\n",
              "\n",
              "    .dataframe thead th {\n",
              "        text-align: right;\n",
              "    }\n",
              "</style>\n",
              "<table border=\"1\" class=\"dataframe\">\n",
              "  <thead>\n",
              "    <tr style=\"text-align: right;\">\n",
              "      <th></th>\n",
              "      <th>C</th>\n",
              "      <th>D</th>\n",
              "    </tr>\n",
              "    <tr>\n",
              "      <th>A</th>\n",
              "      <th></th>\n",
              "      <th></th>\n",
              "    </tr>\n",
              "  </thead>\n",
              "  <tbody>\n",
              "    <tr>\n",
              "      <th>bar</th>\n",
              "      <td>-1.080658</td>\n",
              "      <td>2.685549</td>\n",
              "    </tr>\n",
              "    <tr>\n",
              "      <th>foo</th>\n",
              "      <td>0.032755</td>\n",
              "      <td>0.830818</td>\n",
              "    </tr>\n",
              "  </tbody>\n",
              "</table>\n",
              "</div>"
            ],
            "text/plain": [
              "            C         D\n",
              "A                      \n",
              "bar -1.080658  2.685549\n",
              "foo  0.032755  0.830818"
            ]
          },
          "metadata": {
            "tags": []
          },
          "execution_count": 72
        }
      ]
    },
    {
      "cell_type": "code",
      "metadata": {
        "id": "XILzC791YWit",
        "colab_type": "code",
        "colab": {
          "base_uri": "https://localhost:8080/",
          "height": 266
        },
        "outputId": "3dea96fa-132f-4b5e-ba14-d667f969460e"
      },
      "source": [
        "df.groupby(['A', 'B']).sum()"
      ],
      "execution_count": 73,
      "outputs": [
        {
          "output_type": "execute_result",
          "data": {
            "text/html": [
              "<div>\n",
              "<style scoped>\n",
              "    .dataframe tbody tr th:only-of-type {\n",
              "        vertical-align: middle;\n",
              "    }\n",
              "\n",
              "    .dataframe tbody tr th {\n",
              "        vertical-align: top;\n",
              "    }\n",
              "\n",
              "    .dataframe thead th {\n",
              "        text-align: right;\n",
              "    }\n",
              "</style>\n",
              "<table border=\"1\" class=\"dataframe\">\n",
              "  <thead>\n",
              "    <tr style=\"text-align: right;\">\n",
              "      <th></th>\n",
              "      <th></th>\n",
              "      <th>C</th>\n",
              "      <th>D</th>\n",
              "    </tr>\n",
              "    <tr>\n",
              "      <th>A</th>\n",
              "      <th>B</th>\n",
              "      <th></th>\n",
              "      <th></th>\n",
              "    </tr>\n",
              "  </thead>\n",
              "  <tbody>\n",
              "    <tr>\n",
              "      <th rowspan=\"3\" valign=\"top\">bar</th>\n",
              "      <th>one</th>\n",
              "      <td>0.000967</td>\n",
              "      <td>-0.454893</td>\n",
              "    </tr>\n",
              "    <tr>\n",
              "      <th>three</th>\n",
              "      <td>0.128171</td>\n",
              "      <td>2.623264</td>\n",
              "    </tr>\n",
              "    <tr>\n",
              "      <th>two</th>\n",
              "      <td>-1.209796</td>\n",
              "      <td>0.517178</td>\n",
              "    </tr>\n",
              "    <tr>\n",
              "      <th rowspan=\"3\" valign=\"top\">foo</th>\n",
              "      <th>one</th>\n",
              "      <td>0.427207</td>\n",
              "      <td>0.547082</td>\n",
              "    </tr>\n",
              "    <tr>\n",
              "      <th>three</th>\n",
              "      <td>1.282046</td>\n",
              "      <td>0.012574</td>\n",
              "    </tr>\n",
              "    <tr>\n",
              "      <th>two</th>\n",
              "      <td>-1.676499</td>\n",
              "      <td>0.271162</td>\n",
              "    </tr>\n",
              "  </tbody>\n",
              "</table>\n",
              "</div>"
            ],
            "text/plain": [
              "                  C         D\n",
              "A   B                        \n",
              "bar one    0.000967 -0.454893\n",
              "    three  0.128171  2.623264\n",
              "    two   -1.209796  0.517178\n",
              "foo one    0.427207  0.547082\n",
              "    three  1.282046  0.012574\n",
              "    two   -1.676499  0.271162"
            ]
          },
          "metadata": {
            "tags": []
          },
          "execution_count": 73
        }
      ]
    },
    {
      "cell_type": "markdown",
      "metadata": {
        "id": "rISSHNucYpRQ",
        "colab_type": "text"
      },
      "source": [
        "**Reshaping**"
      ]
    },
    {
      "cell_type": "code",
      "metadata": {
        "id": "G83fklspYcCq",
        "colab_type": "code",
        "colab": {
          "base_uri": "https://localhost:8080/",
          "height": 170
        },
        "outputId": "a57c990e-fd9a-4266-c035-07cf3114f002"
      },
      "source": [
        " tuples = list(zip(*[['bar', 'bar', 'baz', 'baz',\n",
        "                      'foo', 'foo', 'qux', 'qux'],\n",
        "                     ['one', 'two', 'one', 'two',\n",
        "                      'one', 'two', 'one', 'two']]))\n",
        " index = pd.MultiIndex.from_tuples(tuples, names=['first', 'second'])\n",
        "index"
      ],
      "execution_count": 74,
      "outputs": [
        {
          "output_type": "execute_result",
          "data": {
            "text/plain": [
              "MultiIndex([('bar', 'one'),\n",
              "            ('bar', 'two'),\n",
              "            ('baz', 'one'),\n",
              "            ('baz', 'two'),\n",
              "            ('foo', 'one'),\n",
              "            ('foo', 'two'),\n",
              "            ('qux', 'one'),\n",
              "            ('qux', 'two')],\n",
              "           names=['first', 'second'])"
            ]
          },
          "metadata": {
            "tags": []
          },
          "execution_count": 74
        }
      ]
    },
    {
      "cell_type": "code",
      "metadata": {
        "id": "4xgYq-GvZIFJ",
        "colab_type": "code",
        "colab": {
          "base_uri": "https://localhost:8080/",
          "height": 204
        },
        "outputId": "35e8bdf0-c5c5-4060-83c5-c85aabc07d67"
      },
      "source": [
        " df = pd.DataFrame(np.random.randn(8, 2), \n",
        "                   index=index, columns=['A', 'B'])\n",
        " df2 = df[:4]\n",
        " df2"
      ],
      "execution_count": 75,
      "outputs": [
        {
          "output_type": "execute_result",
          "data": {
            "text/html": [
              "<div>\n",
              "<style scoped>\n",
              "    .dataframe tbody tr th:only-of-type {\n",
              "        vertical-align: middle;\n",
              "    }\n",
              "\n",
              "    .dataframe tbody tr th {\n",
              "        vertical-align: top;\n",
              "    }\n",
              "\n",
              "    .dataframe thead th {\n",
              "        text-align: right;\n",
              "    }\n",
              "</style>\n",
              "<table border=\"1\" class=\"dataframe\">\n",
              "  <thead>\n",
              "    <tr style=\"text-align: right;\">\n",
              "      <th></th>\n",
              "      <th></th>\n",
              "      <th>A</th>\n",
              "      <th>B</th>\n",
              "    </tr>\n",
              "    <tr>\n",
              "      <th>first</th>\n",
              "      <th>second</th>\n",
              "      <th></th>\n",
              "      <th></th>\n",
              "    </tr>\n",
              "  </thead>\n",
              "  <tbody>\n",
              "    <tr>\n",
              "      <th rowspan=\"2\" valign=\"top\">bar</th>\n",
              "      <th>one</th>\n",
              "      <td>1.326276</td>\n",
              "      <td>1.188228</td>\n",
              "    </tr>\n",
              "    <tr>\n",
              "      <th>two</th>\n",
              "      <td>-1.284878</td>\n",
              "      <td>0.911116</td>\n",
              "    </tr>\n",
              "    <tr>\n",
              "      <th rowspan=\"2\" valign=\"top\">baz</th>\n",
              "      <th>one</th>\n",
              "      <td>1.138162</td>\n",
              "      <td>0.069993</td>\n",
              "    </tr>\n",
              "    <tr>\n",
              "      <th>two</th>\n",
              "      <td>0.324060</td>\n",
              "      <td>-0.092021</td>\n",
              "    </tr>\n",
              "  </tbody>\n",
              "</table>\n",
              "</div>"
            ],
            "text/plain": [
              "                     A         B\n",
              "first second                    \n",
              "bar   one     1.326276  1.188228\n",
              "      two    -1.284878  0.911116\n",
              "baz   one     1.138162  0.069993\n",
              "      two     0.324060 -0.092021"
            ]
          },
          "metadata": {
            "tags": []
          },
          "execution_count": 75
        }
      ]
    },
    {
      "cell_type": "code",
      "metadata": {
        "id": "rSb6S_t6ZNTE",
        "colab_type": "code",
        "colab": {
          "base_uri": "https://localhost:8080/",
          "height": 187
        },
        "outputId": "83a20cd5-7f3e-4696-de9d-fdfb7a96d828"
      },
      "source": [
        "stacked = df2.stack()\n",
        "stacked"
      ],
      "execution_count": 76,
      "outputs": [
        {
          "output_type": "execute_result",
          "data": {
            "text/plain": [
              "first  second   \n",
              "bar    one     A    1.326276\n",
              "               B    1.188228\n",
              "       two     A   -1.284878\n",
              "               B    0.911116\n",
              "baz    one     A    1.138162\n",
              "               B    0.069993\n",
              "       two     A    0.324060\n",
              "               B   -0.092021\n",
              "dtype: float64"
            ]
          },
          "metadata": {
            "tags": []
          },
          "execution_count": 76
        }
      ]
    },
    {
      "cell_type": "code",
      "metadata": {
        "id": "z0LpjuK9ZbGm",
        "colab_type": "code",
        "colab": {
          "base_uri": "https://localhost:8080/",
          "height": 204
        },
        "outputId": "ef30d5c9-0df2-4ce5-c4cf-4e577cf2bc7f"
      },
      "source": [
        "stacked.unstack()"
      ],
      "execution_count": 77,
      "outputs": [
        {
          "output_type": "execute_result",
          "data": {
            "text/html": [
              "<div>\n",
              "<style scoped>\n",
              "    .dataframe tbody tr th:only-of-type {\n",
              "        vertical-align: middle;\n",
              "    }\n",
              "\n",
              "    .dataframe tbody tr th {\n",
              "        vertical-align: top;\n",
              "    }\n",
              "\n",
              "    .dataframe thead th {\n",
              "        text-align: right;\n",
              "    }\n",
              "</style>\n",
              "<table border=\"1\" class=\"dataframe\">\n",
              "  <thead>\n",
              "    <tr style=\"text-align: right;\">\n",
              "      <th></th>\n",
              "      <th></th>\n",
              "      <th>A</th>\n",
              "      <th>B</th>\n",
              "    </tr>\n",
              "    <tr>\n",
              "      <th>first</th>\n",
              "      <th>second</th>\n",
              "      <th></th>\n",
              "      <th></th>\n",
              "    </tr>\n",
              "  </thead>\n",
              "  <tbody>\n",
              "    <tr>\n",
              "      <th rowspan=\"2\" valign=\"top\">bar</th>\n",
              "      <th>one</th>\n",
              "      <td>1.326276</td>\n",
              "      <td>1.188228</td>\n",
              "    </tr>\n",
              "    <tr>\n",
              "      <th>two</th>\n",
              "      <td>-1.284878</td>\n",
              "      <td>0.911116</td>\n",
              "    </tr>\n",
              "    <tr>\n",
              "      <th rowspan=\"2\" valign=\"top\">baz</th>\n",
              "      <th>one</th>\n",
              "      <td>1.138162</td>\n",
              "      <td>0.069993</td>\n",
              "    </tr>\n",
              "    <tr>\n",
              "      <th>two</th>\n",
              "      <td>0.324060</td>\n",
              "      <td>-0.092021</td>\n",
              "    </tr>\n",
              "  </tbody>\n",
              "</table>\n",
              "</div>"
            ],
            "text/plain": [
              "                     A         B\n",
              "first second                    \n",
              "bar   one     1.326276  1.188228\n",
              "      two    -1.284878  0.911116\n",
              "baz   one     1.138162  0.069993\n",
              "      two     0.324060 -0.092021"
            ]
          },
          "metadata": {
            "tags": []
          },
          "execution_count": 77
        }
      ]
    },
    {
      "cell_type": "code",
      "metadata": {
        "id": "uZmHRxnCZg0e",
        "colab_type": "code",
        "colab": {
          "base_uri": "https://localhost:8080/",
          "height": 204
        },
        "outputId": "8df3c79a-8b75-471e-c399-db197bd54f36"
      },
      "source": [
        "stacked.unstack(1)"
      ],
      "execution_count": 78,
      "outputs": [
        {
          "output_type": "execute_result",
          "data": {
            "text/html": [
              "<div>\n",
              "<style scoped>\n",
              "    .dataframe tbody tr th:only-of-type {\n",
              "        vertical-align: middle;\n",
              "    }\n",
              "\n",
              "    .dataframe tbody tr th {\n",
              "        vertical-align: top;\n",
              "    }\n",
              "\n",
              "    .dataframe thead th {\n",
              "        text-align: right;\n",
              "    }\n",
              "</style>\n",
              "<table border=\"1\" class=\"dataframe\">\n",
              "  <thead>\n",
              "    <tr style=\"text-align: right;\">\n",
              "      <th></th>\n",
              "      <th>second</th>\n",
              "      <th>one</th>\n",
              "      <th>two</th>\n",
              "    </tr>\n",
              "    <tr>\n",
              "      <th>first</th>\n",
              "      <th></th>\n",
              "      <th></th>\n",
              "      <th></th>\n",
              "    </tr>\n",
              "  </thead>\n",
              "  <tbody>\n",
              "    <tr>\n",
              "      <th rowspan=\"2\" valign=\"top\">bar</th>\n",
              "      <th>A</th>\n",
              "      <td>1.326276</td>\n",
              "      <td>-1.284878</td>\n",
              "    </tr>\n",
              "    <tr>\n",
              "      <th>B</th>\n",
              "      <td>1.188228</td>\n",
              "      <td>0.911116</td>\n",
              "    </tr>\n",
              "    <tr>\n",
              "      <th rowspan=\"2\" valign=\"top\">baz</th>\n",
              "      <th>A</th>\n",
              "      <td>1.138162</td>\n",
              "      <td>0.324060</td>\n",
              "    </tr>\n",
              "    <tr>\n",
              "      <th>B</th>\n",
              "      <td>0.069993</td>\n",
              "      <td>-0.092021</td>\n",
              "    </tr>\n",
              "  </tbody>\n",
              "</table>\n",
              "</div>"
            ],
            "text/plain": [
              "second        one       two\n",
              "first                      \n",
              "bar   A  1.326276 -1.284878\n",
              "      B  1.188228  0.911116\n",
              "baz   A  1.138162  0.324060\n",
              "      B  0.069993 -0.092021"
            ]
          },
          "metadata": {
            "tags": []
          },
          "execution_count": 78
        }
      ]
    },
    {
      "cell_type": "markdown",
      "metadata": {
        "id": "SjWG1hWfZtNh",
        "colab_type": "text"
      },
      "source": [
        "**Pivot tables**"
      ]
    },
    {
      "cell_type": "code",
      "metadata": {
        "id": "wff7I-TCZjsC",
        "colab_type": "code",
        "colab": {
          "base_uri": "https://localhost:8080/",
          "height": 421
        },
        "outputId": "ab0a4951-d26c-4a26-fee6-7ff8d6f28d2a"
      },
      "source": [
        "df = pd.DataFrame({'A': ['one', 'one', 'two', 'three'] * 3,\n",
        "                   'B': ['A', 'B', 'C'] * 4,\n",
        "                   'C': ['foo', 'foo', 'foo', 'bar', 'bar', 'bar'] * 2,\n",
        "                   'D': np.random.randn(12),\n",
        "                   'E': np.random.randn(12)})\n",
        "df"
      ],
      "execution_count": 79,
      "outputs": [
        {
          "output_type": "execute_result",
          "data": {
            "text/html": [
              "<div>\n",
              "<style scoped>\n",
              "    .dataframe tbody tr th:only-of-type {\n",
              "        vertical-align: middle;\n",
              "    }\n",
              "\n",
              "    .dataframe tbody tr th {\n",
              "        vertical-align: top;\n",
              "    }\n",
              "\n",
              "    .dataframe thead th {\n",
              "        text-align: right;\n",
              "    }\n",
              "</style>\n",
              "<table border=\"1\" class=\"dataframe\">\n",
              "  <thead>\n",
              "    <tr style=\"text-align: right;\">\n",
              "      <th></th>\n",
              "      <th>A</th>\n",
              "      <th>B</th>\n",
              "      <th>C</th>\n",
              "      <th>D</th>\n",
              "      <th>E</th>\n",
              "    </tr>\n",
              "  </thead>\n",
              "  <tbody>\n",
              "    <tr>\n",
              "      <th>0</th>\n",
              "      <td>one</td>\n",
              "      <td>A</td>\n",
              "      <td>foo</td>\n",
              "      <td>-2.256666</td>\n",
              "      <td>-0.255708</td>\n",
              "    </tr>\n",
              "    <tr>\n",
              "      <th>1</th>\n",
              "      <td>one</td>\n",
              "      <td>B</td>\n",
              "      <td>foo</td>\n",
              "      <td>-1.342521</td>\n",
              "      <td>-0.219807</td>\n",
              "    </tr>\n",
              "    <tr>\n",
              "      <th>2</th>\n",
              "      <td>two</td>\n",
              "      <td>C</td>\n",
              "      <td>foo</td>\n",
              "      <td>-1.015788</td>\n",
              "      <td>1.370416</td>\n",
              "    </tr>\n",
              "    <tr>\n",
              "      <th>3</th>\n",
              "      <td>three</td>\n",
              "      <td>A</td>\n",
              "      <td>bar</td>\n",
              "      <td>-0.283659</td>\n",
              "      <td>0.291828</td>\n",
              "    </tr>\n",
              "    <tr>\n",
              "      <th>4</th>\n",
              "      <td>one</td>\n",
              "      <td>B</td>\n",
              "      <td>bar</td>\n",
              "      <td>0.452100</td>\n",
              "      <td>0.023509</td>\n",
              "    </tr>\n",
              "    <tr>\n",
              "      <th>5</th>\n",
              "      <td>one</td>\n",
              "      <td>C</td>\n",
              "      <td>bar</td>\n",
              "      <td>0.450818</td>\n",
              "      <td>-1.645349</td>\n",
              "    </tr>\n",
              "    <tr>\n",
              "      <th>6</th>\n",
              "      <td>two</td>\n",
              "      <td>A</td>\n",
              "      <td>foo</td>\n",
              "      <td>-0.284259</td>\n",
              "      <td>0.892127</td>\n",
              "    </tr>\n",
              "    <tr>\n",
              "      <th>7</th>\n",
              "      <td>three</td>\n",
              "      <td>B</td>\n",
              "      <td>foo</td>\n",
              "      <td>0.378873</td>\n",
              "      <td>-0.090282</td>\n",
              "    </tr>\n",
              "    <tr>\n",
              "      <th>8</th>\n",
              "      <td>one</td>\n",
              "      <td>C</td>\n",
              "      <td>foo</td>\n",
              "      <td>-1.110484</td>\n",
              "      <td>-0.062070</td>\n",
              "    </tr>\n",
              "    <tr>\n",
              "      <th>9</th>\n",
              "      <td>one</td>\n",
              "      <td>A</td>\n",
              "      <td>bar</td>\n",
              "      <td>1.059617</td>\n",
              "      <td>0.505091</td>\n",
              "    </tr>\n",
              "    <tr>\n",
              "      <th>10</th>\n",
              "      <td>two</td>\n",
              "      <td>B</td>\n",
              "      <td>bar</td>\n",
              "      <td>0.382899</td>\n",
              "      <td>0.590058</td>\n",
              "    </tr>\n",
              "    <tr>\n",
              "      <th>11</th>\n",
              "      <td>three</td>\n",
              "      <td>C</td>\n",
              "      <td>bar</td>\n",
              "      <td>-0.205361</td>\n",
              "      <td>-2.157991</td>\n",
              "    </tr>\n",
              "  </tbody>\n",
              "</table>\n",
              "</div>"
            ],
            "text/plain": [
              "        A  B    C         D         E\n",
              "0     one  A  foo -2.256666 -0.255708\n",
              "1     one  B  foo -1.342521 -0.219807\n",
              "2     two  C  foo -1.015788  1.370416\n",
              "3   three  A  bar -0.283659  0.291828\n",
              "4     one  B  bar  0.452100  0.023509\n",
              "5     one  C  bar  0.450818 -1.645349\n",
              "6     two  A  foo -0.284259  0.892127\n",
              "7   three  B  foo  0.378873 -0.090282\n",
              "8     one  C  foo -1.110484 -0.062070\n",
              "9     one  A  bar  1.059617  0.505091\n",
              "10    two  B  bar  0.382899  0.590058\n",
              "11  three  C  bar -0.205361 -2.157991"
            ]
          },
          "metadata": {
            "tags": []
          },
          "execution_count": 79
        }
      ]
    },
    {
      "cell_type": "code",
      "metadata": {
        "id": "s7GLc5gsZ23X",
        "colab_type": "code",
        "colab": {
          "base_uri": "https://localhost:8080/",
          "height": 359
        },
        "outputId": "435b6af9-b7e1-425a-a52c-735b3140d22a"
      },
      "source": [
        "pd.pivot_table(df, values='D', index=['A', 'B'], columns=['C'])"
      ],
      "execution_count": 80,
      "outputs": [
        {
          "output_type": "execute_result",
          "data": {
            "text/html": [
              "<div>\n",
              "<style scoped>\n",
              "    .dataframe tbody tr th:only-of-type {\n",
              "        vertical-align: middle;\n",
              "    }\n",
              "\n",
              "    .dataframe tbody tr th {\n",
              "        vertical-align: top;\n",
              "    }\n",
              "\n",
              "    .dataframe thead th {\n",
              "        text-align: right;\n",
              "    }\n",
              "</style>\n",
              "<table border=\"1\" class=\"dataframe\">\n",
              "  <thead>\n",
              "    <tr style=\"text-align: right;\">\n",
              "      <th></th>\n",
              "      <th>C</th>\n",
              "      <th>bar</th>\n",
              "      <th>foo</th>\n",
              "    </tr>\n",
              "    <tr>\n",
              "      <th>A</th>\n",
              "      <th>B</th>\n",
              "      <th></th>\n",
              "      <th></th>\n",
              "    </tr>\n",
              "  </thead>\n",
              "  <tbody>\n",
              "    <tr>\n",
              "      <th rowspan=\"3\" valign=\"top\">one</th>\n",
              "      <th>A</th>\n",
              "      <td>1.059617</td>\n",
              "      <td>-2.256666</td>\n",
              "    </tr>\n",
              "    <tr>\n",
              "      <th>B</th>\n",
              "      <td>0.452100</td>\n",
              "      <td>-1.342521</td>\n",
              "    </tr>\n",
              "    <tr>\n",
              "      <th>C</th>\n",
              "      <td>0.450818</td>\n",
              "      <td>-1.110484</td>\n",
              "    </tr>\n",
              "    <tr>\n",
              "      <th rowspan=\"3\" valign=\"top\">three</th>\n",
              "      <th>A</th>\n",
              "      <td>-0.283659</td>\n",
              "      <td>NaN</td>\n",
              "    </tr>\n",
              "    <tr>\n",
              "      <th>B</th>\n",
              "      <td>NaN</td>\n",
              "      <td>0.378873</td>\n",
              "    </tr>\n",
              "    <tr>\n",
              "      <th>C</th>\n",
              "      <td>-0.205361</td>\n",
              "      <td>NaN</td>\n",
              "    </tr>\n",
              "    <tr>\n",
              "      <th rowspan=\"3\" valign=\"top\">two</th>\n",
              "      <th>A</th>\n",
              "      <td>NaN</td>\n",
              "      <td>-0.284259</td>\n",
              "    </tr>\n",
              "    <tr>\n",
              "      <th>B</th>\n",
              "      <td>0.382899</td>\n",
              "      <td>NaN</td>\n",
              "    </tr>\n",
              "    <tr>\n",
              "      <th>C</th>\n",
              "      <td>NaN</td>\n",
              "      <td>-1.015788</td>\n",
              "    </tr>\n",
              "  </tbody>\n",
              "</table>\n",
              "</div>"
            ],
            "text/plain": [
              "C             bar       foo\n",
              "A     B                    \n",
              "one   A  1.059617 -2.256666\n",
              "      B  0.452100 -1.342521\n",
              "      C  0.450818 -1.110484\n",
              "three A -0.283659       NaN\n",
              "      B       NaN  0.378873\n",
              "      C -0.205361       NaN\n",
              "two   A       NaN -0.284259\n",
              "      B  0.382899       NaN\n",
              "      C       NaN -1.015788"
            ]
          },
          "metadata": {
            "tags": []
          },
          "execution_count": 80
        }
      ]
    },
    {
      "cell_type": "markdown",
      "metadata": {
        "id": "OAyzeZPkbw3D",
        "colab_type": "text"
      },
      "source": [
        "**Time series**"
      ]
    },
    {
      "cell_type": "code",
      "metadata": {
        "id": "VOWkuvDtbWX1",
        "colab_type": "code",
        "colab": {
          "base_uri": "https://localhost:8080/",
          "height": 51
        },
        "outputId": "3b4db8d4-ceed-4ad7-9edf-3565f4191179"
      },
      "source": [
        "rng = pd.date_range('1/1/2012', periods=100, freq='S')\n",
        "\n",
        "ts = pd.Series(np.random.randint(0, 500, len(rng)), index=rng)\n",
        "\n",
        "ts.resample('5Min').sum()"
      ],
      "execution_count": 81,
      "outputs": [
        {
          "output_type": "execute_result",
          "data": {
            "text/plain": [
              "2012-01-01    27259\n",
              "Freq: 5T, dtype: int64"
            ]
          },
          "metadata": {
            "tags": []
          },
          "execution_count": 81
        }
      ]
    },
    {
      "cell_type": "code",
      "metadata": {
        "id": "bydVF3-pb17s",
        "colab_type": "code",
        "colab": {
          "base_uri": "https://localhost:8080/",
          "height": 119
        },
        "outputId": "612120b5-eb60-4a73-af4a-5d194cf670b0"
      },
      "source": [
        "rng = pd.date_range('3/6/2012 00:00', periods=5, freq='D')\n",
        "ts = pd.Series(np.random.randn(len(rng)), rng)\n",
        "ts"
      ],
      "execution_count": 82,
      "outputs": [
        {
          "output_type": "execute_result",
          "data": {
            "text/plain": [
              "2012-03-06   -0.233661\n",
              "2012-03-07   -1.349863\n",
              "2012-03-08    1.489106\n",
              "2012-03-09   -0.858687\n",
              "2012-03-10   -1.517335\n",
              "Freq: D, dtype: float64"
            ]
          },
          "metadata": {
            "tags": []
          },
          "execution_count": 82
        }
      ]
    },
    {
      "cell_type": "code",
      "metadata": {
        "id": "ONhMesp7K5na",
        "colab_type": "code",
        "colab": {
          "base_uri": "https://localhost:8080/",
          "height": 119
        },
        "outputId": "9a73ec28-c1b6-4c9b-dfed-58552d5147c9"
      },
      "source": [
        "ts_utc = ts.tz_localize('UTC')\n",
        "\n",
        "ts_utc"
      ],
      "execution_count": 83,
      "outputs": [
        {
          "output_type": "execute_result",
          "data": {
            "text/plain": [
              "2012-03-06 00:00:00+00:00   -0.233661\n",
              "2012-03-07 00:00:00+00:00   -1.349863\n",
              "2012-03-08 00:00:00+00:00    1.489106\n",
              "2012-03-09 00:00:00+00:00   -0.858687\n",
              "2012-03-10 00:00:00+00:00   -1.517335\n",
              "Freq: D, dtype: float64"
            ]
          },
          "metadata": {
            "tags": []
          },
          "execution_count": 83
        }
      ]
    },
    {
      "cell_type": "code",
      "metadata": {
        "id": "OZGm_PmxLZC6",
        "colab_type": "code",
        "colab": {
          "base_uri": "https://localhost:8080/",
          "height": 119
        },
        "outputId": "85bf6291-dd05-4c4b-dc0c-cbb41e41d526"
      },
      "source": [
        "ts_utc.tz_convert('US/Eastern')"
      ],
      "execution_count": 84,
      "outputs": [
        {
          "output_type": "execute_result",
          "data": {
            "text/plain": [
              "2012-03-05 19:00:00-05:00   -0.233661\n",
              "2012-03-06 19:00:00-05:00   -1.349863\n",
              "2012-03-07 19:00:00-05:00    1.489106\n",
              "2012-03-08 19:00:00-05:00   -0.858687\n",
              "2012-03-09 19:00:00-05:00   -1.517335\n",
              "Freq: D, dtype: float64"
            ]
          },
          "metadata": {
            "tags": []
          },
          "execution_count": 84
        }
      ]
    },
    {
      "cell_type": "code",
      "metadata": {
        "id": "VI90PjXZLdrS",
        "colab_type": "code",
        "colab": {
          "base_uri": "https://localhost:8080/",
          "height": 119
        },
        "outputId": "9487d865-97a9-437a-ef85-7447b52909bd"
      },
      "source": [
        "rng = pd.date_range('1/1/2012', periods=5, freq='M')\n",
        "ts = pd.Series(np.random.randn(len(rng)), index=rng)\n",
        "ts"
      ],
      "execution_count": 85,
      "outputs": [
        {
          "output_type": "execute_result",
          "data": {
            "text/plain": [
              "2012-01-31   -0.359755\n",
              "2012-02-29    0.313355\n",
              "2012-03-31   -1.279462\n",
              "2012-04-30    0.244670\n",
              "2012-05-31    0.185986\n",
              "Freq: M, dtype: float64"
            ]
          },
          "metadata": {
            "tags": []
          },
          "execution_count": 85
        }
      ]
    },
    {
      "cell_type": "code",
      "metadata": {
        "id": "0hHx_cyALpy2",
        "colab_type": "code",
        "colab": {
          "base_uri": "https://localhost:8080/",
          "height": 119
        },
        "outputId": "96455e85-534d-468b-a80c-241fbe671cbb"
      },
      "source": [
        "ps = ts.to_period()\n",
        "ps"
      ],
      "execution_count": 86,
      "outputs": [
        {
          "output_type": "execute_result",
          "data": {
            "text/plain": [
              "2012-01   -0.359755\n",
              "2012-02    0.313355\n",
              "2012-03   -1.279462\n",
              "2012-04    0.244670\n",
              "2012-05    0.185986\n",
              "Freq: M, dtype: float64"
            ]
          },
          "metadata": {
            "tags": []
          },
          "execution_count": 86
        }
      ]
    },
    {
      "cell_type": "code",
      "metadata": {
        "id": "TR_dK-hjLwDX",
        "colab_type": "code",
        "colab": {
          "base_uri": "https://localhost:8080/",
          "height": 119
        },
        "outputId": "102a66f1-c90f-4ac9-9624-90d69718d0cc"
      },
      "source": [
        "ps.to_timestamp()"
      ],
      "execution_count": 87,
      "outputs": [
        {
          "output_type": "execute_result",
          "data": {
            "text/plain": [
              "2012-01-01   -0.359755\n",
              "2012-02-01    0.313355\n",
              "2012-03-01   -1.279462\n",
              "2012-04-01    0.244670\n",
              "2012-05-01    0.185986\n",
              "Freq: MS, dtype: float64"
            ]
          },
          "metadata": {
            "tags": []
          },
          "execution_count": 87
        }
      ]
    },
    {
      "cell_type": "code",
      "metadata": {
        "id": "Jd02qP9zLwmq",
        "colab_type": "code",
        "colab": {
          "base_uri": "https://localhost:8080/",
          "height": 119
        },
        "outputId": "bd551929-8029-47d3-b43c-8a271b1a69f6"
      },
      "source": [
        "prng = pd.period_range('1990Q1', '2000Q4', freq='Q-NOV')\n",
        "ts = pd.Series(np.random.randn(len(prng)), prng)\n",
        "ts.index = (prng.asfreq('M', 'e') + 1).asfreq('H', 's') + 9\n",
        "ts.head()"
      ],
      "execution_count": 88,
      "outputs": [
        {
          "output_type": "execute_result",
          "data": {
            "text/plain": [
              "1990-03-01 09:00    0.227325\n",
              "1990-06-01 09:00    0.973099\n",
              "1990-09-01 09:00   -0.076686\n",
              "1990-12-01 09:00   -0.836487\n",
              "1991-03-01 09:00   -0.001957\n",
              "Freq: H, dtype: float64"
            ]
          },
          "metadata": {
            "tags": []
          },
          "execution_count": 88
        }
      ]
    },
    {
      "cell_type": "markdown",
      "metadata": {
        "id": "sgCxHhRmtMDm",
        "colab_type": "text"
      },
      "source": [
        "**Categoricals**"
      ]
    },
    {
      "cell_type": "code",
      "metadata": {
        "id": "NhMEZQOkg6xw",
        "colab_type": "code",
        "colab": {
          "base_uri": "https://localhost:8080/",
          "height": 235
        },
        "outputId": "c0aad124-86dd-47b4-8e9a-2dd6a2b46686"
      },
      "source": [
        "df = pd.DataFrame({\"id\": [1, 2, 3, 4, 5, 6],\n",
        "                   \"raw_grade\": ['a', 'b', 'b', 'a', 'a', 'e']})\n",
        "df"
      ],
      "execution_count": 94,
      "outputs": [
        {
          "output_type": "execute_result",
          "data": {
            "text/html": [
              "<div>\n",
              "<style scoped>\n",
              "    .dataframe tbody tr th:only-of-type {\n",
              "        vertical-align: middle;\n",
              "    }\n",
              "\n",
              "    .dataframe tbody tr th {\n",
              "        vertical-align: top;\n",
              "    }\n",
              "\n",
              "    .dataframe thead th {\n",
              "        text-align: right;\n",
              "    }\n",
              "</style>\n",
              "<table border=\"1\" class=\"dataframe\">\n",
              "  <thead>\n",
              "    <tr style=\"text-align: right;\">\n",
              "      <th></th>\n",
              "      <th>id</th>\n",
              "      <th>raw_grade</th>\n",
              "    </tr>\n",
              "  </thead>\n",
              "  <tbody>\n",
              "    <tr>\n",
              "      <th>0</th>\n",
              "      <td>1</td>\n",
              "      <td>a</td>\n",
              "    </tr>\n",
              "    <tr>\n",
              "      <th>1</th>\n",
              "      <td>2</td>\n",
              "      <td>b</td>\n",
              "    </tr>\n",
              "    <tr>\n",
              "      <th>2</th>\n",
              "      <td>3</td>\n",
              "      <td>b</td>\n",
              "    </tr>\n",
              "    <tr>\n",
              "      <th>3</th>\n",
              "      <td>4</td>\n",
              "      <td>a</td>\n",
              "    </tr>\n",
              "    <tr>\n",
              "      <th>4</th>\n",
              "      <td>5</td>\n",
              "      <td>a</td>\n",
              "    </tr>\n",
              "    <tr>\n",
              "      <th>5</th>\n",
              "      <td>6</td>\n",
              "      <td>e</td>\n",
              "    </tr>\n",
              "  </tbody>\n",
              "</table>\n",
              "</div>"
            ],
            "text/plain": [
              "   id raw_grade\n",
              "0   1         a\n",
              "1   2         b\n",
              "2   3         b\n",
              "3   4         a\n",
              "4   5         a\n",
              "5   6         e"
            ]
          },
          "metadata": {
            "tags": []
          },
          "execution_count": 94
        }
      ]
    },
    {
      "cell_type": "code",
      "metadata": {
        "id": "Lo2I37TbtWJE",
        "colab_type": "code",
        "colab": {
          "base_uri": "https://localhost:8080/",
          "height": 170
        },
        "outputId": "4fe77d62-e64c-455c-b873-f3b544d93bcd"
      },
      "source": [
        "df.info()"
      ],
      "execution_count": 95,
      "outputs": [
        {
          "output_type": "stream",
          "text": [
            "<class 'pandas.core.frame.DataFrame'>\n",
            "RangeIndex: 6 entries, 0 to 5\n",
            "Data columns (total 2 columns):\n",
            " #   Column     Non-Null Count  Dtype \n",
            "---  ------     --------------  ----- \n",
            " 0   id         6 non-null      int64 \n",
            " 1   raw_grade  6 non-null      object\n",
            "dtypes: int64(1), object(1)\n",
            "memory usage: 224.0+ bytes\n"
          ],
          "name": "stdout"
        }
      ]
    },
    {
      "cell_type": "code",
      "metadata": {
        "id": "7rZxfzMntlc8",
        "colab_type": "code",
        "colab": {
          "base_uri": "https://localhost:8080/",
          "height": 153
        },
        "outputId": "d5c94657-3409-4f86-d420-a61431ce9a1a"
      },
      "source": [
        "df[\"grade\"] = df[\"raw_grade\"].astype(\"category\")\n",
        "df[\"grade\"]"
      ],
      "execution_count": 96,
      "outputs": [
        {
          "output_type": "execute_result",
          "data": {
            "text/plain": [
              "0    a\n",
              "1    b\n",
              "2    b\n",
              "3    a\n",
              "4    a\n",
              "5    e\n",
              "Name: grade, dtype: category\n",
              "Categories (3, object): [a, b, e]"
            ]
          },
          "metadata": {
            "tags": []
          },
          "execution_count": 96
        }
      ]
    },
    {
      "cell_type": "code",
      "metadata": {
        "id": "isDveprAtps-",
        "colab_type": "code",
        "colab": {}
      },
      "source": [
        "df[\"grade\"].cat.categories = [\"very good\", \"good\", \"very bad\"]"
      ],
      "execution_count": 97,
      "outputs": []
    },
    {
      "cell_type": "code",
      "metadata": {
        "id": "X6CgXFQrtxkz",
        "colab_type": "code",
        "colab": {
          "base_uri": "https://localhost:8080/",
          "height": 153
        },
        "outputId": "1d14915e-df18-45cb-8bd2-25bfe0c8e23f"
      },
      "source": [
        "df[\"grade\"]"
      ],
      "execution_count": 98,
      "outputs": [
        {
          "output_type": "execute_result",
          "data": {
            "text/plain": [
              "0    very good\n",
              "1         good\n",
              "2         good\n",
              "3    very good\n",
              "4    very good\n",
              "5     very bad\n",
              "Name: grade, dtype: category\n",
              "Categories (3, object): [very good, good, very bad]"
            ]
          },
          "metadata": {
            "tags": []
          },
          "execution_count": 98
        }
      ]
    },
    {
      "cell_type": "code",
      "metadata": {
        "id": "CD3a49Litz5r",
        "colab_type": "code",
        "colab": {
          "base_uri": "https://localhost:8080/",
          "height": 235
        },
        "outputId": "b48ffd87-9cd8-46ce-d969-df78b81052ed"
      },
      "source": [
        "df"
      ],
      "execution_count": 99,
      "outputs": [
        {
          "output_type": "execute_result",
          "data": {
            "text/html": [
              "<div>\n",
              "<style scoped>\n",
              "    .dataframe tbody tr th:only-of-type {\n",
              "        vertical-align: middle;\n",
              "    }\n",
              "\n",
              "    .dataframe tbody tr th {\n",
              "        vertical-align: top;\n",
              "    }\n",
              "\n",
              "    .dataframe thead th {\n",
              "        text-align: right;\n",
              "    }\n",
              "</style>\n",
              "<table border=\"1\" class=\"dataframe\">\n",
              "  <thead>\n",
              "    <tr style=\"text-align: right;\">\n",
              "      <th></th>\n",
              "      <th>id</th>\n",
              "      <th>raw_grade</th>\n",
              "      <th>grade</th>\n",
              "    </tr>\n",
              "  </thead>\n",
              "  <tbody>\n",
              "    <tr>\n",
              "      <th>0</th>\n",
              "      <td>1</td>\n",
              "      <td>a</td>\n",
              "      <td>very good</td>\n",
              "    </tr>\n",
              "    <tr>\n",
              "      <th>1</th>\n",
              "      <td>2</td>\n",
              "      <td>b</td>\n",
              "      <td>good</td>\n",
              "    </tr>\n",
              "    <tr>\n",
              "      <th>2</th>\n",
              "      <td>3</td>\n",
              "      <td>b</td>\n",
              "      <td>good</td>\n",
              "    </tr>\n",
              "    <tr>\n",
              "      <th>3</th>\n",
              "      <td>4</td>\n",
              "      <td>a</td>\n",
              "      <td>very good</td>\n",
              "    </tr>\n",
              "    <tr>\n",
              "      <th>4</th>\n",
              "      <td>5</td>\n",
              "      <td>a</td>\n",
              "      <td>very good</td>\n",
              "    </tr>\n",
              "    <tr>\n",
              "      <th>5</th>\n",
              "      <td>6</td>\n",
              "      <td>e</td>\n",
              "      <td>very bad</td>\n",
              "    </tr>\n",
              "  </tbody>\n",
              "</table>\n",
              "</div>"
            ],
            "text/plain": [
              "   id raw_grade      grade\n",
              "0   1         a  very good\n",
              "1   2         b       good\n",
              "2   3         b       good\n",
              "3   4         a  very good\n",
              "4   5         a  very good\n",
              "5   6         e   very bad"
            ]
          },
          "metadata": {
            "tags": []
          },
          "execution_count": 99
        }
      ]
    },
    {
      "cell_type": "code",
      "metadata": {
        "id": "6YPmKiimuCUE",
        "colab_type": "code",
        "colab": {
          "base_uri": "https://localhost:8080/",
          "height": 235
        },
        "outputId": "d8bdc6d7-f202-4f73-9bf8-1aaef035bdc5"
      },
      "source": [
        "df.sort_values(by=\"grade\")"
      ],
      "execution_count": 100,
      "outputs": [
        {
          "output_type": "execute_result",
          "data": {
            "text/html": [
              "<div>\n",
              "<style scoped>\n",
              "    .dataframe tbody tr th:only-of-type {\n",
              "        vertical-align: middle;\n",
              "    }\n",
              "\n",
              "    .dataframe tbody tr th {\n",
              "        vertical-align: top;\n",
              "    }\n",
              "\n",
              "    .dataframe thead th {\n",
              "        text-align: right;\n",
              "    }\n",
              "</style>\n",
              "<table border=\"1\" class=\"dataframe\">\n",
              "  <thead>\n",
              "    <tr style=\"text-align: right;\">\n",
              "      <th></th>\n",
              "      <th>id</th>\n",
              "      <th>raw_grade</th>\n",
              "      <th>grade</th>\n",
              "    </tr>\n",
              "  </thead>\n",
              "  <tbody>\n",
              "    <tr>\n",
              "      <th>0</th>\n",
              "      <td>1</td>\n",
              "      <td>a</td>\n",
              "      <td>very good</td>\n",
              "    </tr>\n",
              "    <tr>\n",
              "      <th>3</th>\n",
              "      <td>4</td>\n",
              "      <td>a</td>\n",
              "      <td>very good</td>\n",
              "    </tr>\n",
              "    <tr>\n",
              "      <th>4</th>\n",
              "      <td>5</td>\n",
              "      <td>a</td>\n",
              "      <td>very good</td>\n",
              "    </tr>\n",
              "    <tr>\n",
              "      <th>1</th>\n",
              "      <td>2</td>\n",
              "      <td>b</td>\n",
              "      <td>good</td>\n",
              "    </tr>\n",
              "    <tr>\n",
              "      <th>2</th>\n",
              "      <td>3</td>\n",
              "      <td>b</td>\n",
              "      <td>good</td>\n",
              "    </tr>\n",
              "    <tr>\n",
              "      <th>5</th>\n",
              "      <td>6</td>\n",
              "      <td>e</td>\n",
              "      <td>very bad</td>\n",
              "    </tr>\n",
              "  </tbody>\n",
              "</table>\n",
              "</div>"
            ],
            "text/plain": [
              "   id raw_grade      grade\n",
              "0   1         a  very good\n",
              "3   4         a  very good\n",
              "4   5         a  very good\n",
              "1   2         b       good\n",
              "2   3         b       good\n",
              "5   6         e   very bad"
            ]
          },
          "metadata": {
            "tags": []
          },
          "execution_count": 100
        }
      ]
    },
    {
      "cell_type": "code",
      "metadata": {
        "id": "2bjkxeqZu0s0",
        "colab_type": "code",
        "colab": {
          "base_uri": "https://localhost:8080/",
          "height": 102
        },
        "outputId": "4b5145e4-a044-4567-c4cf-8623317deb92"
      },
      "source": [
        "df.groupby(\"grade\").size()"
      ],
      "execution_count": 102,
      "outputs": [
        {
          "output_type": "execute_result",
          "data": {
            "text/plain": [
              "grade\n",
              "very good    3\n",
              "good         2\n",
              "very bad     1\n",
              "dtype: int64"
            ]
          },
          "metadata": {
            "tags": []
          },
          "execution_count": 102
        }
      ]
    },
    {
      "cell_type": "markdown",
      "metadata": {
        "id": "H2_NLAFcu-iW",
        "colab_type": "text"
      },
      "source": [
        "**Plotting**"
      ]
    },
    {
      "cell_type": "code",
      "metadata": {
        "id": "rmumDftCu8Qp",
        "colab_type": "code",
        "colab": {}
      },
      "source": [
        "import matplotlib.pyplot as plt\n",
        "plt.close('all')"
      ],
      "execution_count": 103,
      "outputs": []
    },
    {
      "cell_type": "code",
      "metadata": {
        "id": "8hLvo4nivDeY",
        "colab_type": "code",
        "colab": {
          "base_uri": "https://localhost:8080/",
          "height": 294
        },
        "outputId": "a9b64028-fcf9-46f1-da8b-3f6ea52ba80b"
      },
      "source": [
        "ts = pd.Series(np.random.randn(1000),\n",
        "               index=pd.date_range('1/1/2000', periods=1000))\n",
        "ts = ts.cumsum()\n",
        "ts.plot()"
      ],
      "execution_count": 112,
      "outputs": [
        {
          "output_type": "execute_result",
          "data": {
            "text/plain": [
              "<matplotlib.axes._subplots.AxesSubplot at 0x7f77ce270208>"
            ]
          },
          "metadata": {
            "tags": []
          },
          "execution_count": 112
        },
        {
          "output_type": "display_data",
          "data": {
            "image/png": "[encoded data removed]",
            "text/plain": [
              "<Figure size 432x288 with 1 Axes>"
            ]
          },
          "metadata": {
            "tags": [],
            "needs_background": "light"
          }
        }
      ]
    },
    {
      "cell_type": "code",
      "metadata": {
        "id": "xQMmTyOTwcR0",
        "colab_type": "code",
        "colab": {
          "base_uri": "https://localhost:8080/",
          "height": 545
        },
        "outputId": "d62993ff-12cb-45e6-bc6d-3f9cf45f3383"
      },
      "source": [
        "sample_size = 100000\n",
        "uniform = np.random.rand(sample_size)\n",
        "normal = np.random.randn(sample_size)\n",
        "\n",
        "pdf, bins, patches = plt.hist(uniform, bins=20, range=(0, 1), density=True)\n",
        "plt.title('rand: uniform')\n",
        "plt.show()\n",
        "\n",
        "pdf, bins, patches = plt.hist(normal, bins=20, range=(-4, 4), density=True)\n",
        "plt.title('randn: normal')\n",
        "plt.show()"
      ],
      "execution_count": 113,
      "outputs": [
        {
          "output_type": "display_data",
          "data": {
            "image/png": "[encoded data removed]",
            "text/plain": [
              "<Figure size 432x288 with 1 Axes>"
            ]
          },
          "metadata": {
            "tags": [],
            "needs_background": "light"
          }
        },
        {
          "output_type": "display_data",
          "data": {
            "image/png": "[encoded data removed]",
            "text/plain": [
              "<Figure size 432x288 with 1 Axes>"
            ]
          },
          "metadata": {
            "tags": [],
            "needs_background": "light"
          }
        }
      ]
    },
    {
      "cell_type": "code",
      "metadata": {
        "id": "yu_N9xCnxn9b",
        "colab_type": "code",
        "colab": {
          "base_uri": "https://localhost:8080/",
          "height": 311
        },
        "outputId": "829a97ff-f485-42a2-fc64-f856fdd298f6"
      },
      "source": [
        "df = pd.DataFrame(np.random.randn(1000, 4), index=ts.index,\n",
        "                  columns=['A', 'B', 'C', 'D'])\n",
        "df = df.cumsum()\n",
        "plt.figure()\n",
        "df.plot()\n",
        "plt.legend(loc='best')"
      ],
      "execution_count": 116,
      "outputs": [
        {
          "output_type": "execute_result",
          "data": {
            "text/plain": [
              "<matplotlib.legend.Legend at 0x7f77ce408668>"
            ]
          },
          "metadata": {
            "tags": []
          },
          "execution_count": 116
        },
        {
          "output_type": "display_data",
          "data": {
            "text/plain": [
              "<Figure size 432x288 with 0 Axes>"
            ]
          },
          "metadata": {
            "tags": []
          }
        },
        {
          "output_type": "display_data",
          "data": {
            "image/png": "[encoded data removed]",
            "text/plain": [
              "<Figure size 432x288 with 1 Axes>"
            ]
          },
          "metadata": {
            "tags": [],
            "needs_background": "light"
          }
        }
      ]
    },
    {
      "cell_type": "markdown",
      "metadata": {
        "id": "dR6yqVQ9ysw7",
        "colab_type": "text"
      },
      "source": [
        "**Getting data in/out**"
      ]
    },
    {
      "cell_type": "markdown",
      "metadata": {
        "id": "AKDy35VqyvBf",
        "colab_type": "text"
      },
      "source": [
        "*CSV*"
      ]
    },
    {
      "cell_type": "code",
      "metadata": {
        "id": "TdM5N4duyYdg",
        "colab_type": "code",
        "colab": {}
      },
      "source": [
        "df.to_csv('foo.csv')"
      ],
      "execution_count": 117,
      "outputs": []
    },
    {
      "cell_type": "code",
      "metadata": {
        "id": "VCAWmhVwyzoR",
        "colab_type": "code",
        "colab": {
          "base_uri": "https://localhost:8080/",
          "height": 419
        },
        "outputId": "75a3e0c7-4b09-45e2-8d5c-5b75a484aade"
      },
      "source": [
        "pd.read_csv('foo.csv')"
      ],
      "execution_count": 118,
      "outputs": [
        {
          "output_type": "execute_result",
          "data": {
            "text/html": [
              "<div>\n",
              "<style scoped>\n",
              "    .dataframe tbody tr th:only-of-type {\n",
              "        vertical-align: middle;\n",
              "    }\n",
              "\n",
              "    .dataframe tbody tr th {\n",
              "        vertical-align: top;\n",
              "    }\n",
              "\n",
              "    .dataframe thead th {\n",
              "        text-align: right;\n",
              "    }\n",
              "</style>\n",
              "<table border=\"1\" class=\"dataframe\">\n",
              "  <thead>\n",
              "    <tr style=\"text-align: right;\">\n",
              "      <th></th>\n",
              "      <th>Unnamed: 0</th>\n",
              "      <th>A</th>\n",
              "      <th>B</th>\n",
              "      <th>C</th>\n",
              "      <th>D</th>\n",
              "    </tr>\n",
              "  </thead>\n",
              "  <tbody>\n",
              "    <tr>\n",
              "      <th>0</th>\n",
              "      <td>2000-01-01</td>\n",
              "      <td>0.100690</td>\n",
              "      <td>0.396721</td>\n",
              "      <td>-1.311181</td>\n",
              "      <td>-0.147225</td>\n",
              "    </tr>\n",
              "    <tr>\n",
              "      <th>1</th>\n",
              "      <td>2000-01-02</td>\n",
              "      <td>0.146343</td>\n",
              "      <td>0.630882</td>\n",
              "      <td>-1.639768</td>\n",
              "      <td>-0.592979</td>\n",
              "    </tr>\n",
              "    <tr>\n",
              "      <th>2</th>\n",
              "      <td>2000-01-03</td>\n",
              "      <td>0.268303</td>\n",
              "      <td>2.052129</td>\n",
              "      <td>-1.608493</td>\n",
              "      <td>-2.002684</td>\n",
              "    </tr>\n",
              "    <tr>\n",
              "      <th>3</th>\n",
              "      <td>2000-01-04</td>\n",
              "      <td>-0.014132</td>\n",
              "      <td>2.695989</td>\n",
              "      <td>-1.530930</td>\n",
              "      <td>-1.934440</td>\n",
              "    </tr>\n",
              "    <tr>\n",
              "      <th>4</th>\n",
              "      <td>2000-01-05</td>\n",
              "      <td>0.737235</td>\n",
              "      <td>3.273458</td>\n",
              "      <td>-1.284811</td>\n",
              "      <td>-1.145917</td>\n",
              "    </tr>\n",
              "    <tr>\n",
              "      <th>...</th>\n",
              "      <td>...</td>\n",
              "      <td>...</td>\n",
              "      <td>...</td>\n",
              "      <td>...</td>\n",
              "      <td>...</td>\n",
              "    </tr>\n",
              "    <tr>\n",
              "      <th>995</th>\n",
              "      <td>2002-09-22</td>\n",
              "      <td>6.826858</td>\n",
              "      <td>1.171605</td>\n",
              "      <td>-29.399112</td>\n",
              "      <td>14.815815</td>\n",
              "    </tr>\n",
              "    <tr>\n",
              "      <th>996</th>\n",
              "      <td>2002-09-23</td>\n",
              "      <td>6.178266</td>\n",
              "      <td>0.225850</td>\n",
              "      <td>-30.233735</td>\n",
              "      <td>16.513091</td>\n",
              "    </tr>\n",
              "    <tr>\n",
              "      <th>997</th>\n",
              "      <td>2002-09-24</td>\n",
              "      <td>3.103725</td>\n",
              "      <td>-0.800524</td>\n",
              "      <td>-31.906583</td>\n",
              "      <td>15.670370</td>\n",
              "    </tr>\n",
              "    <tr>\n",
              "      <th>998</th>\n",
              "      <td>2002-09-25</td>\n",
              "      <td>1.873075</td>\n",
              "      <td>-0.762077</td>\n",
              "      <td>-33.887645</td>\n",
              "      <td>14.610018</td>\n",
              "    </tr>\n",
              "    <tr>\n",
              "      <th>999</th>\n",
              "      <td>2002-09-26</td>\n",
              "      <td>2.905627</td>\n",
              "      <td>-1.156926</td>\n",
              "      <td>-33.835750</td>\n",
              "      <td>13.667906</td>\n",
              "    </tr>\n",
              "  </tbody>\n",
              "</table>\n",
              "<p>1000 rows × 5 columns</p>\n",
              "</div>"
            ],
            "text/plain": [
              "     Unnamed: 0         A         B          C          D\n",
              "0    2000-01-01  0.100690  0.396721  -1.311181  -0.147225\n",
              "1    2000-01-02  0.146343  0.630882  -1.639768  -0.592979\n",
              "2    2000-01-03  0.268303  2.052129  -1.608493  -2.002684\n",
              "3    2000-01-04 -0.014132  2.695989  -1.530930  -1.934440\n",
              "4    2000-01-05  0.737235  3.273458  -1.284811  -1.145917\n",
              "..          ...       ...       ...        ...        ...\n",
              "995  2002-09-22  6.826858  1.171605 -29.399112  14.815815\n",
              "996  2002-09-23  6.178266  0.225850 -30.233735  16.513091\n",
              "997  2002-09-24  3.103725 -0.800524 -31.906583  15.670370\n",
              "998  2002-09-25  1.873075 -0.762077 -33.887645  14.610018\n",
              "999  2002-09-26  2.905627 -1.156926 -33.835750  13.667906\n",
              "\n",
              "[1000 rows x 5 columns]"
            ]
          },
          "metadata": {
            "tags": []
          },
          "execution_count": 118
        }
      ]
    },
    {
      "cell_type": "markdown",
      "metadata": {
        "id": "YHoethB5y-jR",
        "colab_type": "text"
      },
      "source": [
        "*HDF5*"
      ]
    },
    {
      "cell_type": "code",
      "metadata": {
        "id": "T7PupnKOy6AB",
        "colab_type": "code",
        "colab": {}
      },
      "source": [
        "df.to_hdf('foo.h5', 'df')"
      ],
      "execution_count": 119,
      "outputs": []
    },
    {
      "cell_type": "code",
      "metadata": {
        "id": "hs9zzfDgzCHc",
        "colab_type": "code",
        "colab": {
          "base_uri": "https://localhost:8080/",
          "height": 419
        },
        "outputId": "d7e45b97-c7c2-42d9-a726-0616a7edf15f"
      },
      "source": [
        "pd.read_hdf('foo.h5', 'df')"
      ],
      "execution_count": 120,
      "outputs": [
        {
          "output_type": "execute_result",
          "data": {
            "text/html": [
              "<div>\n",
              "<style scoped>\n",
              "    .dataframe tbody tr th:only-of-type {\n",
              "        vertical-align: middle;\n",
              "    }\n",
              "\n",
              "    .dataframe tbody tr th {\n",
              "        vertical-align: top;\n",
              "    }\n",
              "\n",
              "    .dataframe thead th {\n",
              "        text-align: right;\n",
              "    }\n",
              "</style>\n",
              "<table border=\"1\" class=\"dataframe\">\n",
              "  <thead>\n",
              "    <tr style=\"text-align: right;\">\n",
              "      <th></th>\n",
              "      <th>A</th>\n",
              "      <th>B</th>\n",
              "      <th>C</th>\n",
              "      <th>D</th>\n",
              "    </tr>\n",
              "  </thead>\n",
              "  <tbody>\n",
              "    <tr>\n",
              "      <th>2000-01-01</th>\n",
              "      <td>0.100690</td>\n",
              "      <td>0.396721</td>\n",
              "      <td>-1.311181</td>\n",
              "      <td>-0.147225</td>\n",
              "    </tr>\n",
              "    <tr>\n",
              "      <th>2000-01-02</th>\n",
              "      <td>0.146343</td>\n",
              "      <td>0.630882</td>\n",
              "      <td>-1.639768</td>\n",
              "      <td>-0.592979</td>\n",
              "    </tr>\n",
              "    <tr>\n",
              "      <th>2000-01-03</th>\n",
              "      <td>0.268303</td>\n",
              "      <td>2.052129</td>\n",
              "      <td>-1.608493</td>\n",
              "      <td>-2.002684</td>\n",
              "    </tr>\n",
              "    <tr>\n",
              "      <th>2000-01-04</th>\n",
              "      <td>-0.014132</td>\n",
              "      <td>2.695989</td>\n",
              "      <td>-1.530930</td>\n",
              "      <td>-1.934440</td>\n",
              "    </tr>\n",
              "    <tr>\n",
              "      <th>2000-01-05</th>\n",
              "      <td>0.737235</td>\n",
              "      <td>3.273458</td>\n",
              "      <td>-1.284811</td>\n",
              "      <td>-1.145917</td>\n",
              "    </tr>\n",
              "    <tr>\n",
              "      <th>...</th>\n",
              "      <td>...</td>\n",
              "      <td>...</td>\n",
              "      <td>...</td>\n",
              "      <td>...</td>\n",
              "    </tr>\n",
              "    <tr>\n",
              "      <th>2002-09-22</th>\n",
              "      <td>6.826858</td>\n",
              "      <td>1.171605</td>\n",
              "      <td>-29.399112</td>\n",
              "      <td>14.815815</td>\n",
              "    </tr>\n",
              "    <tr>\n",
              "      <th>2002-09-23</th>\n",
              "      <td>6.178266</td>\n",
              "      <td>0.225850</td>\n",
              "      <td>-30.233735</td>\n",
              "      <td>16.513091</td>\n",
              "    </tr>\n",
              "    <tr>\n",
              "      <th>2002-09-24</th>\n",
              "      <td>3.103725</td>\n",
              "      <td>-0.800524</td>\n",
              "      <td>-31.906583</td>\n",
              "      <td>15.670370</td>\n",
              "    </tr>\n",
              "    <tr>\n",
              "      <th>2002-09-25</th>\n",
              "      <td>1.873075</td>\n",
              "      <td>-0.762077</td>\n",
              "      <td>-33.887645</td>\n",
              "      <td>14.610018</td>\n",
              "    </tr>\n",
              "    <tr>\n",
              "      <th>2002-09-26</th>\n",
              "      <td>2.905627</td>\n",
              "      <td>-1.156926</td>\n",
              "      <td>-33.835750</td>\n",
              "      <td>13.667906</td>\n",
              "    </tr>\n",
              "  </tbody>\n",
              "</table>\n",
              "<p>1000 rows × 4 columns</p>\n",
              "</div>"
            ],
            "text/plain": [
              "                   A         B          C          D\n",
              "2000-01-01  0.100690  0.396721  -1.311181  -0.147225\n",
              "2000-01-02  0.146343  0.630882  -1.639768  -0.592979\n",
              "2000-01-03  0.268303  2.052129  -1.608493  -2.002684\n",
              "2000-01-04 -0.014132  2.695989  -1.530930  -1.934440\n",
              "2000-01-05  0.737235  3.273458  -1.284811  -1.145917\n",
              "...              ...       ...        ...        ...\n",
              "2002-09-22  6.826858  1.171605 -29.399112  14.815815\n",
              "2002-09-23  6.178266  0.225850 -30.233735  16.513091\n",
              "2002-09-24  3.103725 -0.800524 -31.906583  15.670370\n",
              "2002-09-25  1.873075 -0.762077 -33.887645  14.610018\n",
              "2002-09-26  2.905627 -1.156926 -33.835750  13.667906\n",
              "\n",
              "[1000 rows x 4 columns]"
            ]
          },
          "metadata": {
            "tags": []
          },
          "execution_count": 120
        }
      ]
    },
    {
      "cell_type": "markdown",
      "metadata": {
        "id": "DxCTbT-yzJ7m",
        "colab_type": "text"
      },
      "source": [
        "*Excel*"
      ]
    },
    {
      "cell_type": "code",
      "metadata": {
        "id": "wldoXygKzEwW",
        "colab_type": "code",
        "colab": {}
      },
      "source": [
        "df.to_excel('foo.xlsx', sheet_name='Sheet1')"
      ],
      "execution_count": 121,
      "outputs": []
    },
    {
      "cell_type": "code",
      "metadata": {
        "id": "XwmqFBE_zM9Q",
        "colab_type": "code",
        "colab": {
          "base_uri": "https://localhost:8080/",
          "height": 419
        },
        "outputId": "a1afea75-d3cf-486d-b527-728af30fb5c2"
      },
      "source": [
        "pd.read_excel('foo.xlsx', 'Sheet1', index_col=None, na_values=['NA'])"
      ],
      "execution_count": 123,
      "outputs": [
        {
          "output_type": "execute_result",
          "data": {
            "text/html": [
              "<div>\n",
              "<style scoped>\n",
              "    .dataframe tbody tr th:only-of-type {\n",
              "        vertical-align: middle;\n",
              "    }\n",
              "\n",
              "    .dataframe tbody tr th {\n",
              "        vertical-align: top;\n",
              "    }\n",
              "\n",
              "    .dataframe thead th {\n",
              "        text-align: right;\n",
              "    }\n",
              "</style>\n",
              "<table border=\"1\" class=\"dataframe\">\n",
              "  <thead>\n",
              "    <tr style=\"text-align: right;\">\n",
              "      <th></th>\n",
              "      <th>Unnamed: 0</th>\n",
              "      <th>A</th>\n",
              "      <th>B</th>\n",
              "      <th>C</th>\n",
              "      <th>D</th>\n",
              "    </tr>\n",
              "  </thead>\n",
              "  <tbody>\n",
              "    <tr>\n",
              "      <th>0</th>\n",
              "      <td>2000-01-01</td>\n",
              "      <td>0.100690</td>\n",
              "      <td>0.396721</td>\n",
              "      <td>-1.311181</td>\n",
              "      <td>-0.147225</td>\n",
              "    </tr>\n",
              "    <tr>\n",
              "      <th>1</th>\n",
              "      <td>2000-01-02</td>\n",
              "      <td>0.146343</td>\n",
              "      <td>0.630882</td>\n",
              "      <td>-1.639768</td>\n",
              "      <td>-0.592979</td>\n",
              "    </tr>\n",
              "    <tr>\n",
              "      <th>2</th>\n",
              "      <td>2000-01-03</td>\n",
              "      <td>0.268303</td>\n",
              "      <td>2.052129</td>\n",
              "      <td>-1.608493</td>\n",
              "      <td>-2.002684</td>\n",
              "    </tr>\n",
              "    <tr>\n",
              "      <th>3</th>\n",
              "      <td>2000-01-04</td>\n",
              "      <td>-0.014132</td>\n",
              "      <td>2.695989</td>\n",
              "      <td>-1.530930</td>\n",
              "      <td>-1.934440</td>\n",
              "    </tr>\n",
              "    <tr>\n",
              "      <th>4</th>\n",
              "      <td>2000-01-05</td>\n",
              "      <td>0.737235</td>\n",
              "      <td>3.273458</td>\n",
              "      <td>-1.284811</td>\n",
              "      <td>-1.145917</td>\n",
              "    </tr>\n",
              "    <tr>\n",
              "      <th>...</th>\n",
              "      <td>...</td>\n",
              "      <td>...</td>\n",
              "      <td>...</td>\n",
              "      <td>...</td>\n",
              "      <td>...</td>\n",
              "    </tr>\n",
              "    <tr>\n",
              "      <th>995</th>\n",
              "      <td>2002-09-22</td>\n",
              "      <td>6.826858</td>\n",
              "      <td>1.171605</td>\n",
              "      <td>-29.399112</td>\n",
              "      <td>14.815815</td>\n",
              "    </tr>\n",
              "    <tr>\n",
              "      <th>996</th>\n",
              "      <td>2002-09-23</td>\n",
              "      <td>6.178266</td>\n",
              "      <td>0.225850</td>\n",
              "      <td>-30.233735</td>\n",
              "      <td>16.513091</td>\n",
              "    </tr>\n",
              "    <tr>\n",
              "      <th>997</th>\n",
              "      <td>2002-09-24</td>\n",
              "      <td>3.103725</td>\n",
              "      <td>-0.800524</td>\n",
              "      <td>-31.906583</td>\n",
              "      <td>15.670370</td>\n",
              "    </tr>\n",
              "    <tr>\n",
              "      <th>998</th>\n",
              "      <td>2002-09-25</td>\n",
              "      <td>1.873075</td>\n",
              "      <td>-0.762077</td>\n",
              "      <td>-33.887645</td>\n",
              "      <td>14.610018</td>\n",
              "    </tr>\n",
              "    <tr>\n",
              "      <th>999</th>\n",
              "      <td>2002-09-26</td>\n",
              "      <td>2.905627</td>\n",
              "      <td>-1.156926</td>\n",
              "      <td>-33.835750</td>\n",
              "      <td>13.667906</td>\n",
              "    </tr>\n",
              "  </tbody>\n",
              "</table>\n",
              "<p>1000 rows × 5 columns</p>\n",
              "</div>"
            ],
            "text/plain": [
              "    Unnamed: 0         A         B          C          D\n",
              "0   2000-01-01  0.100690  0.396721  -1.311181  -0.147225\n",
              "1   2000-01-02  0.146343  0.630882  -1.639768  -0.592979\n",
              "2   2000-01-03  0.268303  2.052129  -1.608493  -2.002684\n",
              "3   2000-01-04 -0.014132  2.695989  -1.530930  -1.934440\n",
              "4   2000-01-05  0.737235  3.273458  -1.284811  -1.145917\n",
              "..         ...       ...       ...        ...        ...\n",
              "995 2002-09-22  6.826858  1.171605 -29.399112  14.815815\n",
              "996 2002-09-23  6.178266  0.225850 -30.233735  16.513091\n",
              "997 2002-09-24  3.103725 -0.800524 -31.906583  15.670370\n",
              "998 2002-09-25  1.873075 -0.762077 -33.887645  14.610018\n",
              "999 2002-09-26  2.905627 -1.156926 -33.835750  13.667906\n",
              "\n",
              "[1000 rows x 5 columns]"
            ]
          },
          "metadata": {
            "tags": []
          },
          "execution_count": 123
        }
      ]
    },
    {
      "cell_type": "markdown",
      "metadata": {
        "id": "zUy75CylzV-j",
        "colab_type": "text"
      },
      "source": [
        "*Gotchas*"
      ]
    },
    {
      "cell_type": "code",
      "metadata": {
        "id": "SDUIG-mCzQ_M",
        "colab_type": "code",
        "colab": {
          "base_uri": "https://localhost:8080/",
          "height": 333
        },
        "outputId": "451fe043-d143-43a7-a4bc-edef92f54a30"
      },
      "source": [
        "if pd.Series([False, True, False]):\n",
        "  print(\"I was true\")"
      ],
      "execution_count": 124,
      "outputs": [
        {
          "output_type": "error",
          "ename": "ValueError",
          "evalue": "ignored",
          "traceback": [
            "\u001b[0;31m---------------------------------------------------------------------------\u001b[0m",
            "\u001b[0;31mValueError\u001b[0m                                Traceback (most recent call last)",
            "\u001b[0;32m<ipython-input-124-06fa23a4b3e2>\u001b[0m in \u001b[0;36m<module>\u001b[0;34m()\u001b[0m\n\u001b[0;32m----> 1\u001b[0;31m \u001b[0;32mif\u001b[0m \u001b[0mpd\u001b[0m\u001b[0;34m.\u001b[0m\u001b[0mSeries\u001b[0m\u001b[0;34m(\u001b[0m\u001b[0;34m[\u001b[0m\u001b[0;32mFalse\u001b[0m\u001b[0;34m,\u001b[0m \u001b[0;32mTrue\u001b[0m\u001b[0;34m,\u001b[0m \u001b[0;32mFalse\u001b[0m\u001b[0;34m]\u001b[0m\u001b[0;34m)\u001b[0m\u001b[0;34m:\u001b[0m\u001b[0;34m\u001b[0m\u001b[0;34m\u001b[0m\u001b[0m\n\u001b[0m\u001b[1;32m      2\u001b[0m   \u001b[0mprint\u001b[0m\u001b[0;34m(\u001b[0m\u001b[0;34m\"I was true\"\u001b[0m\u001b[0;34m)\u001b[0m\u001b[0;34m\u001b[0m\u001b[0;34m\u001b[0m\u001b[0m\n",
            "\u001b[0;32m/usr/local/lib/python3.6/dist-packages/pandas/core/generic.py\u001b[0m in \u001b[0;36m__nonzero__\u001b[0;34m(self)\u001b[0m\n\u001b[1;32m   1477\u001b[0m     \u001b[0;32mdef\u001b[0m \u001b[0m__nonzero__\u001b[0m\u001b[0;34m(\u001b[0m\u001b[0mself\u001b[0m\u001b[0;34m)\u001b[0m\u001b[0;34m:\u001b[0m\u001b[0;34m\u001b[0m\u001b[0;34m\u001b[0m\u001b[0m\n\u001b[1;32m   1478\u001b[0m         raise ValueError(\n\u001b[0;32m-> 1479\u001b[0;31m             \u001b[0;34mf\"The truth value of a {type(self).__name__} is ambiguous. \"\u001b[0m\u001b[0;34m\u001b[0m\u001b[0;34m\u001b[0m\u001b[0m\n\u001b[0m\u001b[1;32m   1480\u001b[0m             \u001b[0;34m\"Use a.empty, a.bool(), a.item(), a.any() or a.all().\"\u001b[0m\u001b[0;34m\u001b[0m\u001b[0;34m\u001b[0m\u001b[0m\n\u001b[1;32m   1481\u001b[0m         )\n",
            "\u001b[0;31mValueError\u001b[0m: The truth value of a Series is ambiguous. Use a.empty, a.bool(), a.item(), a.any() or a.all()."
          ]
        }
      ]
    },
    {
      "cell_type": "code",
      "metadata": {
        "id": "TWM0bVnczeJF",
        "colab_type": "code",
        "colab": {}
      },
      "source": [
        ""
      ],
      "execution_count": null,
      "outputs": []
    }
  ]
}